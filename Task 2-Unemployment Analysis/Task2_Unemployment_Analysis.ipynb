{
 "cells": [
  {
   "cell_type": "markdown",
   "id": "5b7f9722",
   "metadata": {},
   "source": [
    "#  _______________Task 3 UNEMPLOYMENT ANALYSIS ________________"
   ]
  },
  {
   "cell_type": "code",
   "execution_count": 1,
   "id": "9b1cec22",
   "metadata": {},
   "outputs": [
    {
     "name": "stdout",
     "output_type": "stream",
     "text": [
      "Defaulting to user installation because normal site-packages is not writeable\n",
      "Requirement already satisfied: plotly in c:\\programdata\\anaconda3\\lib\\site-packages (5.9.0)\n",
      "Requirement already satisfied: tenacity>=6.2.0 in c:\\programdata\\anaconda3\\lib\\site-packages (from plotly) (8.0.1)\n"
     ]
    }
   ],
   "source": [
    "!pip install plotly"
   ]
  },
  {
   "cell_type": "markdown",
   "id": "0080ad50",
   "metadata": {},
   "source": [
    "# Importing Libraries"
   ]
  },
  {
   "cell_type": "code",
   "execution_count": 1,
   "id": "a868d370",
   "metadata": {},
   "outputs": [],
   "source": [
    "import pandas as pd\n",
    "import numpy as np\n",
    "import matplotlib.pyplot as plt\n",
    "import seaborn as sns\n",
    "import plotly.express as px"
   ]
  },
  {
   "cell_type": "markdown",
   "id": "a5866718",
   "metadata": {},
   "source": [
    "# Loading Dataset"
   ]
  },
  {
   "cell_type": "code",
   "execution_count": 2,
   "id": "b901a55c",
   "metadata": {},
   "outputs": [
    {
     "data": {
      "text/html": [
       "<div>\n",
       "<style scoped>\n",
       "    .dataframe tbody tr th:only-of-type {\n",
       "        vertical-align: middle;\n",
       "    }\n",
       "\n",
       "    .dataframe tbody tr th {\n",
       "        vertical-align: top;\n",
       "    }\n",
       "\n",
       "    .dataframe thead th {\n",
       "        text-align: right;\n",
       "    }\n",
       "</style>\n",
       "<table border=\"1\" class=\"dataframe\">\n",
       "  <thead>\n",
       "    <tr style=\"text-align: right;\">\n",
       "      <th></th>\n",
       "      <th>Region</th>\n",
       "      <th>Date</th>\n",
       "      <th>Frequency</th>\n",
       "      <th>Estimated Unemployment Rate (%)</th>\n",
       "      <th>Estimated Employed</th>\n",
       "      <th>Estimated Labour Participation Rate (%)</th>\n",
       "      <th>Region.1</th>\n",
       "      <th>longitude</th>\n",
       "      <th>latitude</th>\n",
       "    </tr>\n",
       "  </thead>\n",
       "  <tbody>\n",
       "    <tr>\n",
       "      <th>0</th>\n",
       "      <td>Andhra Pradesh</td>\n",
       "      <td>31-01-2020</td>\n",
       "      <td>M</td>\n",
       "      <td>5.48</td>\n",
       "      <td>16635535</td>\n",
       "      <td>41.02</td>\n",
       "      <td>South</td>\n",
       "      <td>15.9129</td>\n",
       "      <td>79.74</td>\n",
       "    </tr>\n",
       "    <tr>\n",
       "      <th>1</th>\n",
       "      <td>Andhra Pradesh</td>\n",
       "      <td>29-02-2020</td>\n",
       "      <td>M</td>\n",
       "      <td>5.83</td>\n",
       "      <td>16545652</td>\n",
       "      <td>40.90</td>\n",
       "      <td>South</td>\n",
       "      <td>15.9129</td>\n",
       "      <td>79.74</td>\n",
       "    </tr>\n",
       "    <tr>\n",
       "      <th>2</th>\n",
       "      <td>Andhra Pradesh</td>\n",
       "      <td>31-03-2020</td>\n",
       "      <td>M</td>\n",
       "      <td>5.79</td>\n",
       "      <td>15881197</td>\n",
       "      <td>39.18</td>\n",
       "      <td>South</td>\n",
       "      <td>15.9129</td>\n",
       "      <td>79.74</td>\n",
       "    </tr>\n",
       "    <tr>\n",
       "      <th>3</th>\n",
       "      <td>Andhra Pradesh</td>\n",
       "      <td>30-04-2020</td>\n",
       "      <td>M</td>\n",
       "      <td>20.51</td>\n",
       "      <td>11336911</td>\n",
       "      <td>33.10</td>\n",
       "      <td>South</td>\n",
       "      <td>15.9129</td>\n",
       "      <td>79.74</td>\n",
       "    </tr>\n",
       "    <tr>\n",
       "      <th>4</th>\n",
       "      <td>Andhra Pradesh</td>\n",
       "      <td>31-05-2020</td>\n",
       "      <td>M</td>\n",
       "      <td>17.43</td>\n",
       "      <td>12988845</td>\n",
       "      <td>36.46</td>\n",
       "      <td>South</td>\n",
       "      <td>15.9129</td>\n",
       "      <td>79.74</td>\n",
       "    </tr>\n",
       "  </tbody>\n",
       "</table>\n",
       "</div>"
      ],
      "text/plain": [
       "           Region         Date  Frequency   Estimated Unemployment Rate (%)  \\\n",
       "0  Andhra Pradesh   31-01-2020          M                              5.48   \n",
       "1  Andhra Pradesh   29-02-2020          M                              5.83   \n",
       "2  Andhra Pradesh   31-03-2020          M                              5.79   \n",
       "3  Andhra Pradesh   30-04-2020          M                             20.51   \n",
       "4  Andhra Pradesh   31-05-2020          M                             17.43   \n",
       "\n",
       "    Estimated Employed   Estimated Labour Participation Rate (%) Region.1  \\\n",
       "0             16635535                                     41.02    South   \n",
       "1             16545652                                     40.90    South   \n",
       "2             15881197                                     39.18    South   \n",
       "3             11336911                                     33.10    South   \n",
       "4             12988845                                     36.46    South   \n",
       "\n",
       "   longitude  latitude  \n",
       "0    15.9129     79.74  \n",
       "1    15.9129     79.74  \n",
       "2    15.9129     79.74  \n",
       "3    15.9129     79.74  \n",
       "4    15.9129     79.74  "
      ]
     },
     "execution_count": 2,
     "metadata": {},
     "output_type": "execute_result"
    }
   ],
   "source": [
    "df=pd.read_csv(\"Unemployment_Rate_upto_11_2020.csv\")\n",
    "df.head()"
   ]
  },
  {
   "cell_type": "markdown",
   "id": "cf467b62",
   "metadata": {},
   "source": [
    "# Preprocessing:"
   ]
  },
  {
   "cell_type": "markdown",
   "id": "3c5e47ac",
   "metadata": {},
   "source": [
    "**Histogram**"
   ]
  },
  {
   "cell_type": "code",
   "execution_count": 3,
   "id": "9f17d448",
   "metadata": {},
   "outputs": [
    {
     "data": {
      "text/plain": [
       "array([[<AxesSubplot:title={'center':' Estimated Unemployment Rate (%)'}>,\n",
       "        <AxesSubplot:title={'center':' Estimated Employed'}>],\n",
       "       [<AxesSubplot:title={'center':' Estimated Labour Participation Rate (%)'}>,\n",
       "        <AxesSubplot:title={'center':'longitude'}>],\n",
       "       [<AxesSubplot:title={'center':'latitude'}>, <AxesSubplot:>]],\n",
       "      dtype=object)"
      ]
     },
     "execution_count": 3,
     "metadata": {},
     "output_type": "execute_result"
    },
    {
     "data": {
      "image/png": "[encoded data removed]",
      "text/plain": [
       "<Figure size 640x480 with 6 Axes>"
      ]
     },
     "metadata": {},
     "output_type": "display_data"
    }
   ],
   "source": [
    "df.hist()"
   ]
  },
  {
   "cell_type": "markdown",
   "id": "04ced38b",
   "metadata": {},
   "source": [
    "**Pairplot**"
   ]
  },
  {
   "cell_type": "code",
   "execution_count": 4,
   "id": "879f9555",
   "metadata": {},
   "outputs": [
    {
     "name": "stdout",
     "output_type": "stream",
     "text": [
      "<seaborn.axisgrid.PairGrid object at 0x000001F7043ED4F0>\n"
     ]
    },
    {
     "data": {
      "image/png": "[encoded data removed]",
      "text/plain": [
       "<Figure size 1250x1250 with 30 Axes>"
      ]
     },
     "metadata": {},
     "output_type": "display_data"
    }
   ],
   "source": [
    "print(sns.pairplot(df))"
   ]
  },
  {
   "cell_type": "code",
   "execution_count": 6,
   "id": "76b926b6",
   "metadata": {},
   "outputs": [
    {
     "data": {
      "text/html": [
       "<div>\n",
       "<style scoped>\n",
       "    .dataframe tbody tr th:only-of-type {\n",
       "        vertical-align: middle;\n",
       "    }\n",
       "\n",
       "    .dataframe tbody tr th {\n",
       "        vertical-align: top;\n",
       "    }\n",
       "\n",
       "    .dataframe thead th {\n",
       "        text-align: right;\n",
       "    }\n",
       "</style>\n",
       "<table border=\"1\" class=\"dataframe\">\n",
       "  <thead>\n",
       "    <tr style=\"text-align: right;\">\n",
       "      <th></th>\n",
       "      <th>Estimated Unemployment Rate (%)</th>\n",
       "      <th>Estimated Employed</th>\n",
       "      <th>Estimated Labour Participation Rate (%)</th>\n",
       "      <th>longitude</th>\n",
       "      <th>latitude</th>\n",
       "    </tr>\n",
       "  </thead>\n",
       "  <tbody>\n",
       "    <tr>\n",
       "      <th>count</th>\n",
       "      <td>267.000000</td>\n",
       "      <td>2.670000e+02</td>\n",
       "      <td>267.000000</td>\n",
       "      <td>267.000000</td>\n",
       "      <td>267.000000</td>\n",
       "    </tr>\n",
       "    <tr>\n",
       "      <th>mean</th>\n",
       "      <td>12.236929</td>\n",
       "      <td>1.396211e+07</td>\n",
       "      <td>41.681573</td>\n",
       "      <td>22.826048</td>\n",
       "      <td>80.532425</td>\n",
       "    </tr>\n",
       "    <tr>\n",
       "      <th>std</th>\n",
       "      <td>10.803283</td>\n",
       "      <td>1.336632e+07</td>\n",
       "      <td>7.845419</td>\n",
       "      <td>6.270731</td>\n",
       "      <td>5.831738</td>\n",
       "    </tr>\n",
       "    <tr>\n",
       "      <th>min</th>\n",
       "      <td>0.500000</td>\n",
       "      <td>1.175420e+05</td>\n",
       "      <td>16.770000</td>\n",
       "      <td>10.850500</td>\n",
       "      <td>71.192400</td>\n",
       "    </tr>\n",
       "    <tr>\n",
       "      <th>25%</th>\n",
       "      <td>4.845000</td>\n",
       "      <td>2.838930e+06</td>\n",
       "      <td>37.265000</td>\n",
       "      <td>18.112400</td>\n",
       "      <td>76.085600</td>\n",
       "    </tr>\n",
       "    <tr>\n",
       "      <th>50%</th>\n",
       "      <td>9.650000</td>\n",
       "      <td>9.732417e+06</td>\n",
       "      <td>40.390000</td>\n",
       "      <td>23.610200</td>\n",
       "      <td>79.019300</td>\n",
       "    </tr>\n",
       "    <tr>\n",
       "      <th>75%</th>\n",
       "      <td>16.755000</td>\n",
       "      <td>2.187869e+07</td>\n",
       "      <td>44.055000</td>\n",
       "      <td>27.278400</td>\n",
       "      <td>85.279900</td>\n",
       "    </tr>\n",
       "    <tr>\n",
       "      <th>max</th>\n",
       "      <td>75.850000</td>\n",
       "      <td>5.943376e+07</td>\n",
       "      <td>69.690000</td>\n",
       "      <td>33.778200</td>\n",
       "      <td>92.937600</td>\n",
       "    </tr>\n",
       "  </tbody>\n",
       "</table>\n",
       "</div>"
      ],
      "text/plain": [
       "        Estimated Unemployment Rate (%)   Estimated Employed  \\\n",
       "count                        267.000000         2.670000e+02   \n",
       "mean                          12.236929         1.396211e+07   \n",
       "std                           10.803283         1.336632e+07   \n",
       "min                            0.500000         1.175420e+05   \n",
       "25%                            4.845000         2.838930e+06   \n",
       "50%                            9.650000         9.732417e+06   \n",
       "75%                           16.755000         2.187869e+07   \n",
       "max                           75.850000         5.943376e+07   \n",
       "\n",
       "        Estimated Labour Participation Rate (%)   longitude    latitude  \n",
       "count                                267.000000  267.000000  267.000000  \n",
       "mean                                  41.681573   22.826048   80.532425  \n",
       "std                                    7.845419    6.270731    5.831738  \n",
       "min                                   16.770000   10.850500   71.192400  \n",
       "25%                                   37.265000   18.112400   76.085600  \n",
       "50%                                   40.390000   23.610200   79.019300  \n",
       "75%                                   44.055000   27.278400   85.279900  \n",
       "max                                   69.690000   33.778200   92.937600  "
      ]
     },
     "execution_count": 6,
     "metadata": {},
     "output_type": "execute_result"
    }
   ],
   "source": [
    "df.describe()"
   ]
  },
  {
   "cell_type": "markdown",
   "id": "3bd1a162",
   "metadata": {},
   "source": [
    "#  Displaying a concise summary of information about the DataFrame:"
   ]
  },
  {
   "cell_type": "code",
   "execution_count": 7,
   "id": "b5c0c546",
   "metadata": {},
   "outputs": [
    {
     "name": "stdout",
     "output_type": "stream",
     "text": [
      "<class 'pandas.core.frame.DataFrame'>\n",
      "RangeIndex: 267 entries, 0 to 266\n",
      "Data columns (total 9 columns):\n",
      " #   Column                                    Non-Null Count  Dtype  \n",
      "---  ------                                    --------------  -----  \n",
      " 0   Region                                    267 non-null    object \n",
      " 1    Date                                     267 non-null    object \n",
      " 2    Frequency                                267 non-null    object \n",
      " 3    Estimated Unemployment Rate (%)          267 non-null    float64\n",
      " 4    Estimated Employed                       267 non-null    int64  \n",
      " 5    Estimated Labour Participation Rate (%)  267 non-null    float64\n",
      " 6   Region.1                                  267 non-null    object \n",
      " 7   longitude                                 267 non-null    float64\n",
      " 8   latitude                                  267 non-null    float64\n",
      "dtypes: float64(4), int64(1), object(4)\n",
      "memory usage: 18.9+ KB\n"
     ]
    }
   ],
   "source": [
    "df.info()"
   ]
  },
  {
   "cell_type": "code",
   "execution_count": 8,
   "id": "4cb342c6",
   "metadata": {},
   "outputs": [
    {
     "data": {
      "text/plain": [
       "(267, 9)"
      ]
     },
     "execution_count": 8,
     "metadata": {},
     "output_type": "execute_result"
    }
   ],
   "source": [
    "df.shape"
   ]
  },
  {
   "cell_type": "code",
   "execution_count": 9,
   "id": "5c4ccc1e",
   "metadata": {},
   "outputs": [
    {
     "data": {
      "text/plain": [
       "Index(['Region', ' Date', ' Frequency', ' Estimated Unemployment Rate (%)',\n",
       "       ' Estimated Employed', ' Estimated Labour Participation Rate (%)',\n",
       "       'Region.1', 'longitude', 'latitude'],\n",
       "      dtype='object')"
      ]
     },
     "execution_count": 9,
     "metadata": {},
     "output_type": "execute_result"
    }
   ],
   "source": [
    "df.columns"
   ]
  },
  {
   "cell_type": "code",
   "execution_count": 10,
   "id": "5fd0d5f3",
   "metadata": {},
   "outputs": [
    {
     "data": {
      "text/plain": [
       "Region                                       object\n",
       " Date                                        object\n",
       " Frequency                                   object\n",
       " Estimated Unemployment Rate (%)            float64\n",
       " Estimated Employed                           int64\n",
       " Estimated Labour Participation Rate (%)    float64\n",
       "Region.1                                     object\n",
       "longitude                                   float64\n",
       "latitude                                    float64\n",
       "dtype: object"
      ]
     },
     "execution_count": 10,
     "metadata": {},
     "output_type": "execute_result"
    }
   ],
   "source": [
    "df.dtypes"
   ]
  },
  {
   "cell_type": "code",
   "execution_count": 11,
   "id": "d42bdb9c",
   "metadata": {},
   "outputs": [
    {
     "data": {
      "text/html": [
       "<div>\n",
       "<style scoped>\n",
       "    .dataframe tbody tr th:only-of-type {\n",
       "        vertical-align: middle;\n",
       "    }\n",
       "\n",
       "    .dataframe tbody tr th {\n",
       "        vertical-align: top;\n",
       "    }\n",
       "\n",
       "    .dataframe thead th {\n",
       "        text-align: right;\n",
       "    }\n",
       "</style>\n",
       "<table border=\"1\" class=\"dataframe\">\n",
       "  <thead>\n",
       "    <tr style=\"text-align: right;\">\n",
       "      <th></th>\n",
       "      <th>Estimated Unemployment Rate (%)</th>\n",
       "      <th>Estimated Employed</th>\n",
       "      <th>Estimated Labour Participation Rate (%)</th>\n",
       "      <th>longitude</th>\n",
       "      <th>latitude</th>\n",
       "    </tr>\n",
       "  </thead>\n",
       "  <tbody>\n",
       "    <tr>\n",
       "      <th>Estimated Unemployment Rate (%)</th>\n",
       "      <td>1.000000</td>\n",
       "      <td>-0.245176</td>\n",
       "      <td>-0.073540</td>\n",
       "      <td>0.149976</td>\n",
       "      <td>-0.023976</td>\n",
       "    </tr>\n",
       "    <tr>\n",
       "      <th>Estimated Employed</th>\n",
       "      <td>-0.245176</td>\n",
       "      <td>1.000000</td>\n",
       "      <td>-0.047948</td>\n",
       "      <td>-0.113664</td>\n",
       "      <td>-0.119321</td>\n",
       "    </tr>\n",
       "    <tr>\n",
       "      <th>Estimated Labour Participation Rate (%)</th>\n",
       "      <td>-0.073540</td>\n",
       "      <td>-0.047948</td>\n",
       "      <td>1.000000</td>\n",
       "      <td>0.080372</td>\n",
       "      <td>0.397836</td>\n",
       "    </tr>\n",
       "    <tr>\n",
       "      <th>longitude</th>\n",
       "      <td>0.149976</td>\n",
       "      <td>-0.113664</td>\n",
       "      <td>0.080372</td>\n",
       "      <td>1.000000</td>\n",
       "      <td>0.125895</td>\n",
       "    </tr>\n",
       "    <tr>\n",
       "      <th>latitude</th>\n",
       "      <td>-0.023976</td>\n",
       "      <td>-0.119321</td>\n",
       "      <td>0.397836</td>\n",
       "      <td>0.125895</td>\n",
       "      <td>1.000000</td>\n",
       "    </tr>\n",
       "  </tbody>\n",
       "</table>\n",
       "</div>"
      ],
      "text/plain": [
       "                                           Estimated Unemployment Rate (%)  \\\n",
       " Estimated Unemployment Rate (%)                                  1.000000   \n",
       " Estimated Employed                                              -0.245176   \n",
       " Estimated Labour Participation Rate (%)                         -0.073540   \n",
       "longitude                                                         0.149976   \n",
       "latitude                                                         -0.023976   \n",
       "\n",
       "                                           Estimated Employed  \\\n",
       " Estimated Unemployment Rate (%)                    -0.245176   \n",
       " Estimated Employed                                  1.000000   \n",
       " Estimated Labour Participation Rate (%)            -0.047948   \n",
       "longitude                                           -0.113664   \n",
       "latitude                                            -0.119321   \n",
       "\n",
       "                                           Estimated Labour Participation Rate (%)  \\\n",
       " Estimated Unemployment Rate (%)                                         -0.073540   \n",
       " Estimated Employed                                                      -0.047948   \n",
       " Estimated Labour Participation Rate (%)                                  1.000000   \n",
       "longitude                                                                 0.080372   \n",
       "latitude                                                                  0.397836   \n",
       "\n",
       "                                          longitude  latitude  \n",
       " Estimated Unemployment Rate (%)           0.149976 -0.023976  \n",
       " Estimated Employed                       -0.113664 -0.119321  \n",
       " Estimated Labour Participation Rate (%)   0.080372  0.397836  \n",
       "longitude                                  1.000000  0.125895  \n",
       "latitude                                   0.125895  1.000000  "
      ]
     },
     "execution_count": 11,
     "metadata": {},
     "output_type": "execute_result"
    }
   ],
   "source": [
    "df.corr()"
   ]
  },
  {
   "cell_type": "markdown",
   "id": "ae7108b3",
   "metadata": {},
   "source": [
    "**HeatMap:** ***Heatmaps are commonly used to visualize matrices or tables of data, where each cell's color intensity corresponds to the value of that cell.***"
   ]
  },
  {
   "cell_type": "code",
   "execution_count": 14,
   "id": "e23481ef",
   "metadata": {},
   "outputs": [
    {
     "data": {
      "image/png": "[encoded data removed]",
      "text/plain": [
       "<Figure size 1000x1000 with 2 Axes>"
      ]
     },
     "metadata": {},
     "output_type": "display_data"
    }
   ],
   "source": [
    "plt.figure(figsize = (10,10))\n",
    "corr = sns.heatmap(df.corr(), annot=True,cmap=\"Blues\",linewidths=2)"
   ]
  },
  {
   "cell_type": "code",
   "execution_count": 15,
   "id": "de42cdd5",
   "metadata": {},
   "outputs": [],
   "source": [
    "df.drop(columns=[' Frequency'],axis=1,inplace=True)"
   ]
  },
  {
   "cell_type": "code",
   "execution_count": 16,
   "id": "0f35f7ad",
   "metadata": {},
   "outputs": [
    {
     "data": {
      "text/html": [
       "<div>\n",
       "<style scoped>\n",
       "    .dataframe tbody tr th:only-of-type {\n",
       "        vertical-align: middle;\n",
       "    }\n",
       "\n",
       "    .dataframe tbody tr th {\n",
       "        vertical-align: top;\n",
       "    }\n",
       "\n",
       "    .dataframe thead th {\n",
       "        text-align: right;\n",
       "    }\n",
       "</style>\n",
       "<table border=\"1\" class=\"dataframe\">\n",
       "  <thead>\n",
       "    <tr style=\"text-align: right;\">\n",
       "      <th></th>\n",
       "      <th>Region</th>\n",
       "      <th>Date</th>\n",
       "      <th>Estimated Unemployment Rate (%)</th>\n",
       "      <th>Estimated Employed</th>\n",
       "      <th>Estimated Labour Participation Rate (%)</th>\n",
       "      <th>Region.1</th>\n",
       "      <th>longitude</th>\n",
       "      <th>latitude</th>\n",
       "    </tr>\n",
       "  </thead>\n",
       "  <tbody>\n",
       "    <tr>\n",
       "      <th>0</th>\n",
       "      <td>Andhra Pradesh</td>\n",
       "      <td>31-01-2020</td>\n",
       "      <td>5.48</td>\n",
       "      <td>16635535</td>\n",
       "      <td>41.02</td>\n",
       "      <td>South</td>\n",
       "      <td>15.9129</td>\n",
       "      <td>79.74</td>\n",
       "    </tr>\n",
       "    <tr>\n",
       "      <th>1</th>\n",
       "      <td>Andhra Pradesh</td>\n",
       "      <td>29-02-2020</td>\n",
       "      <td>5.83</td>\n",
       "      <td>16545652</td>\n",
       "      <td>40.90</td>\n",
       "      <td>South</td>\n",
       "      <td>15.9129</td>\n",
       "      <td>79.74</td>\n",
       "    </tr>\n",
       "    <tr>\n",
       "      <th>2</th>\n",
       "      <td>Andhra Pradesh</td>\n",
       "      <td>31-03-2020</td>\n",
       "      <td>5.79</td>\n",
       "      <td>15881197</td>\n",
       "      <td>39.18</td>\n",
       "      <td>South</td>\n",
       "      <td>15.9129</td>\n",
       "      <td>79.74</td>\n",
       "    </tr>\n",
       "    <tr>\n",
       "      <th>3</th>\n",
       "      <td>Andhra Pradesh</td>\n",
       "      <td>30-04-2020</td>\n",
       "      <td>20.51</td>\n",
       "      <td>11336911</td>\n",
       "      <td>33.10</td>\n",
       "      <td>South</td>\n",
       "      <td>15.9129</td>\n",
       "      <td>79.74</td>\n",
       "    </tr>\n",
       "    <tr>\n",
       "      <th>4</th>\n",
       "      <td>Andhra Pradesh</td>\n",
       "      <td>31-05-2020</td>\n",
       "      <td>17.43</td>\n",
       "      <td>12988845</td>\n",
       "      <td>36.46</td>\n",
       "      <td>South</td>\n",
       "      <td>15.9129</td>\n",
       "      <td>79.74</td>\n",
       "    </tr>\n",
       "  </tbody>\n",
       "</table>\n",
       "</div>"
      ],
      "text/plain": [
       "           Region         Date   Estimated Unemployment Rate (%)  \\\n",
       "0  Andhra Pradesh   31-01-2020                              5.48   \n",
       "1  Andhra Pradesh   29-02-2020                              5.83   \n",
       "2  Andhra Pradesh   31-03-2020                              5.79   \n",
       "3  Andhra Pradesh   30-04-2020                             20.51   \n",
       "4  Andhra Pradesh   31-05-2020                             17.43   \n",
       "\n",
       "    Estimated Employed   Estimated Labour Participation Rate (%) Region.1  \\\n",
       "0             16635535                                     41.02    South   \n",
       "1             16545652                                     40.90    South   \n",
       "2             15881197                                     39.18    South   \n",
       "3             11336911                                     33.10    South   \n",
       "4             12988845                                     36.46    South   \n",
       "\n",
       "   longitude  latitude  \n",
       "0    15.9129     79.74  \n",
       "1    15.9129     79.74  \n",
       "2    15.9129     79.74  \n",
       "3    15.9129     79.74  \n",
       "4    15.9129     79.74  "
      ]
     },
     "execution_count": 16,
     "metadata": {},
     "output_type": "execute_result"
    }
   ],
   "source": [
    "df[:5]"
   ]
  },
  {
   "cell_type": "markdown",
   "id": "6e89ce36",
   "metadata": {},
   "source": [
    "#  Data Visualisation"
   ]
  },
  {
   "cell_type": "code",
   "execution_count": 56,
   "id": "fc0ae161",
   "metadata": {},
   "outputs": [
    {
     "name": "stdout",
     "output_type": "stream",
     "text": [
      "This histplot shows regionwise count of Estimated Unemployment Rate(%)\n"
     ]
    },
    {
     "data": {
      "image/png": "[encoded data removed]",
      "text/plain": [
       "<Figure size 1000x1000 with 1 Axes>"
      ]
     },
     "metadata": {},
     "output_type": "display_data"
    }
   ],
   "source": [
    "plt.figure(figsize=(10,10))\n",
    "plt.title(\"Unemployment in india\")\n",
    "sns.histplot(x=' Estimated Unemployment Rate (%)',hue= \"Region\", data=df,kde=False)\n",
    "print(\"This histplot shows regionwise count of Estimated Unemployment Rate(%)\")\n",
    "plt.show()"
   ]
  },
  {
   "cell_type": "code",
   "execution_count": 23,
   "id": "0ec09def",
   "metadata": {},
   "outputs": [
    {
     "data": {
      "text/html": [
       "<div>\n",
       "<style scoped>\n",
       "    .dataframe tbody tr th:only-of-type {\n",
       "        vertical-align: middle;\n",
       "    }\n",
       "\n",
       "    .dataframe tbody tr th {\n",
       "        vertical-align: top;\n",
       "    }\n",
       "\n",
       "    .dataframe thead th {\n",
       "        text-align: right;\n",
       "    }\n",
       "</style>\n",
       "<table border=\"1\" class=\"dataframe\">\n",
       "  <thead>\n",
       "    <tr style=\"text-align: right;\">\n",
       "      <th></th>\n",
       "      <th>Region</th>\n",
       "      <th>Date</th>\n",
       "      <th>Estimated Unemployment Rate (%)</th>\n",
       "      <th>Estimated Employed</th>\n",
       "      <th>Estimated Labour Participation Rate (%)</th>\n",
       "      <th>Region.1</th>\n",
       "      <th>longitude</th>\n",
       "      <th>latitude</th>\n",
       "      <th>day</th>\n",
       "      <th>month</th>\n",
       "      <th>year</th>\n",
       "    </tr>\n",
       "  </thead>\n",
       "  <tbody>\n",
       "    <tr>\n",
       "      <th>0</th>\n",
       "      <td>Andhra Pradesh</td>\n",
       "      <td>31-01-2020</td>\n",
       "      <td>5.48</td>\n",
       "      <td>16635535</td>\n",
       "      <td>41.02</td>\n",
       "      <td>South</td>\n",
       "      <td>15.9129</td>\n",
       "      <td>79.740</td>\n",
       "      <td>31</td>\n",
       "      <td>01</td>\n",
       "      <td>2020</td>\n",
       "    </tr>\n",
       "    <tr>\n",
       "      <th>1</th>\n",
       "      <td>Andhra Pradesh</td>\n",
       "      <td>29-02-2020</td>\n",
       "      <td>5.83</td>\n",
       "      <td>16545652</td>\n",
       "      <td>40.90</td>\n",
       "      <td>South</td>\n",
       "      <td>15.9129</td>\n",
       "      <td>79.740</td>\n",
       "      <td>29</td>\n",
       "      <td>02</td>\n",
       "      <td>2020</td>\n",
       "    </tr>\n",
       "    <tr>\n",
       "      <th>2</th>\n",
       "      <td>Andhra Pradesh</td>\n",
       "      <td>31-03-2020</td>\n",
       "      <td>5.79</td>\n",
       "      <td>15881197</td>\n",
       "      <td>39.18</td>\n",
       "      <td>South</td>\n",
       "      <td>15.9129</td>\n",
       "      <td>79.740</td>\n",
       "      <td>31</td>\n",
       "      <td>03</td>\n",
       "      <td>2020</td>\n",
       "    </tr>\n",
       "    <tr>\n",
       "      <th>3</th>\n",
       "      <td>Andhra Pradesh</td>\n",
       "      <td>30-04-2020</td>\n",
       "      <td>20.51</td>\n",
       "      <td>11336911</td>\n",
       "      <td>33.10</td>\n",
       "      <td>South</td>\n",
       "      <td>15.9129</td>\n",
       "      <td>79.740</td>\n",
       "      <td>30</td>\n",
       "      <td>04</td>\n",
       "      <td>2020</td>\n",
       "    </tr>\n",
       "    <tr>\n",
       "      <th>4</th>\n",
       "      <td>Andhra Pradesh</td>\n",
       "      <td>31-05-2020</td>\n",
       "      <td>17.43</td>\n",
       "      <td>12988845</td>\n",
       "      <td>36.46</td>\n",
       "      <td>South</td>\n",
       "      <td>15.9129</td>\n",
       "      <td>79.740</td>\n",
       "      <td>31</td>\n",
       "      <td>05</td>\n",
       "      <td>2020</td>\n",
       "    </tr>\n",
       "    <tr>\n",
       "      <th>...</th>\n",
       "      <td>...</td>\n",
       "      <td>...</td>\n",
       "      <td>...</td>\n",
       "      <td>...</td>\n",
       "      <td>...</td>\n",
       "      <td>...</td>\n",
       "      <td>...</td>\n",
       "      <td>...</td>\n",
       "      <td>...</td>\n",
       "      <td>...</td>\n",
       "      <td>...</td>\n",
       "    </tr>\n",
       "    <tr>\n",
       "      <th>262</th>\n",
       "      <td>West Bengal</td>\n",
       "      <td>30-06-2020</td>\n",
       "      <td>7.29</td>\n",
       "      <td>30726310</td>\n",
       "      <td>40.39</td>\n",
       "      <td>East</td>\n",
       "      <td>22.9868</td>\n",
       "      <td>87.855</td>\n",
       "      <td>30</td>\n",
       "      <td>06</td>\n",
       "      <td>2020</td>\n",
       "    </tr>\n",
       "    <tr>\n",
       "      <th>263</th>\n",
       "      <td>West Bengal</td>\n",
       "      <td>31-07-2020</td>\n",
       "      <td>6.83</td>\n",
       "      <td>35372506</td>\n",
       "      <td>46.17</td>\n",
       "      <td>East</td>\n",
       "      <td>22.9868</td>\n",
       "      <td>87.855</td>\n",
       "      <td>31</td>\n",
       "      <td>07</td>\n",
       "      <td>2020</td>\n",
       "    </tr>\n",
       "    <tr>\n",
       "      <th>264</th>\n",
       "      <td>West Bengal</td>\n",
       "      <td>31-08-2020</td>\n",
       "      <td>14.87</td>\n",
       "      <td>33298644</td>\n",
       "      <td>47.48</td>\n",
       "      <td>East</td>\n",
       "      <td>22.9868</td>\n",
       "      <td>87.855</td>\n",
       "      <td>31</td>\n",
       "      <td>08</td>\n",
       "      <td>2020</td>\n",
       "    </tr>\n",
       "    <tr>\n",
       "      <th>265</th>\n",
       "      <td>West Bengal</td>\n",
       "      <td>30-09-2020</td>\n",
       "      <td>9.35</td>\n",
       "      <td>35707239</td>\n",
       "      <td>47.73</td>\n",
       "      <td>East</td>\n",
       "      <td>22.9868</td>\n",
       "      <td>87.855</td>\n",
       "      <td>30</td>\n",
       "      <td>09</td>\n",
       "      <td>2020</td>\n",
       "    </tr>\n",
       "    <tr>\n",
       "      <th>266</th>\n",
       "      <td>West Bengal</td>\n",
       "      <td>31-10-2020</td>\n",
       "      <td>9.98</td>\n",
       "      <td>33962549</td>\n",
       "      <td>45.63</td>\n",
       "      <td>East</td>\n",
       "      <td>22.9868</td>\n",
       "      <td>87.855</td>\n",
       "      <td>31</td>\n",
       "      <td>10</td>\n",
       "      <td>2020</td>\n",
       "    </tr>\n",
       "  </tbody>\n",
       "</table>\n",
       "<p>267 rows × 11 columns</p>\n",
       "</div>"
      ],
      "text/plain": [
       "             Region         Date   Estimated Unemployment Rate (%)  \\\n",
       "0    Andhra Pradesh   31-01-2020                              5.48   \n",
       "1    Andhra Pradesh   29-02-2020                              5.83   \n",
       "2    Andhra Pradesh   31-03-2020                              5.79   \n",
       "3    Andhra Pradesh   30-04-2020                             20.51   \n",
       "4    Andhra Pradesh   31-05-2020                             17.43   \n",
       "..              ...          ...                               ...   \n",
       "262     West Bengal   30-06-2020                              7.29   \n",
       "263     West Bengal   31-07-2020                              6.83   \n",
       "264     West Bengal   31-08-2020                             14.87   \n",
       "265     West Bengal   30-09-2020                              9.35   \n",
       "266     West Bengal   31-10-2020                              9.98   \n",
       "\n",
       "      Estimated Employed   Estimated Labour Participation Rate (%) Region.1  \\\n",
       "0               16635535                                     41.02    South   \n",
       "1               16545652                                     40.90    South   \n",
       "2               15881197                                     39.18    South   \n",
       "3               11336911                                     33.10    South   \n",
       "4               12988845                                     36.46    South   \n",
       "..                   ...                                       ...      ...   \n",
       "262             30726310                                     40.39     East   \n",
       "263             35372506                                     46.17     East   \n",
       "264             33298644                                     47.48     East   \n",
       "265             35707239                                     47.73     East   \n",
       "266             33962549                                     45.63     East   \n",
       "\n",
       "     longitude  latitude  day month  year  \n",
       "0      15.9129    79.740   31    01  2020  \n",
       "1      15.9129    79.740   29    02  2020  \n",
       "2      15.9129    79.740   31    03  2020  \n",
       "3      15.9129    79.740   30    04  2020  \n",
       "4      15.9129    79.740   31    05  2020  \n",
       "..         ...       ...  ...   ...   ...  \n",
       "262    22.9868    87.855   30    06  2020  \n",
       "263    22.9868    87.855   31    07  2020  \n",
       "264    22.9868    87.855   31    08  2020  \n",
       "265    22.9868    87.855   30    09  2020  \n",
       "266    22.9868    87.855   31    10  2020  \n",
       "\n",
       "[267 rows x 11 columns]"
      ]
     },
     "execution_count": 23,
     "metadata": {},
     "output_type": "execute_result"
    }
   ],
   "source": [
    "df[[\"day\", \"month\", \"year\"]] = df[' Date'].str.split(\"-\", expand = True)\n",
    "df"
   ]
  },
  {
   "cell_type": "code",
   "execution_count": 24,
   "id": "98653e70",
   "metadata": {},
   "outputs": [
    {
     "data": {
      "text/plain": [
       "array(['01', '02', '03', '04', '05', '06', '07', '08', '09', '10'],\n",
       "      dtype=object)"
      ]
     },
     "execution_count": 24,
     "metadata": {},
     "output_type": "execute_result"
    }
   ],
   "source": [
    "df.month.unique()"
   ]
  },
  {
   "cell_type": "code",
   "execution_count": 36,
   "id": "f66325d4",
   "metadata": {},
   "outputs": [
    {
     "data": {
      "text/plain": [
       "<AxesSubplot:xlabel='year', ylabel=' Estimated Unemployment Rate (%)'>"
      ]
     },
     "execution_count": 36,
     "metadata": {},
     "output_type": "execute_result"
    },
    {
     "data": {
      "image/png": "[encoded data removed]",
      "text/plain": [
       "<Figure size 640x480 with 1 Axes>"
      ]
     },
     "metadata": {},
     "output_type": "display_data"
    }
   ],
   "source": [
    "sns.barplot(x='year',y=' Estimated Unemployment Rate (%)',hue='day',data=df)"
   ]
  },
  {
   "cell_type": "code",
   "execution_count": 35,
   "id": "a7efb0c7",
   "metadata": {},
   "outputs": [
    {
     "data": {
      "text/plain": [
       "<AxesSubplot:xlabel='day', ylabel=' Estimated Unemployment Rate (%)'>"
      ]
     },
     "execution_count": 35,
     "metadata": {},
     "output_type": "execute_result"
    },
    {
     "data": {
      "image/png": "[encoded data removed]",
      "text/plain": [
       "<Figure size 640x480 with 1 Axes>"
      ]
     },
     "metadata": {},
     "output_type": "display_data"
    }
   ],
   "source": [
    "sns.barplot(x='day',y=' Estimated Unemployment Rate (%)',hue='month',data=df)"
   ]
  },
  {
   "cell_type": "code",
   "execution_count": 34,
   "id": "5d800521",
   "metadata": {},
   "outputs": [
    {
     "data": {
      "text/plain": [
       "<AxesSubplot:xlabel='month', ylabel=' Estimated Unemployment Rate (%)'>"
      ]
     },
     "execution_count": 34,
     "metadata": {},
     "output_type": "execute_result"
    },
    {
     "data": {
      "image/png": "[encoded data removed]",
      "text/plain": [
       "<Figure size 640x480 with 1 Axes>"
      ]
     },
     "metadata": {},
     "output_type": "display_data"
    }
   ],
   "source": [
    "sns.barplot(x='month',y=' Estimated Unemployment Rate (%)',hue='year',data=df)"
   ]
  },
  {
   "cell_type": "code",
   "execution_count": 40,
   "id": "f939e1a3",
   "metadata": {},
   "outputs": [
    {
     "data": {
      "image/png": "[encoded data removed]",
      "text/plain": [
       "<Figure size 640x480 with 1 Axes>"
      ]
     },
     "metadata": {},
     "output_type": "display_data"
    }
   ],
   "source": [
    "import seaborn as sns\n",
    "sns.set_theme(style=\"ticks\", palette=\"pastel\")\n",
    "\n",
    "sns.boxplot(x=\"month\", y=' Estimated Employed', palette=[\"r\", \"b\"],\n",
    "            data=df)\n",
    "sns.despine(offset=10, trim=True)"
   ]
  },
  {
   "cell_type": "code",
   "execution_count": 41,
   "id": "bcefa033",
   "metadata": {},
   "outputs": [
    {
     "data": {
      "text/html": [
       "<div>\n",
       "<style scoped>\n",
       "    .dataframe tbody tr th:only-of-type {\n",
       "        vertical-align: middle;\n",
       "    }\n",
       "\n",
       "    .dataframe tbody tr th {\n",
       "        vertical-align: top;\n",
       "    }\n",
       "\n",
       "    .dataframe thead th {\n",
       "        text-align: right;\n",
       "    }\n",
       "</style>\n",
       "<table border=\"1\" class=\"dataframe\">\n",
       "  <thead>\n",
       "    <tr style=\"text-align: right;\">\n",
       "      <th></th>\n",
       "      <th>Region</th>\n",
       "      <th>Date</th>\n",
       "      <th>Estimated Unemployment Rate (%)</th>\n",
       "      <th>Estimated Employed</th>\n",
       "      <th>Estimated Labour Participation Rate (%)</th>\n",
       "      <th>Region.1</th>\n",
       "      <th>longitude</th>\n",
       "      <th>latitude</th>\n",
       "      <th>day</th>\n",
       "      <th>month</th>\n",
       "    </tr>\n",
       "  </thead>\n",
       "  <tbody>\n",
       "    <tr>\n",
       "      <th>0</th>\n",
       "      <td>Andhra Pradesh</td>\n",
       "      <td>31-01-2020</td>\n",
       "      <td>5.48</td>\n",
       "      <td>16635535</td>\n",
       "      <td>41.02</td>\n",
       "      <td>South</td>\n",
       "      <td>15.9129</td>\n",
       "      <td>79.740</td>\n",
       "      <td>31</td>\n",
       "      <td>01</td>\n",
       "    </tr>\n",
       "    <tr>\n",
       "      <th>1</th>\n",
       "      <td>Andhra Pradesh</td>\n",
       "      <td>29-02-2020</td>\n",
       "      <td>5.83</td>\n",
       "      <td>16545652</td>\n",
       "      <td>40.90</td>\n",
       "      <td>South</td>\n",
       "      <td>15.9129</td>\n",
       "      <td>79.740</td>\n",
       "      <td>29</td>\n",
       "      <td>02</td>\n",
       "    </tr>\n",
       "    <tr>\n",
       "      <th>2</th>\n",
       "      <td>Andhra Pradesh</td>\n",
       "      <td>31-03-2020</td>\n",
       "      <td>5.79</td>\n",
       "      <td>15881197</td>\n",
       "      <td>39.18</td>\n",
       "      <td>South</td>\n",
       "      <td>15.9129</td>\n",
       "      <td>79.740</td>\n",
       "      <td>31</td>\n",
       "      <td>03</td>\n",
       "    </tr>\n",
       "    <tr>\n",
       "      <th>3</th>\n",
       "      <td>Andhra Pradesh</td>\n",
       "      <td>30-04-2020</td>\n",
       "      <td>20.51</td>\n",
       "      <td>11336911</td>\n",
       "      <td>33.10</td>\n",
       "      <td>South</td>\n",
       "      <td>15.9129</td>\n",
       "      <td>79.740</td>\n",
       "      <td>30</td>\n",
       "      <td>04</td>\n",
       "    </tr>\n",
       "    <tr>\n",
       "      <th>4</th>\n",
       "      <td>Andhra Pradesh</td>\n",
       "      <td>31-05-2020</td>\n",
       "      <td>17.43</td>\n",
       "      <td>12988845</td>\n",
       "      <td>36.46</td>\n",
       "      <td>South</td>\n",
       "      <td>15.9129</td>\n",
       "      <td>79.740</td>\n",
       "      <td>31</td>\n",
       "      <td>05</td>\n",
       "    </tr>\n",
       "    <tr>\n",
       "      <th>...</th>\n",
       "      <td>...</td>\n",
       "      <td>...</td>\n",
       "      <td>...</td>\n",
       "      <td>...</td>\n",
       "      <td>...</td>\n",
       "      <td>...</td>\n",
       "      <td>...</td>\n",
       "      <td>...</td>\n",
       "      <td>...</td>\n",
       "      <td>...</td>\n",
       "    </tr>\n",
       "    <tr>\n",
       "      <th>262</th>\n",
       "      <td>West Bengal</td>\n",
       "      <td>30-06-2020</td>\n",
       "      <td>7.29</td>\n",
       "      <td>30726310</td>\n",
       "      <td>40.39</td>\n",
       "      <td>East</td>\n",
       "      <td>22.9868</td>\n",
       "      <td>87.855</td>\n",
       "      <td>30</td>\n",
       "      <td>06</td>\n",
       "    </tr>\n",
       "    <tr>\n",
       "      <th>263</th>\n",
       "      <td>West Bengal</td>\n",
       "      <td>31-07-2020</td>\n",
       "      <td>6.83</td>\n",
       "      <td>35372506</td>\n",
       "      <td>46.17</td>\n",
       "      <td>East</td>\n",
       "      <td>22.9868</td>\n",
       "      <td>87.855</td>\n",
       "      <td>31</td>\n",
       "      <td>07</td>\n",
       "    </tr>\n",
       "    <tr>\n",
       "      <th>264</th>\n",
       "      <td>West Bengal</td>\n",
       "      <td>31-08-2020</td>\n",
       "      <td>14.87</td>\n",
       "      <td>33298644</td>\n",
       "      <td>47.48</td>\n",
       "      <td>East</td>\n",
       "      <td>22.9868</td>\n",
       "      <td>87.855</td>\n",
       "      <td>31</td>\n",
       "      <td>08</td>\n",
       "    </tr>\n",
       "    <tr>\n",
       "      <th>265</th>\n",
       "      <td>West Bengal</td>\n",
       "      <td>30-09-2020</td>\n",
       "      <td>9.35</td>\n",
       "      <td>35707239</td>\n",
       "      <td>47.73</td>\n",
       "      <td>East</td>\n",
       "      <td>22.9868</td>\n",
       "      <td>87.855</td>\n",
       "      <td>30</td>\n",
       "      <td>09</td>\n",
       "    </tr>\n",
       "    <tr>\n",
       "      <th>266</th>\n",
       "      <td>West Bengal</td>\n",
       "      <td>31-10-2020</td>\n",
       "      <td>9.98</td>\n",
       "      <td>33962549</td>\n",
       "      <td>45.63</td>\n",
       "      <td>East</td>\n",
       "      <td>22.9868</td>\n",
       "      <td>87.855</td>\n",
       "      <td>31</td>\n",
       "      <td>10</td>\n",
       "    </tr>\n",
       "  </tbody>\n",
       "</table>\n",
       "<p>267 rows × 10 columns</p>\n",
       "</div>"
      ],
      "text/plain": [
       "             Region         Date   Estimated Unemployment Rate (%)  \\\n",
       "0    Andhra Pradesh   31-01-2020                              5.48   \n",
       "1    Andhra Pradesh   29-02-2020                              5.83   \n",
       "2    Andhra Pradesh   31-03-2020                              5.79   \n",
       "3    Andhra Pradesh   30-04-2020                             20.51   \n",
       "4    Andhra Pradesh   31-05-2020                             17.43   \n",
       "..              ...          ...                               ...   \n",
       "262     West Bengal   30-06-2020                              7.29   \n",
       "263     West Bengal   31-07-2020                              6.83   \n",
       "264     West Bengal   31-08-2020                             14.87   \n",
       "265     West Bengal   30-09-2020                              9.35   \n",
       "266     West Bengal   31-10-2020                              9.98   \n",
       "\n",
       "      Estimated Employed   Estimated Labour Participation Rate (%) Region.1  \\\n",
       "0               16635535                                     41.02    South   \n",
       "1               16545652                                     40.90    South   \n",
       "2               15881197                                     39.18    South   \n",
       "3               11336911                                     33.10    South   \n",
       "4               12988845                                     36.46    South   \n",
       "..                   ...                                       ...      ...   \n",
       "262             30726310                                     40.39     East   \n",
       "263             35372506                                     46.17     East   \n",
       "264             33298644                                     47.48     East   \n",
       "265             35707239                                     47.73     East   \n",
       "266             33962549                                     45.63     East   \n",
       "\n",
       "     longitude  latitude  day month  \n",
       "0      15.9129    79.740   31    01  \n",
       "1      15.9129    79.740   29    02  \n",
       "2      15.9129    79.740   31    03  \n",
       "3      15.9129    79.740   30    04  \n",
       "4      15.9129    79.740   31    05  \n",
       "..         ...       ...  ...   ...  \n",
       "262    22.9868    87.855   30    06  \n",
       "263    22.9868    87.855   31    07  \n",
       "264    22.9868    87.855   31    08  \n",
       "265    22.9868    87.855   30    09  \n",
       "266    22.9868    87.855   31    10  \n",
       "\n",
       "[267 rows x 10 columns]"
      ]
     },
     "execution_count": 41,
     "metadata": {},
     "output_type": "execute_result"
    }
   ],
   "source": [
    "df.drop('year',axis=1)"
   ]
  },
  {
   "cell_type": "code",
   "execution_count": 42,
   "id": "01098851",
   "metadata": {},
   "outputs": [
    {
     "data": {
      "image/png": "[encoded data removed]",
      "text/plain": [
       "<Figure size 1000x1000 with 1 Axes>"
      ]
     },
     "metadata": {},
     "output_type": "display_data"
    }
   ],
   "source": [
    "plt.figure(figsize=(10,10))\n",
    "plt.title(\"Unemployment in india\")\n",
    "sns.barplot(x='month',y =' Estimated Unemployment Rate (%)',hue='Region.1', data=df)\n",
    "plt.show()"
   ]
  },
  {
   "cell_type": "code",
   "execution_count": 49,
   "id": "d5416125",
   "metadata": {},
   "outputs": [
    {
     "data": {
      "image/png": "[encoded data removed]",
      "text/plain": [
       "<Figure size 1000x1000 with 1 Axes>"
      ]
     },
     "metadata": {},
     "output_type": "display_data"
    }
   ],
   "source": [
    "plt.figure(figsize=(10,10))\n",
    "plt.title(\"Unemployment in india\")\n",
    "sns.barplot(x='day',y =' Estimated Unemployment Rate (%)',hue='Region.1', data=df)\n",
    "plt.show()"
   ]
  },
  {
   "cell_type": "code",
   "execution_count": 59,
   "id": "9bbb098a",
   "metadata": {},
   "outputs": [
    {
     "data": {
      "application/vnd.plotly.v1+json": {
       "config": {
        "plotlyServerURL": "https://plot.ly"
       },
       "data": [
        {
         "dimensions": [
          {
           "axis": {
            "matches": true
           },
           "label": "Region",
           "values": [
            "Andhra Pradesh",
            "Andhra Pradesh",
            "Andhra Pradesh",
            "Andhra Pradesh",
            "Andhra Pradesh",
            "Andhra Pradesh",
            "Andhra Pradesh",
            "Andhra Pradesh",
            "Andhra Pradesh",
            "Andhra Pradesh"
           ]
          },
          {
           "axis": {
            "matches": true
           },
           "label": " Date",
           "values": [
            " 31-01-2020",
            " 29-02-2020",
            " 31-03-2020",
            " 30-04-2020",
            " 31-05-2020",
            " 30-06-2020",
            " 31-07-2020",
            " 31-08-2020",
            " 30-09-2020",
            " 31-10-2020"
           ]
          },
          {
           "axis": {
            "matches": true
           },
           "label": " Estimated Unemployment Rate (%)",
           "values": [
            5.48,
            5.83,
            5.79,
            20.51,
            17.43,
            3.31,
            8.34,
            6.96,
            6.4,
            6.59
           ]
          },
          {
           "axis": {
            "matches": true
           },
           "label": " Estimated Employed",
           "values": [
            16635535,
            16545652,
            15881197,
            11336911,
            12988845,
            19805400,
            15431615,
            15251776,
            15220312,
            15157557
           ]
          },
          {
           "axis": {
            "matches": true
           },
           "label": " Estimated Labour Participation Rate (%)",
           "values": [
            41.02,
            40.9,
            39.18,
            33.1,
            36.46,
            47.41,
            38.91,
            37.83,
            37.47,
            37.34
           ]
          },
          {
           "axis": {
            "matches": true
           },
           "label": "Region.1",
           "values": [
            "South",
            "South",
            "South",
            "South",
            "South",
            "South",
            "South",
            "South",
            "South",
            "South"
           ]
          },
          {
           "axis": {
            "matches": true
           },
           "label": "longitude",
           "values": [
            15.9129,
            15.9129,
            15.9129,
            15.9129,
            15.9129,
            15.9129,
            15.9129,
            15.9129,
            15.9129,
            15.9129
           ]
          },
          {
           "axis": {
            "matches": true
           },
           "label": "latitude",
           "values": [
            79.74,
            79.74,
            79.74,
            79.74,
            79.74,
            79.74,
            79.74,
            79.74,
            79.74,
            79.74
           ]
          },
          {
           "axis": {
            "matches": true
           },
           "label": "day",
           "values": [
            " 31",
            " 29",
            " 31",
            " 30",
            " 31",
            " 30",
            " 31",
            " 31",
            " 30",
            " 31"
           ]
          },
          {
           "axis": {
            "matches": true
           },
           "label": "month",
           "values": [
            "01",
            "02",
            "03",
            "04",
            "05",
            "06",
            "07",
            "08",
            "09",
            "10"
           ]
          },
          {
           "axis": {
            "matches": true
           },
           "label": "year",
           "values": [
            "2020",
            "2020",
            "2020",
            "2020",
            "2020",
            "2020",
            "2020",
            "2020",
            "2020",
            "2020"
           ]
          }
         ],
         "hovertemplate": "Region=Andhra Pradesh<br>%{xaxis.title.text}=%{x}<br>%{yaxis.title.text}=%{y}<extra></extra>",
         "legendgroup": "Andhra Pradesh",
         "marker": {
          "color": "#636efa",
          "symbol": "circle"
         },
         "name": "Andhra Pradesh",
         "showlegend": true,
         "type": "splom"
        },
        {
         "dimensions": [
          {
           "axis": {
            "matches": true
           },
           "label": "Region",
           "values": [
            "Assam",
            "Assam",
            "Assam",
            "Assam",
            "Assam",
            "Assam",
            "Assam",
            "Assam",
            "Assam",
            "Assam"
           ]
          },
          {
           "axis": {
            "matches": true
           },
           "label": " Date",
           "values": [
            " 31-01-2020",
            " 29-02-2020",
            " 31-03-2020",
            " 30-04-2020",
            " 31-05-2020",
            " 30-06-2020",
            " 31-07-2020",
            " 31-08-2020",
            " 30-09-2020",
            " 31-10-2020"
           ]
          },
          {
           "axis": {
            "matches": true
           },
           "label": " Estimated Unemployment Rate (%)",
           "values": [
            4.66,
            4.41,
            4.77,
            11.06,
            9.55,
            0.6,
            3.77,
            5.53,
            1.19,
            3.02
           ]
          },
          {
           "axis": {
            "matches": true
           },
           "label": " Estimated Employed",
           "values": [
            13051904,
            10088268,
            11542888,
            6830817,
            11367897,
            9095944,
            10286757,
            9781310,
            14107641,
            11949329
           ]
          },
          {
           "axis": {
            "matches": true
           },
           "label": " Estimated Labour Participation Rate (%)",
           "values": [
            52.98,
            40.77,
            46.73,
            29.55,
            48.26,
            35.07,
            40.88,
            39.52,
            54.38,
            46.84
           ]
          },
          {
           "axis": {
            "matches": true
           },
           "label": "Region.1",
           "values": [
            "Northeast",
            "Northeast",
            "Northeast",
            "Northeast",
            "Northeast",
            "Northeast",
            "Northeast",
            "Northeast",
            "Northeast",
            "Northeast"
           ]
          },
          {
           "axis": {
            "matches": true
           },
           "label": "longitude",
           "values": [
            26.2006,
            26.2006,
            26.2006,
            26.2006,
            26.2006,
            26.2006,
            26.2006,
            26.2006,
            26.2006,
            26.2006
           ]
          },
          {
           "axis": {
            "matches": true
           },
           "label": "latitude",
           "values": [
            92.9376,
            92.9376,
            92.9376,
            92.9376,
            92.9376,
            92.9376,
            92.9376,
            92.9376,
            92.9376,
            92.9376
           ]
          },
          {
           "axis": {
            "matches": true
           },
           "label": "day",
           "values": [
            " 31",
            " 29",
            " 31",
            " 30",
            " 31",
            " 30",
            " 31",
            " 31",
            " 30",
            " 31"
           ]
          },
          {
           "axis": {
            "matches": true
           },
           "label": "month",
           "values": [
            "01",
            "02",
            "03",
            "04",
            "05",
            "06",
            "07",
            "08",
            "09",
            "10"
           ]
          },
          {
           "axis": {
            "matches": true
           },
           "label": "year",
           "values": [
            "2020",
            "2020",
            "2020",
            "2020",
            "2020",
            "2020",
            "2020",
            "2020",
            "2020",
            "2020"
           ]
          }
         ],
         "hovertemplate": "Region=Assam<br>%{xaxis.title.text}=%{x}<br>%{yaxis.title.text}=%{y}<extra></extra>",
         "legendgroup": "Assam",
         "marker": {
          "color": "#EF553B",
          "symbol": "circle"
         },
         "name": "Assam",
         "showlegend": true,
         "type": "splom"
        },
        {
         "dimensions": [
          {
           "axis": {
            "matches": true
           },
           "label": "Region",
           "values": [
            "Bihar",
            "Bihar",
            "Bihar",
            "Bihar",
            "Bihar",
            "Bihar",
            "Bihar",
            "Bihar",
            "Bihar",
            "Bihar"
           ]
          },
          {
           "axis": {
            "matches": true
           },
           "label": " Date",
           "values": [
            " 31-01-2020",
            " 29-02-2020",
            " 31-03-2020",
            " 30-04-2020",
            " 31-05-2020",
            " 30-06-2020",
            " 31-07-2020",
            " 31-08-2020",
            " 30-09-2020",
            " 31-10-2020"
           ]
          },
          {
           "axis": {
            "matches": true
           },
           "label": " Estimated Unemployment Rate (%)",
           "values": [
            10.61,
            10.29,
            15.43,
            46.64,
            45.96,
            17.82,
            12.79,
            13.44,
            11.91,
            9.82
           ]
          },
          {
           "axis": {
            "matches": true
           },
           "label": " Estimated Employed",
           "values": [
            26397671,
            26281655,
            25717519,
            16046236,
            16280203,
            23963933,
            24989370,
            23795534,
            26902907,
            25693252
           ]
          },
          {
           "axis": {
            "matches": true
           },
           "label": " Estimated Labour Participation Rate (%)",
           "values": [
            37.72,
            37.35,
            38.69,
            38.17,
            38.16,
            36.86,
            36.14,
            34.59,
            38.35,
            35.7
           ]
          },
          {
           "axis": {
            "matches": true
           },
           "label": "Region.1",
           "values": [
            "East",
            "East",
            "East",
            "East",
            "East",
            "East",
            "East",
            "East",
            "East",
            "East"
           ]
          },
          {
           "axis": {
            "matches": true
           },
           "label": "longitude",
           "values": [
            25.0961,
            25.0961,
            25.0961,
            25.0961,
            25.0961,
            25.0961,
            25.0961,
            25.0961,
            25.0961,
            25.0961
           ]
          },
          {
           "axis": {
            "matches": true
           },
           "label": "latitude",
           "values": [
            85.3131,
            85.3131,
            85.3131,
            85.3131,
            85.3131,
            85.3131,
            85.3131,
            85.3131,
            85.3131,
            85.3131
           ]
          },
          {
           "axis": {
            "matches": true
           },
           "label": "day",
           "values": [
            " 31",
            " 29",
            " 31",
            " 30",
            " 31",
            " 30",
            " 31",
            " 31",
            " 30",
            " 31"
           ]
          },
          {
           "axis": {
            "matches": true
           },
           "label": "month",
           "values": [
            "01",
            "02",
            "03",
            "04",
            "05",
            "06",
            "07",
            "08",
            "09",
            "10"
           ]
          },
          {
           "axis": {
            "matches": true
           },
           "label": "year",
           "values": [
            "2020",
            "2020",
            "2020",
            "2020",
            "2020",
            "2020",
            "2020",
            "2020",
            "2020",
            "2020"
           ]
          }
         ],
         "hovertemplate": "Region=Bihar<br>%{xaxis.title.text}=%{x}<br>%{yaxis.title.text}=%{y}<extra></extra>",
         "legendgroup": "Bihar",
         "marker": {
          "color": "#00cc96",
          "symbol": "circle"
         },
         "name": "Bihar",
         "showlegend": true,
         "type": "splom"
        },
        {
         "dimensions": [
          {
           "axis": {
            "matches": true
           },
           "label": "Region",
           "values": [
            "Chhattisgarh",
            "Chhattisgarh",
            "Chhattisgarh",
            "Chhattisgarh",
            "Chhattisgarh",
            "Chhattisgarh",
            "Chhattisgarh",
            "Chhattisgarh",
            "Chhattisgarh",
            "Chhattisgarh"
           ]
          },
          {
           "axis": {
            "matches": true
           },
           "label": " Date",
           "values": [
            " 31-01-2020",
            " 29-02-2020",
            " 31-03-2020",
            " 30-04-2020",
            " 31-05-2020",
            " 30-06-2020",
            " 31-07-2020",
            " 31-08-2020",
            " 30-09-2020",
            " 31-10-2020"
           ]
          },
          {
           "axis": {
            "matches": true
           },
           "label": " Estimated Unemployment Rate (%)",
           "values": [
            9.65,
            8.38,
            7.54,
            3.41,
            10.5,
            14.23,
            10.27,
            5.63,
            1.96,
            6.62
           ]
          },
          {
           "axis": {
            "matches": true
           },
           "label": " Estimated Employed",
           "values": [
            8552172,
            9195114,
            9302317,
            7600448,
            6991217,
            7332807,
            8620294,
            9050422,
            9021854,
            8546847
           ]
          },
          {
           "axis": {
            "matches": true
           },
           "label": " Estimated Labour Participation Rate (%)",
           "values": [
            43.08,
            45.58,
            45.59,
            35.58,
            35.23,
            38.48,
            43.14,
            42.97,
            41.14,
            40.82
           ]
          },
          {
           "axis": {
            "matches": true
           },
           "label": "Region.1",
           "values": [
            "West",
            "West",
            "West",
            "West",
            "West",
            "West",
            "West",
            "West",
            "West",
            "West"
           ]
          },
          {
           "axis": {
            "matches": true
           },
           "label": "longitude",
           "values": [
            21.2787,
            21.2787,
            21.2787,
            21.2787,
            21.2787,
            21.2787,
            21.2787,
            21.2787,
            21.2787,
            21.2787
           ]
          },
          {
           "axis": {
            "matches": true
           },
           "label": "latitude",
           "values": [
            81.8661,
            81.8661,
            81.8661,
            81.8661,
            81.8661,
            81.8661,
            81.8661,
            81.8661,
            81.8661,
            81.8661
           ]
          },
          {
           "axis": {
            "matches": true
           },
           "label": "day",
           "values": [
            " 31",
            " 29",
            " 31",
            " 30",
            " 31",
            " 30",
            " 31",
            " 31",
            " 30",
            " 31"
           ]
          },
          {
           "axis": {
            "matches": true
           },
           "label": "month",
           "values": [
            "01",
            "02",
            "03",
            "04",
            "05",
            "06",
            "07",
            "08",
            "09",
            "10"
           ]
          },
          {
           "axis": {
            "matches": true
           },
           "label": "year",
           "values": [
            "2020",
            "2020",
            "2020",
            "2020",
            "2020",
            "2020",
            "2020",
            "2020",
            "2020",
            "2020"
           ]
          }
         ],
         "hovertemplate": "Region=Chhattisgarh<br>%{xaxis.title.text}=%{x}<br>%{yaxis.title.text}=%{y}<extra></extra>",
         "legendgroup": "Chhattisgarh",
         "marker": {
          "color": "#ab63fa",
          "symbol": "circle"
         },
         "name": "Chhattisgarh",
         "showlegend": true,
         "type": "splom"
        },
        {
         "dimensions": [
          {
           "axis": {
            "matches": true
           },
           "label": "Region",
           "values": [
            "Delhi",
            "Delhi",
            "Delhi",
            "Delhi",
            "Delhi",
            "Delhi",
            "Delhi",
            "Delhi",
            "Delhi",
            "Delhi"
           ]
          },
          {
           "axis": {
            "matches": true
           },
           "label": " Date",
           "values": [
            " 31-01-2020",
            " 29-02-2020",
            " 31-03-2020",
            " 30-04-2020",
            " 31-05-2020",
            " 30-06-2020",
            " 31-07-2020",
            " 31-08-2020",
            " 30-09-2020",
            " 31-10-2020"
           ]
          },
          {
           "axis": {
            "matches": true
           },
           "label": " Estimated Unemployment Rate (%)",
           "values": [
            22.23,
            14.84,
            17.04,
            16.68,
            42.27,
            18.19,
            20.3,
            13.79,
            12.53,
            6.27
           ]
          },
          {
           "axis": {
            "matches": true
           },
           "label": " Estimated Employed",
           "values": [
            5805284,
            5856307,
            5553805,
            3119274,
            2632404,
            4418914,
            4291053,
            4850107,
            4958373,
            4842698
           ]
          },
          {
           "axis": {
            "matches": true
           },
           "label": " Estimated Labour Participation Rate (%)",
           "values": [
            47.79,
            43.92,
            42.65,
            23.8,
            28.91,
            34.17,
            33.97,
            35.41,
            35.59,
            32.36
           ]
          },
          {
           "axis": {
            "matches": true
           },
           "label": "Region.1",
           "values": [
            "North",
            "North",
            "North",
            "North",
            "North",
            "North",
            "North",
            "North",
            "North",
            "North"
           ]
          },
          {
           "axis": {
            "matches": true
           },
           "label": "longitude",
           "values": [
            28.7041,
            28.7041,
            28.7041,
            28.7041,
            28.7041,
            28.7041,
            28.7041,
            28.7041,
            28.7041,
            28.7041
           ]
          },
          {
           "axis": {
            "matches": true
           },
           "label": "latitude",
           "values": [
            77.1025,
            77.1025,
            77.1025,
            77.1025,
            77.1025,
            77.1025,
            77.1025,
            77.1025,
            77.1025,
            77.1025
           ]
          },
          {
           "axis": {
            "matches": true
           },
           "label": "day",
           "values": [
            " 31",
            " 29",
            " 31",
            " 30",
            " 31",
            " 30",
            " 31",
            " 31",
            " 30",
            " 31"
           ]
          },
          {
           "axis": {
            "matches": true
           },
           "label": "month",
           "values": [
            "01",
            "02",
            "03",
            "04",
            "05",
            "06",
            "07",
            "08",
            "09",
            "10"
           ]
          },
          {
           "axis": {
            "matches": true
           },
           "label": "year",
           "values": [
            "2020",
            "2020",
            "2020",
            "2020",
            "2020",
            "2020",
            "2020",
            "2020",
            "2020",
            "2020"
           ]
          }
         ],
         "hovertemplate": "Region=Delhi<br>%{xaxis.title.text}=%{x}<br>%{yaxis.title.text}=%{y}<extra></extra>",
         "legendgroup": "Delhi",
         "marker": {
          "color": "#FFA15A",
          "symbol": "circle"
         },
         "name": "Delhi",
         "showlegend": true,
         "type": "splom"
        },
        {
         "dimensions": [
          {
           "axis": {
            "matches": true
           },
           "label": "Region",
           "values": [
            "Goa",
            "Goa",
            "Goa",
            "Goa",
            "Goa",
            "Goa",
            "Goa",
            "Goa",
            "Goa",
            "Goa"
           ]
          },
          {
           "axis": {
            "matches": true
           },
           "label": " Date",
           "values": [
            " 31-01-2020",
            " 29-02-2020",
            " 31-03-2020",
            " 30-04-2020",
            " 31-05-2020",
            " 30-06-2020",
            " 31-07-2020",
            " 31-08-2020",
            " 30-09-2020",
            " 31-10-2020"
           ]
          },
          {
           "axis": {
            "matches": true
           },
           "label": " Estimated Unemployment Rate (%)",
           "values": [
            8.89,
            2.81,
            5.25,
            13.31,
            21.25,
            9.96,
            17.07,
            16.21,
            15.38,
            11.54
           ]
          },
          {
           "axis": {
            "matches": true
           },
           "label": " Estimated Employed",
           "values": [
            416750,
            478068,
            411761,
            500614,
            378244,
            489111,
            458876,
            473016,
            425004,
            392304
           ]
          },
          {
           "axis": {
            "matches": true
           },
           "label": " Estimated Labour Participation Rate (%)",
           "values": [
            35.73,
            38.38,
            33.88,
            44.97,
            37.36,
            42.21,
            42.94,
            43.76,
            38.89,
            34.3
           ]
          },
          {
           "axis": {
            "matches": true
           },
           "label": "Region.1",
           "values": [
            "West",
            "West",
            "West",
            "West",
            "West",
            "West",
            "West",
            "West",
            "West",
            "West"
           ]
          },
          {
           "axis": {
            "matches": true
           },
           "label": "longitude",
           "values": [
            15.2993,
            15.2993,
            15.2993,
            15.2993,
            15.2993,
            15.2993,
            15.2993,
            15.2993,
            15.2993,
            15.2993
           ]
          },
          {
           "axis": {
            "matches": true
           },
           "label": "latitude",
           "values": [
            74.124,
            74.124,
            74.124,
            74.124,
            74.124,
            74.124,
            74.124,
            74.124,
            74.124,
            74.124
           ]
          },
          {
           "axis": {
            "matches": true
           },
           "label": "day",
           "values": [
            " 31",
            " 29",
            " 31",
            " 30",
            " 31",
            " 30",
            " 31",
            " 31",
            " 30",
            " 31"
           ]
          },
          {
           "axis": {
            "matches": true
           },
           "label": "month",
           "values": [
            "01",
            "02",
            "03",
            "04",
            "05",
            "06",
            "07",
            "08",
            "09",
            "10"
           ]
          },
          {
           "axis": {
            "matches": true
           },
           "label": "year",
           "values": [
            "2020",
            "2020",
            "2020",
            "2020",
            "2020",
            "2020",
            "2020",
            "2020",
            "2020",
            "2020"
           ]
          }
         ],
         "hovertemplate": "Region=Goa<br>%{xaxis.title.text}=%{x}<br>%{yaxis.title.text}=%{y}<extra></extra>",
         "legendgroup": "Goa",
         "marker": {
          "color": "#19d3f3",
          "symbol": "circle"
         },
         "name": "Goa",
         "showlegend": true,
         "type": "splom"
        },
        {
         "dimensions": [
          {
           "axis": {
            "matches": true
           },
           "label": "Region",
           "values": [
            "Gujarat",
            "Gujarat",
            "Gujarat",
            "Gujarat",
            "Gujarat",
            "Gujarat",
            "Gujarat",
            "Gujarat",
            "Gujarat",
            "Gujarat"
           ]
          },
          {
           "axis": {
            "matches": true
           },
           "label": " Date",
           "values": [
            " 31-01-2020",
            " 29-02-2020",
            " 31-03-2020",
            " 30-04-2020",
            " 31-05-2020",
            " 30-06-2020",
            " 31-07-2020",
            " 31-08-2020",
            " 30-09-2020",
            " 31-10-2020"
           ]
          },
          {
           "axis": {
            "matches": true
           },
           "label": " Estimated Unemployment Rate (%)",
           "values": [
            5.54,
            6.38,
            6.66,
            18.71,
            12.11,
            3.2,
            1.84,
            1.87,
            3.42,
            4.03
           ]
          },
          {
           "axis": {
            "matches": true
           },
           "label": " Estimated Employed",
           "values": [
            24126346,
            24757795,
            23566641,
            15288878,
            17836936,
            23657055,
            24276120,
            22817232,
            25010199,
            25970259
           ]
          },
          {
           "axis": {
            "matches": true
           },
           "label": " Estimated Labour Participation Rate (%)",
           "values": [
            48.49,
            50.11,
            47.75,
            35.5,
            38.23,
            45.96,
            46.41,
            43.55,
            48.41,
            50.49
           ]
          },
          {
           "axis": {
            "matches": true
           },
           "label": "Region.1",
           "values": [
            "West",
            "West",
            "West",
            "West",
            "West",
            "West",
            "West",
            "West",
            "West",
            "West"
           ]
          },
          {
           "axis": {
            "matches": true
           },
           "label": "longitude",
           "values": [
            22.2587,
            22.2587,
            22.2587,
            22.2587,
            22.2587,
            22.2587,
            22.2587,
            22.2587,
            22.2587,
            22.2587
           ]
          },
          {
           "axis": {
            "matches": true
           },
           "label": "latitude",
           "values": [
            71.1924,
            71.1924,
            71.1924,
            71.1924,
            71.1924,
            71.1924,
            71.1924,
            71.1924,
            71.1924,
            71.1924
           ]
          },
          {
           "axis": {
            "matches": true
           },
           "label": "day",
           "values": [
            " 31",
            " 29",
            " 31",
            " 30",
            " 31",
            " 30",
            " 31",
            " 31",
            " 30",
            " 31"
           ]
          },
          {
           "axis": {
            "matches": true
           },
           "label": "month",
           "values": [
            "01",
            "02",
            "03",
            "04",
            "05",
            "06",
            "07",
            "08",
            "09",
            "10"
           ]
          },
          {
           "axis": {
            "matches": true
           },
           "label": "year",
           "values": [
            "2020",
            "2020",
            "2020",
            "2020",
            "2020",
            "2020",
            "2020",
            "2020",
            "2020",
            "2020"
           ]
          }
         ],
         "hovertemplate": "Region=Gujarat<br>%{xaxis.title.text}=%{x}<br>%{yaxis.title.text}=%{y}<extra></extra>",
         "legendgroup": "Gujarat",
         "marker": {
          "color": "#FF6692",
          "symbol": "circle"
         },
         "name": "Gujarat",
         "showlegend": true,
         "type": "splom"
        },
        {
         "dimensions": [
          {
           "axis": {
            "matches": true
           },
           "label": "Region",
           "values": [
            "Haryana",
            "Haryana",
            "Haryana",
            "Haryana",
            "Haryana",
            "Haryana",
            "Haryana",
            "Haryana",
            "Haryana",
            "Haryana"
           ]
          },
          {
           "axis": {
            "matches": true
           },
           "label": " Date",
           "values": [
            " 31-01-2020",
            " 29-02-2020",
            " 31-03-2020",
            " 30-04-2020",
            " 31-05-2020",
            " 30-06-2020",
            " 31-07-2020",
            " 31-08-2020",
            " 30-09-2020",
            " 31-10-2020"
           ]
          },
          {
           "axis": {
            "matches": true
           },
           "label": " Estimated Unemployment Rate (%)",
           "values": [
            20.34,
            25.77,
            25.05,
            43.22,
            29.02,
            26.7,
            24.18,
            33.5,
            19.68,
            27.31
           ]
          },
          {
           "axis": {
            "matches": true
           },
           "label": " Estimated Employed",
           "values": [
            7693231,
            7322942,
            6641555,
            5647630,
            6437868,
            6951934,
            6800652,
            7113788,
            7132439,
            6698551
           ]
          },
          {
           "axis": {
            "matches": true
           },
           "label": " Estimated Labour Participation Rate (%)",
           "values": [
            43.36,
            44.21,
            39.63,
            44.38,
            40.39,
            42.14,
            39.77,
            47.32,
            39.2,
            40.6
           ]
          },
          {
           "axis": {
            "matches": true
           },
           "label": "Region.1",
           "values": [
            "North",
            "North",
            "North",
            "North",
            "North",
            "North",
            "North",
            "North",
            "North",
            "North"
           ]
          },
          {
           "axis": {
            "matches": true
           },
           "label": "longitude",
           "values": [
            29.0588,
            29.0588,
            29.0588,
            29.0588,
            29.0588,
            29.0588,
            29.0588,
            29.0588,
            29.0588,
            29.0588
           ]
          },
          {
           "axis": {
            "matches": true
           },
           "label": "latitude",
           "values": [
            76.0856,
            76.0856,
            76.0856,
            76.0856,
            76.0856,
            76.0856,
            76.0856,
            76.0856,
            76.0856,
            76.0856
           ]
          },
          {
           "axis": {
            "matches": true
           },
           "label": "day",
           "values": [
            " 31",
            " 29",
            " 31",
            " 30",
            " 31",
            " 30",
            " 31",
            " 31",
            " 30",
            " 31"
           ]
          },
          {
           "axis": {
            "matches": true
           },
           "label": "month",
           "values": [
            "01",
            "02",
            "03",
            "04",
            "05",
            "06",
            "07",
            "08",
            "09",
            "10"
           ]
          },
          {
           "axis": {
            "matches": true
           },
           "label": "year",
           "values": [
            "2020",
            "2020",
            "2020",
            "2020",
            "2020",
            "2020",
            "2020",
            "2020",
            "2020",
            "2020"
           ]
          }
         ],
         "hovertemplate": "Region=Haryana<br>%{xaxis.title.text}=%{x}<br>%{yaxis.title.text}=%{y}<extra></extra>",
         "legendgroup": "Haryana",
         "marker": {
          "color": "#B6E880",
          "symbol": "circle"
         },
         "name": "Haryana",
         "showlegend": true,
         "type": "splom"
        },
        {
         "dimensions": [
          {
           "axis": {
            "matches": true
           },
           "label": "Region",
           "values": [
            "Himachal Pradesh",
            "Himachal Pradesh",
            "Himachal Pradesh",
            "Himachal Pradesh",
            "Himachal Pradesh",
            "Himachal Pradesh",
            "Himachal Pradesh",
            "Himachal Pradesh",
            "Himachal Pradesh",
            "Himachal Pradesh"
           ]
          },
          {
           "axis": {
            "matches": true
           },
           "label": " Date",
           "values": [
            " 31-01-2020",
            " 29-02-2020",
            " 31-03-2020",
            " 30-04-2020",
            " 31-05-2020",
            " 30-06-2020",
            " 31-07-2020",
            " 31-08-2020",
            " 30-09-2020",
            " 31-10-2020"
           ]
          },
          {
           "axis": {
            "matches": true
           },
           "label": " Estimated Unemployment Rate (%)",
           "values": [
            16.83,
            16.84,
            18.76,
            2.2,
            26.95,
            13.47,
            24.31,
            15.79,
            12.04,
            13.46
           ]
          },
          {
           "axis": {
            "matches": true
           },
           "label": " Estimated Employed",
           "values": [
            2287632,
            2180268,
            2021858,
            1131128,
            1897639,
            2199683,
            2229456,
            2029740,
            2237480,
            2123965
           ]
          },
          {
           "axis": {
            "matches": true
           },
           "label": " Estimated Labour Participation Rate (%)",
           "values": [
            45.5,
            43.3,
            41.04,
            19.04,
            42.7,
            41.72,
            48.25,
            39.42,
            41.54,
            40.01
           ]
          },
          {
           "axis": {
            "matches": true
           },
           "label": "Region.1",
           "values": [
            "North",
            "North",
            "North",
            "North",
            "North",
            "North",
            "North",
            "North",
            "North",
            "North"
           ]
          },
          {
           "axis": {
            "matches": true
           },
           "label": "longitude",
           "values": [
            31.1048,
            31.1048,
            31.1048,
            31.1048,
            31.1048,
            31.1048,
            31.1048,
            31.1048,
            31.1048,
            31.1048
           ]
          },
          {
           "axis": {
            "matches": true
           },
           "label": "latitude",
           "values": [
            77.1734,
            77.1734,
            77.1734,
            77.1734,
            77.1734,
            77.1734,
            77.1734,
            77.1734,
            77.1734,
            77.1734
           ]
          },
          {
           "axis": {
            "matches": true
           },
           "label": "day",
           "values": [
            " 31",
            " 29",
            " 31",
            " 30",
            " 31",
            " 30",
            " 31",
            " 31",
            " 30",
            " 31"
           ]
          },
          {
           "axis": {
            "matches": true
           },
           "label": "month",
           "values": [
            "01",
            "02",
            "03",
            "04",
            "05",
            "06",
            "07",
            "08",
            "09",
            "10"
           ]
          },
          {
           "axis": {
            "matches": true
           },
           "label": "year",
           "values": [
            "2020",
            "2020",
            "2020",
            "2020",
            "2020",
            "2020",
            "2020",
            "2020",
            "2020",
            "2020"
           ]
          }
         ],
         "hovertemplate": "Region=Himachal Pradesh<br>%{xaxis.title.text}=%{x}<br>%{yaxis.title.text}=%{y}<extra></extra>",
         "legendgroup": "Himachal Pradesh",
         "marker": {
          "color": "#FF97FF",
          "symbol": "circle"
         },
         "name": "Himachal Pradesh",
         "showlegend": true,
         "type": "splom"
        },
        {
         "dimensions": [
          {
           "axis": {
            "matches": true
           },
           "label": "Region",
           "values": [
            "Jammu & Kashmir",
            "Jammu & Kashmir",
            "Jammu & Kashmir",
            "Jammu & Kashmir",
            "Jammu & Kashmir",
            "Jammu & Kashmir",
            "Jammu & Kashmir",
            "Jammu & Kashmir",
            "Jammu & Kashmir"
           ]
          },
          {
           "axis": {
            "matches": true
           },
           "label": " Date",
           "values": [
            " 31-01-2020",
            " 29-02-2020",
            " 31-03-2020",
            " 31-05-2020",
            " 30-06-2020",
            " 31-07-2020",
            " 31-08-2020",
            " 30-09-2020",
            " 31-10-2020"
           ]
          },
          {
           "axis": {
            "matches": true
           },
           "label": " Estimated Unemployment Rate (%)",
           "values": [
            21.08,
            20.78,
            15.5,
            18.74,
            17.92,
            10.88,
            11.09,
            16.17,
            16.14
           ]
          },
          {
           "axis": {
            "matches": true
           },
           "label": " Estimated Employed",
           "values": [
            3453025,
            3223513,
            3359107,
            3246493,
            3202336,
            3558889,
            3429950,
            3210281,
            3106691
           ]
          },
          {
           "axis": {
            "matches": true
           },
           "label": " Estimated Labour Participation Rate (%)",
           "values": [
            42.2,
            39.17,
            38.18,
            38.21,
            37.24,
            38.03,
            36.66,
            36.31,
            35.05
           ]
          },
          {
           "axis": {
            "matches": true
           },
           "label": "Region.1",
           "values": [
            "North",
            "North",
            "North",
            "North",
            "North",
            "North",
            "North",
            "North",
            "North"
           ]
          },
          {
           "axis": {
            "matches": true
           },
           "label": "longitude",
           "values": [
            33.7782,
            33.7782,
            33.7782,
            33.7782,
            33.7782,
            33.7782,
            33.7782,
            33.7782,
            33.7782
           ]
          },
          {
           "axis": {
            "matches": true
           },
           "label": "latitude",
           "values": [
            76.5762,
            76.5762,
            76.5762,
            76.5762,
            76.5762,
            76.5762,
            76.5762,
            76.5762,
            76.5762
           ]
          },
          {
           "axis": {
            "matches": true
           },
           "label": "day",
           "values": [
            " 31",
            " 29",
            " 31",
            " 31",
            " 30",
            " 31",
            " 31",
            " 30",
            " 31"
           ]
          },
          {
           "axis": {
            "matches": true
           },
           "label": "month",
           "values": [
            "01",
            "02",
            "03",
            "05",
            "06",
            "07",
            "08",
            "09",
            "10"
           ]
          },
          {
           "axis": {
            "matches": true
           },
           "label": "year",
           "values": [
            "2020",
            "2020",
            "2020",
            "2020",
            "2020",
            "2020",
            "2020",
            "2020",
            "2020"
           ]
          }
         ],
         "hovertemplate": "Region=Jammu & Kashmir<br>%{xaxis.title.text}=%{x}<br>%{yaxis.title.text}=%{y}<extra></extra>",
         "legendgroup": "Jammu & Kashmir",
         "marker": {
          "color": "#FECB52",
          "symbol": "circle"
         },
         "name": "Jammu & Kashmir",
         "showlegend": true,
         "type": "splom"
        },
        {
         "dimensions": [
          {
           "axis": {
            "matches": true
           },
           "label": "Region",
           "values": [
            "Jharkhand",
            "Jharkhand",
            "Jharkhand",
            "Jharkhand",
            "Jharkhand",
            "Jharkhand",
            "Jharkhand",
            "Jharkhand",
            "Jharkhand",
            "Jharkhand"
           ]
          },
          {
           "axis": {
            "matches": true
           },
           "label": " Date",
           "values": [
            " 31-01-2020",
            " 29-02-2020",
            " 31-03-2020",
            " 30-04-2020",
            " 31-05-2020",
            " 30-06-2020",
            " 31-07-2020",
            " 31-08-2020",
            " 30-09-2020",
            " 31-10-2020"
           ]
          },
          {
           "axis": {
            "matches": true
           },
           "label": " Estimated Unemployment Rate (%)",
           "values": [
            10.61,
            11.85,
            8.23,
            47.09,
            59.23,
            20.95,
            7.63,
            9.76,
            8.24,
            11.8
           ]
          },
          {
           "axis": {
            "matches": true
           },
           "label": " Estimated Employed",
           "values": [
            10198029,
            10425425,
            9638115,
            5335262,
            4145385,
            8622722,
            9521900,
            9331640,
            10185670,
            10302276
           ]
          },
          {
           "axis": {
            "matches": true
           },
           "label": " Estimated Labour Participation Rate (%)",
           "values": [
            42.92,
            44.4,
            39.34,
            37.69,
            37.92,
            40.59,
            38.27,
            38.31,
            41.04,
            43.08
           ]
          },
          {
           "axis": {
            "matches": true
           },
           "label": "Region.1",
           "values": [
            "East",
            "East",
            "East",
            "East",
            "East",
            "East",
            "East",
            "East",
            "East",
            "East"
           ]
          },
          {
           "axis": {
            "matches": true
           },
           "label": "longitude",
           "values": [
            23.6102,
            23.6102,
            23.6102,
            23.6102,
            23.6102,
            23.6102,
            23.6102,
            23.6102,
            23.6102,
            23.6102
           ]
          },
          {
           "axis": {
            "matches": true
           },
           "label": "latitude",
           "values": [
            85.2799,
            85.2799,
            85.2799,
            85.2799,
            85.2799,
            85.2799,
            85.2799,
            85.2799,
            85.2799,
            85.2799
           ]
          },
          {
           "axis": {
            "matches": true
           },
           "label": "day",
           "values": [
            " 31",
            " 29",
            " 31",
            " 30",
            " 31",
            " 30",
            " 31",
            " 31",
            " 30",
            " 31"
           ]
          },
          {
           "axis": {
            "matches": true
           },
           "label": "month",
           "values": [
            "01",
            "02",
            "03",
            "04",
            "05",
            "06",
            "07",
            "08",
            "09",
            "10"
           ]
          },
          {
           "axis": {
            "matches": true
           },
           "label": "year",
           "values": [
            "2020",
            "2020",
            "2020",
            "2020",
            "2020",
            "2020",
            "2020",
            "2020",
            "2020",
            "2020"
           ]
          }
         ],
         "hovertemplate": "Region=Jharkhand<br>%{xaxis.title.text}=%{x}<br>%{yaxis.title.text}=%{y}<extra></extra>",
         "legendgroup": "Jharkhand",
         "marker": {
          "color": "#636efa",
          "symbol": "circle"
         },
         "name": "Jharkhand",
         "showlegend": true,
         "type": "splom"
        },
        {
         "dimensions": [
          {
           "axis": {
            "matches": true
           },
           "label": "Region",
           "values": [
            "Karnataka",
            "Karnataka",
            "Karnataka",
            "Karnataka",
            "Karnataka",
            "Karnataka",
            "Karnataka",
            "Karnataka",
            "Karnataka",
            "Karnataka"
           ]
          },
          {
           "axis": {
            "matches": true
           },
           "label": " Date",
           "values": [
            " 31-01-2020",
            " 29-02-2020",
            " 31-03-2020",
            " 30-04-2020",
            " 31-05-2020",
            " 30-06-2020",
            " 31-07-2020",
            " 31-08-2020",
            " 30-09-2020",
            " 31-10-2020"
           ]
          },
          {
           "axis": {
            "matches": true
           },
           "label": " Estimated Unemployment Rate (%)",
           "values": [
            2.86,
            3.61,
            3.46,
            29.84,
            19.97,
            8.44,
            4.01,
            0.5,
            2.41,
            1.58
           ]
          },
          {
           "axis": {
            "matches": true
           },
           "label": " Estimated Employed",
           "values": [
            22688028,
            21677719,
            22079653,
            16718395,
            19397853,
            24215057,
            22885616,
            24094289,
            20127176,
            22356390
           ]
          },
          {
           "axis": {
            "matches": true
           },
           "label": " Estimated Labour Participation Rate (%)",
           "values": [
            42.18,
            40.54,
            41.14,
            42.78,
            43.43,
            47.29,
            42.55,
            43.13,
            36.66,
            40.3
           ]
          },
          {
           "axis": {
            "matches": true
           },
           "label": "Region.1",
           "values": [
            "South",
            "South",
            "South",
            "South",
            "South",
            "South",
            "South",
            "South",
            "South",
            "South"
           ]
          },
          {
           "axis": {
            "matches": true
           },
           "label": "longitude",
           "values": [
            15.3173,
            15.3173,
            15.3173,
            15.3173,
            15.3173,
            15.3173,
            15.3173,
            15.3173,
            15.3173,
            15.3173
           ]
          },
          {
           "axis": {
            "matches": true
           },
           "label": "latitude",
           "values": [
            75.7139,
            75.7139,
            75.7139,
            75.7139,
            75.7139,
            75.7139,
            75.7139,
            75.7139,
            75.7139,
            75.7139
           ]
          },
          {
           "axis": {
            "matches": true
           },
           "label": "day",
           "values": [
            " 31",
            " 29",
            " 31",
            " 30",
            " 31",
            " 30",
            " 31",
            " 31",
            " 30",
            " 31"
           ]
          },
          {
           "axis": {
            "matches": true
           },
           "label": "month",
           "values": [
            "01",
            "02",
            "03",
            "04",
            "05",
            "06",
            "07",
            "08",
            "09",
            "10"
           ]
          },
          {
           "axis": {
            "matches": true
           },
           "label": "year",
           "values": [
            "2020",
            "2020",
            "2020",
            "2020",
            "2020",
            "2020",
            "2020",
            "2020",
            "2020",
            "2020"
           ]
          }
         ],
         "hovertemplate": "Region=Karnataka<br>%{xaxis.title.text}=%{x}<br>%{yaxis.title.text}=%{y}<extra></extra>",
         "legendgroup": "Karnataka",
         "marker": {
          "color": "#EF553B",
          "symbol": "circle"
         },
         "name": "Karnataka",
         "showlegend": true,
         "type": "splom"
        },
        {
         "dimensions": [
          {
           "axis": {
            "matches": true
           },
           "label": "Region",
           "values": [
            "Kerala",
            "Kerala",
            "Kerala",
            "Kerala",
            "Kerala",
            "Kerala",
            "Kerala",
            "Kerala",
            "Kerala",
            "Kerala"
           ]
          },
          {
           "axis": {
            "matches": true
           },
           "label": " Date",
           "values": [
            " 31-01-2020",
            " 29-02-2020",
            " 31-03-2020",
            " 30-04-2020",
            " 31-05-2020",
            " 30-06-2020",
            " 31-07-2020",
            " 31-08-2020",
            " 30-09-2020",
            " 31-10-2020"
           ]
          },
          {
           "axis": {
            "matches": true
           },
           "label": " Estimated Unemployment Rate (%)",
           "values": [
            5.31,
            7.6,
            8.99,
            16.99,
            17.88,
            9.71,
            7.09,
            10.98,
            5.91,
            3.88
           ]
          },
          {
           "axis": {
            "matches": true
           },
           "label": " Estimated Employed",
           "values": [
            9904534,
            9828023,
            8221728,
            3933276,
            7921962,
            9228268,
            9504420,
            9031944,
            9240913,
            9152881
           ]
          },
          {
           "axis": {
            "matches": true
           },
           "label": " Estimated Labour Participation Rate (%)",
           "values": [
            37.12,
            37.71,
            32,
            16.77,
            34.11,
            36.11,
            36.1,
            35.78,
            34.6,
            33.52
           ]
          },
          {
           "axis": {
            "matches": true
           },
           "label": "Region.1",
           "values": [
            "South",
            "South",
            "South",
            "South",
            "South",
            "South",
            "South",
            "South",
            "South",
            "South"
           ]
          },
          {
           "axis": {
            "matches": true
           },
           "label": "longitude",
           "values": [
            10.8505,
            10.8505,
            10.8505,
            10.8505,
            10.8505,
            10.8505,
            10.8505,
            10.8505,
            10.8505,
            10.8505
           ]
          },
          {
           "axis": {
            "matches": true
           },
           "label": "latitude",
           "values": [
            76.2711,
            76.2711,
            76.2711,
            76.2711,
            76.2711,
            76.2711,
            76.2711,
            76.2711,
            76.2711,
            76.2711
           ]
          },
          {
           "axis": {
            "matches": true
           },
           "label": "day",
           "values": [
            " 31",
            " 29",
            " 31",
            " 30",
            " 31",
            " 30",
            " 31",
            " 31",
            " 30",
            " 31"
           ]
          },
          {
           "axis": {
            "matches": true
           },
           "label": "month",
           "values": [
            "01",
            "02",
            "03",
            "04",
            "05",
            "06",
            "07",
            "08",
            "09",
            "10"
           ]
          },
          {
           "axis": {
            "matches": true
           },
           "label": "year",
           "values": [
            "2020",
            "2020",
            "2020",
            "2020",
            "2020",
            "2020",
            "2020",
            "2020",
            "2020",
            "2020"
           ]
          }
         ],
         "hovertemplate": "Region=Kerala<br>%{xaxis.title.text}=%{x}<br>%{yaxis.title.text}=%{y}<extra></extra>",
         "legendgroup": "Kerala",
         "marker": {
          "color": "#00cc96",
          "symbol": "circle"
         },
         "name": "Kerala",
         "showlegend": true,
         "type": "splom"
        },
        {
         "dimensions": [
          {
           "axis": {
            "matches": true
           },
           "label": "Region",
           "values": [
            "Madhya Pradesh",
            "Madhya Pradesh",
            "Madhya Pradesh",
            "Madhya Pradesh",
            "Madhya Pradesh",
            "Madhya Pradesh",
            "Madhya Pradesh",
            "Madhya Pradesh",
            "Madhya Pradesh",
            "Madhya Pradesh"
           ]
          },
          {
           "axis": {
            "matches": true
           },
           "label": " Date",
           "values": [
            " 31-01-2020",
            " 29-02-2020",
            " 31-03-2020",
            " 30-04-2020",
            " 31-05-2020",
            " 30-06-2020",
            " 31-07-2020",
            " 31-08-2020",
            " 30-09-2020",
            " 31-10-2020"
           ]
          },
          {
           "axis": {
            "matches": true
           },
           "label": " Estimated Unemployment Rate (%)",
           "values": [
            4.11,
            4.57,
            2.22,
            12.36,
            21.98,
            6.48,
            5.08,
            4.7,
            3.91,
            3.13
           ]
          },
          {
           "axis": {
            "matches": true
           },
           "label": " Estimated Employed",
           "values": [
            23018632,
            22711479,
            22867164,
            19041832,
            18443927,
            23054646,
            23940158,
            23619011,
            23341952,
            23144552
           ]
          },
          {
           "axis": {
            "matches": true
           },
           "label": " Estimated Labour Participation Rate (%)",
           "values": [
            39.42,
            39,
            38.24,
            35.45,
            38.48,
            40.04,
            40.88,
            40.08,
            39.2,
            38.47
           ]
          },
          {
           "axis": {
            "matches": true
           },
           "label": "Region.1",
           "values": [
            "West",
            "West",
            "West",
            "West",
            "West",
            "West",
            "West",
            "West",
            "West",
            "West"
           ]
          },
          {
           "axis": {
            "matches": true
           },
           "label": "longitude",
           "values": [
            22.9734,
            22.9734,
            22.9734,
            22.9734,
            22.9734,
            22.9734,
            22.9734,
            22.9734,
            22.9734,
            22.9734
           ]
          },
          {
           "axis": {
            "matches": true
           },
           "label": "latitude",
           "values": [
            78.6569,
            78.6569,
            78.6569,
            78.6569,
            78.6569,
            78.6569,
            78.6569,
            78.6569,
            78.6569,
            78.6569
           ]
          },
          {
           "axis": {
            "matches": true
           },
           "label": "day",
           "values": [
            " 31",
            " 29",
            " 31",
            " 30",
            " 31",
            " 30",
            " 31",
            " 31",
            " 30",
            " 31"
           ]
          },
          {
           "axis": {
            "matches": true
           },
           "label": "month",
           "values": [
            "01",
            "02",
            "03",
            "04",
            "05",
            "06",
            "07",
            "08",
            "09",
            "10"
           ]
          },
          {
           "axis": {
            "matches": true
           },
           "label": "year",
           "values": [
            "2020",
            "2020",
            "2020",
            "2020",
            "2020",
            "2020",
            "2020",
            "2020",
            "2020",
            "2020"
           ]
          }
         ],
         "hovertemplate": "Region=Madhya Pradesh<br>%{xaxis.title.text}=%{x}<br>%{yaxis.title.text}=%{y}<extra></extra>",
         "legendgroup": "Madhya Pradesh",
         "marker": {
          "color": "#ab63fa",
          "symbol": "circle"
         },
         "name": "Madhya Pradesh",
         "showlegend": true,
         "type": "splom"
        },
        {
         "dimensions": [
          {
           "axis": {
            "matches": true
           },
           "label": "Region",
           "values": [
            "Maharashtra",
            "Maharashtra",
            "Maharashtra",
            "Maharashtra",
            "Maharashtra",
            "Maharashtra",
            "Maharashtra",
            "Maharashtra",
            "Maharashtra",
            "Maharashtra"
           ]
          },
          {
           "axis": {
            "matches": true
           },
           "label": " Date",
           "values": [
            " 31-01-2020",
            " 29-02-2020",
            " 31-03-2020",
            " 30-04-2020",
            " 31-05-2020",
            " 30-06-2020",
            " 31-07-2020",
            " 31-08-2020",
            " 30-09-2020",
            " 31-10-2020"
           ]
          },
          {
           "axis": {
            "matches": true
           },
           "label": " Estimated Unemployment Rate (%)",
           "values": [
            4.95,
            4.69,
            5.79,
            20.9,
            15.46,
            9.23,
            3.89,
            6.23,
            4.55,
            4.1
           ]
          },
          {
           "axis": {
            "matches": true
           },
           "label": " Estimated Employed",
           "values": [
            42596868,
            42416317,
            40196806,
            27689253,
            32116847,
            39708538,
            40998545,
            40963616,
            42042911,
            43317881
           ]
          },
          {
           "axis": {
            "matches": true
           },
           "label": " Estimated Labour Participation Rate (%)",
           "values": [
            44.19,
            43.8,
            41.91,
            34.32,
            37.17,
            42.71,
            41.57,
            42.49,
            42.75,
            43.75
           ]
          },
          {
           "axis": {
            "matches": true
           },
           "label": "Region.1",
           "values": [
            "West",
            "West",
            "West",
            "West",
            "West",
            "West",
            "West",
            "West",
            "West",
            "West"
           ]
          },
          {
           "axis": {
            "matches": true
           },
           "label": "longitude",
           "values": [
            19.7515,
            19.7515,
            19.7515,
            19.7515,
            19.7515,
            19.7515,
            19.7515,
            19.7515,
            19.7515,
            19.7515
           ]
          },
          {
           "axis": {
            "matches": true
           },
           "label": "latitude",
           "values": [
            75.7139,
            75.7139,
            75.7139,
            75.7139,
            75.7139,
            75.7139,
            75.7139,
            75.7139,
            75.7139,
            75.7139
           ]
          },
          {
           "axis": {
            "matches": true
           },
           "label": "day",
           "values": [
            " 31",
            " 29",
            " 31",
            " 30",
            " 31",
            " 30",
            " 31",
            " 31",
            " 30",
            " 31"
           ]
          },
          {
           "axis": {
            "matches": true
           },
           "label": "month",
           "values": [
            "01",
            "02",
            "03",
            "04",
            "05",
            "06",
            "07",
            "08",
            "09",
            "10"
           ]
          },
          {
           "axis": {
            "matches": true
           },
           "label": "year",
           "values": [
            "2020",
            "2020",
            "2020",
            "2020",
            "2020",
            "2020",
            "2020",
            "2020",
            "2020",
            "2020"
           ]
          }
         ],
         "hovertemplate": "Region=Maharashtra<br>%{xaxis.title.text}=%{x}<br>%{yaxis.title.text}=%{y}<extra></extra>",
         "legendgroup": "Maharashtra",
         "marker": {
          "color": "#FFA15A",
          "symbol": "circle"
         },
         "name": "Maharashtra",
         "showlegend": true,
         "type": "splom"
        },
        {
         "dimensions": [
          {
           "axis": {
            "matches": true
           },
           "label": "Region",
           "values": [
            "Meghalaya",
            "Meghalaya",
            "Meghalaya",
            "Meghalaya",
            "Meghalaya",
            "Meghalaya",
            "Meghalaya",
            "Meghalaya",
            "Meghalaya",
            "Meghalaya"
           ]
          },
          {
           "axis": {
            "matches": true
           },
           "label": " Date",
           "values": [
            " 31-01-2020",
            " 29-02-2020",
            " 31-03-2020",
            " 30-04-2020",
            " 31-05-2020",
            " 30-06-2020",
            " 31-07-2020",
            " 31-08-2020",
            " 30-09-2020",
            " 31-10-2020"
           ]
          },
          {
           "axis": {
            "matches": true
           },
           "label": " Estimated Unemployment Rate (%)",
           "values": [
            1.66,
            3.59,
            1.58,
            10.03,
            5.92,
            1.15,
            2.1,
            3.74,
            4.29,
            4.6
           ]
          },
          {
           "axis": {
            "matches": true
           },
           "label": " Estimated Employed",
           "values": [
            1491093,
            1346829,
            1482351,
            965057,
            1215064,
            1350794,
            1448106,
            1357643,
            1459726,
            1381490
           ]
          },
          {
           "axis": {
            "matches": true
           },
           "label": " Estimated Labour Participation Rate (%)",
           "values": [
            65.49,
            60.2,
            64.74,
            45.99,
            55.24,
            58.31,
            62.96,
            59.88,
            64.6,
            61.18
           ]
          },
          {
           "axis": {
            "matches": true
           },
           "label": "Region.1",
           "values": [
            "Northeast",
            "Northeast",
            "Northeast",
            "Northeast",
            "Northeast",
            "Northeast",
            "Northeast",
            "Northeast",
            "Northeast",
            "Northeast"
           ]
          },
          {
           "axis": {
            "matches": true
           },
           "label": "longitude",
           "values": [
            25.467,
            25.467,
            25.467,
            25.467,
            25.467,
            25.467,
            25.467,
            25.467,
            25.467,
            25.467
           ]
          },
          {
           "axis": {
            "matches": true
           },
           "label": "latitude",
           "values": [
            91.3662,
            91.3662,
            91.3662,
            91.3662,
            91.3662,
            91.3662,
            91.3662,
            91.3662,
            91.3662,
            91.3662
           ]
          },
          {
           "axis": {
            "matches": true
           },
           "label": "day",
           "values": [
            " 31",
            " 29",
            " 31",
            " 30",
            " 31",
            " 30",
            " 31",
            " 31",
            " 30",
            " 31"
           ]
          },
          {
           "axis": {
            "matches": true
           },
           "label": "month",
           "values": [
            "01",
            "02",
            "03",
            "04",
            "05",
            "06",
            "07",
            "08",
            "09",
            "10"
           ]
          },
          {
           "axis": {
            "matches": true
           },
           "label": "year",
           "values": [
            "2020",
            "2020",
            "2020",
            "2020",
            "2020",
            "2020",
            "2020",
            "2020",
            "2020",
            "2020"
           ]
          }
         ],
         "hovertemplate": "Region=Meghalaya<br>%{xaxis.title.text}=%{x}<br>%{yaxis.title.text}=%{y}<extra></extra>",
         "legendgroup": "Meghalaya",
         "marker": {
          "color": "#19d3f3",
          "symbol": "circle"
         },
         "name": "Meghalaya",
         "showlegend": true,
         "type": "splom"
        },
        {
         "dimensions": [
          {
           "axis": {
            "matches": true
           },
           "label": "Region",
           "values": [
            "Odisha",
            "Odisha",
            "Odisha",
            "Odisha",
            "Odisha",
            "Odisha",
            "Odisha",
            "Odisha",
            "Odisha",
            "Odisha"
           ]
          },
          {
           "axis": {
            "matches": true
           },
           "label": " Date",
           "values": [
            " 31-01-2020",
            " 29-02-2020",
            " 31-03-2020",
            " 30-04-2020",
            " 31-05-2020",
            " 30-06-2020",
            " 31-07-2020",
            " 31-08-2020",
            " 30-09-2020",
            " 31-10-2020"
           ]
          },
          {
           "axis": {
            "matches": true
           },
           "label": " Estimated Unemployment Rate (%)",
           "values": [
            1.9,
            3.12,
            13.08,
            23.76,
            11.41,
            3.77,
            1.88,
            1.42,
            2.1,
            2.18
           ]
          },
          {
           "axis": {
            "matches": true
           },
           "label": " Estimated Employed",
           "values": [
            13743448,
            14280735,
            12272109,
            6865693,
            11730937,
            12903993,
            13614400,
            14154039,
            13608422,
            14094553
           ]
          },
          {
           "axis": {
            "matches": true
           },
           "label": " Estimated Labour Participation Rate (%)",
           "values": [
            39.44,
            41.44,
            39.62,
            25.23,
            37.04,
            37.45,
            38.69,
            39.96,
            38.63,
            39.98
           ]
          },
          {
           "axis": {
            "matches": true
           },
           "label": "Region.1",
           "values": [
            "East",
            "East",
            "East",
            "East",
            "East",
            "East",
            "East",
            "East",
            "East",
            "East"
           ]
          },
          {
           "axis": {
            "matches": true
           },
           "label": "longitude",
           "values": [
            20.9517,
            20.9517,
            20.9517,
            20.9517,
            20.9517,
            20.9517,
            20.9517,
            20.9517,
            20.9517,
            20.9517
           ]
          },
          {
           "axis": {
            "matches": true
           },
           "label": "latitude",
           "values": [
            85.0985,
            85.0985,
            85.0985,
            85.0985,
            85.0985,
            85.0985,
            85.0985,
            85.0985,
            85.0985,
            85.0985
           ]
          },
          {
           "axis": {
            "matches": true
           },
           "label": "day",
           "values": [
            " 31",
            " 29",
            " 31",
            " 30",
            " 31",
            " 30",
            " 31",
            " 31",
            " 30",
            " 31"
           ]
          },
          {
           "axis": {
            "matches": true
           },
           "label": "month",
           "values": [
            "01",
            "02",
            "03",
            "04",
            "05",
            "06",
            "07",
            "08",
            "09",
            "10"
           ]
          },
          {
           "axis": {
            "matches": true
           },
           "label": "year",
           "values": [
            "2020",
            "2020",
            "2020",
            "2020",
            "2020",
            "2020",
            "2020",
            "2020",
            "2020",
            "2020"
           ]
          }
         ],
         "hovertemplate": "Region=Odisha<br>%{xaxis.title.text}=%{x}<br>%{yaxis.title.text}=%{y}<extra></extra>",
         "legendgroup": "Odisha",
         "marker": {
          "color": "#FF6692",
          "symbol": "circle"
         },
         "name": "Odisha",
         "showlegend": true,
         "type": "splom"
        },
        {
         "dimensions": [
          {
           "axis": {
            "matches": true
           },
           "label": "Region",
           "values": [
            "Puducherry",
            "Puducherry",
            "Puducherry",
            "Puducherry",
            "Puducherry",
            "Puducherry",
            "Puducherry",
            "Puducherry",
            "Puducherry",
            "Puducherry"
           ]
          },
          {
           "axis": {
            "matches": true
           },
           "label": " Date",
           "values": [
            " 31-01-2020",
            " 29-02-2020",
            " 31-03-2020",
            " 30-04-2020",
            " 31-05-2020",
            " 30-06-2020",
            " 31-07-2020",
            " 31-08-2020",
            " 30-09-2020",
            " 31-10-2020"
           ]
          },
          {
           "axis": {
            "matches": true
           },
           "label": " Estimated Unemployment Rate (%)",
           "values": [
            0.58,
            1.76,
            1.2,
            75.85,
            58.19,
            4.24,
            15.47,
            5.05,
            10.9,
            6.18
           ]
          },
          {
           "axis": {
            "matches": true
           },
           "label": " Estimated Employed",
           "values": [
            457950,
            493961,
            421028,
            117542,
            172308,
            367135,
            386563,
            396006,
            411717,
            428419
           ]
          },
          {
           "axis": {
            "matches": true
           },
           "label": " Estimated Labour Participation Rate (%)",
           "values": [
            37.46,
            40.8,
            34.49,
            39.3,
            33.19,
            30.8,
            36.64,
            33.34,
            36.84,
            36.32
           ]
          },
          {
           "axis": {
            "matches": true
           },
           "label": "Region.1",
           "values": [
            "South",
            "South",
            "South",
            "South",
            "South",
            "South",
            "South",
            "South",
            "South",
            "South"
           ]
          },
          {
           "axis": {
            "matches": true
           },
           "label": "longitude",
           "values": [
            11.9416,
            11.9416,
            11.9416,
            11.9416,
            11.9416,
            11.9416,
            11.9416,
            11.9416,
            11.9416,
            11.9416
           ]
          },
          {
           "axis": {
            "matches": true
           },
           "label": "latitude",
           "values": [
            79.8083,
            79.8083,
            79.8083,
            79.8083,
            79.8083,
            79.8083,
            79.8083,
            79.8083,
            79.8083,
            79.8083
           ]
          },
          {
           "axis": {
            "matches": true
           },
           "label": "day",
           "values": [
            " 31",
            " 29",
            " 31",
            " 30",
            " 31",
            " 30",
            " 31",
            " 31",
            " 30",
            " 31"
           ]
          },
          {
           "axis": {
            "matches": true
           },
           "label": "month",
           "values": [
            "01",
            "02",
            "03",
            "04",
            "05",
            "06",
            "07",
            "08",
            "09",
            "10"
           ]
          },
          {
           "axis": {
            "matches": true
           },
           "label": "year",
           "values": [
            "2020",
            "2020",
            "2020",
            "2020",
            "2020",
            "2020",
            "2020",
            "2020",
            "2020",
            "2020"
           ]
          }
         ],
         "hovertemplate": "Region=Puducherry<br>%{xaxis.title.text}=%{x}<br>%{yaxis.title.text}=%{y}<extra></extra>",
         "legendgroup": "Puducherry",
         "marker": {
          "color": "#B6E880",
          "symbol": "circle"
         },
         "name": "Puducherry",
         "showlegend": true,
         "type": "splom"
        },
        {
         "dimensions": [
          {
           "axis": {
            "matches": true
           },
           "label": "Region",
           "values": [
            "Punjab",
            "Punjab",
            "Punjab",
            "Punjab",
            "Punjab",
            "Punjab",
            "Punjab",
            "Punjab",
            "Punjab",
            "Punjab"
           ]
          },
          {
           "axis": {
            "matches": true
           },
           "label": " Date",
           "values": [
            " 31-01-2020",
            " 29-02-2020",
            " 31-03-2020",
            " 30-04-2020",
            " 31-05-2020",
            " 30-06-2020",
            " 31-07-2020",
            " 31-08-2020",
            " 30-09-2020",
            " 31-10-2020"
           ]
          },
          {
           "axis": {
            "matches": true
           },
           "label": " Estimated Unemployment Rate (%)",
           "values": [
            11.11,
            10.97,
            10.32,
            2.86,
            28.33,
            16.55,
            9.19,
            10.99,
            9.61,
            9.88
           ]
          },
          {
           "axis": {
            "matches": true
           },
           "label": " Estimated Employed",
           "values": [
            9442093,
            9229047,
            9975485,
            7020565,
            6872938,
            8390766,
            9732417,
            9386169,
            8980432,
            8800430
           ]
          },
          {
           "axis": {
            "matches": true
           },
           "label": " Estimated Labour Participation Rate (%)",
           "values": [
            42.82,
            41.72,
            44.69,
            28.99,
            38.39,
            40.18,
            42.76,
            41.99,
            39.5,
            38.75
           ]
          },
          {
           "axis": {
            "matches": true
           },
           "label": "Region.1",
           "values": [
            "North",
            "North",
            "North",
            "North",
            "North",
            "North",
            "North",
            "North",
            "North",
            "North"
           ]
          },
          {
           "axis": {
            "matches": true
           },
           "label": "longitude",
           "values": [
            31.1471,
            31.1471,
            31.1471,
            31.1471,
            31.1471,
            31.1471,
            31.1471,
            31.1471,
            31.1471,
            31.1471
           ]
          },
          {
           "axis": {
            "matches": true
           },
           "label": "latitude",
           "values": [
            75.3412,
            75.3412,
            75.3412,
            75.3412,
            75.3412,
            75.3412,
            75.3412,
            75.3412,
            75.3412,
            75.3412
           ]
          },
          {
           "axis": {
            "matches": true
           },
           "label": "day",
           "values": [
            " 31",
            " 29",
            " 31",
            " 30",
            " 31",
            " 30",
            " 31",
            " 31",
            " 30",
            " 31"
           ]
          },
          {
           "axis": {
            "matches": true
           },
           "label": "month",
           "values": [
            "01",
            "02",
            "03",
            "04",
            "05",
            "06",
            "07",
            "08",
            "09",
            "10"
           ]
          },
          {
           "axis": {
            "matches": true
           },
           "label": "year",
           "values": [
            "2020",
            "2020",
            "2020",
            "2020",
            "2020",
            "2020",
            "2020",
            "2020",
            "2020",
            "2020"
           ]
          }
         ],
         "hovertemplate": "Region=Punjab<br>%{xaxis.title.text}=%{x}<br>%{yaxis.title.text}=%{y}<extra></extra>",
         "legendgroup": "Punjab",
         "marker": {
          "color": "#FF97FF",
          "symbol": "circle"
         },
         "name": "Punjab",
         "showlegend": true,
         "type": "splom"
        },
        {
         "dimensions": [
          {
           "axis": {
            "matches": true
           },
           "label": "Region",
           "values": [
            "Rajasthan",
            "Rajasthan",
            "Rajasthan",
            "Rajasthan",
            "Rajasthan",
            "Rajasthan",
            "Rajasthan",
            "Rajasthan",
            "Rajasthan",
            "Rajasthan"
           ]
          },
          {
           "axis": {
            "matches": true
           },
           "label": " Date",
           "values": [
            " 31-01-2020",
            " 29-02-2020",
            " 31-03-2020",
            " 30-04-2020",
            " 31-05-2020",
            " 30-06-2020",
            " 31-07-2020",
            " 31-08-2020",
            " 30-09-2020",
            " 31-10-2020"
           ]
          },
          {
           "axis": {
            "matches": true
           },
           "label": " Estimated Unemployment Rate (%)",
           "values": [
            10.97,
            15.16,
            11.9,
            17.7,
            15.74,
            14.39,
            15.81,
            17.51,
            15.35,
            24.15
           ]
          },
          {
           "axis": {
            "matches": true
           },
           "label": " Estimated Employed",
           "values": [
            20641716,
            20328915,
            20024680,
            15984142,
            19826602,
            20506612,
            19932393,
            20014060,
            20149594,
            19908808
           ]
          },
          {
           "axis": {
            "matches": true
           },
           "label": " Estimated Labour Participation Rate (%)",
           "values": [
            40.51,
            41.77,
            39.54,
            33.71,
            40.74,
            41.38,
            40.8,
            41.71,
            40.83,
            44.92
           ]
          },
          {
           "axis": {
            "matches": true
           },
           "label": "Region.1",
           "values": [
            "North",
            "North",
            "North",
            "North",
            "North",
            "North",
            "North",
            "North",
            "North",
            "North"
           ]
          },
          {
           "axis": {
            "matches": true
           },
           "label": "longitude",
           "values": [
            27.0238,
            27.0238,
            27.0238,
            27.0238,
            27.0238,
            27.0238,
            27.0238,
            27.0238,
            27.0238,
            27.0238
           ]
          },
          {
           "axis": {
            "matches": true
           },
           "label": "latitude",
           "values": [
            74.2179,
            74.2179,
            74.2179,
            74.2179,
            74.2179,
            74.2179,
            74.2179,
            74.2179,
            74.2179,
            74.2179
           ]
          },
          {
           "axis": {
            "matches": true
           },
           "label": "day",
           "values": [
            " 31",
            " 29",
            " 31",
            " 30",
            " 31",
            " 30",
            " 31",
            " 31",
            " 30",
            " 31"
           ]
          },
          {
           "axis": {
            "matches": true
           },
           "label": "month",
           "values": [
            "01",
            "02",
            "03",
            "04",
            "05",
            "06",
            "07",
            "08",
            "09",
            "10"
           ]
          },
          {
           "axis": {
            "matches": true
           },
           "label": "year",
           "values": [
            "2020",
            "2020",
            "2020",
            "2020",
            "2020",
            "2020",
            "2020",
            "2020",
            "2020",
            "2020"
           ]
          }
         ],
         "hovertemplate": "Region=Rajasthan<br>%{xaxis.title.text}=%{x}<br>%{yaxis.title.text}=%{y}<extra></extra>",
         "legendgroup": "Rajasthan",
         "marker": {
          "color": "#FECB52",
          "symbol": "circle"
         },
         "name": "Rajasthan",
         "showlegend": true,
         "type": "splom"
        },
        {
         "dimensions": [
          {
           "axis": {
            "matches": true
           },
           "label": "Region",
           "values": [
            "Sikkim",
            "Sikkim",
            "Sikkim",
            "Sikkim",
            "Sikkim",
            "Sikkim",
            "Sikkim",
            "Sikkim"
           ]
          },
          {
           "axis": {
            "matches": true
           },
           "label": " Date",
           "values": [
            " 31-03-2020",
            " 30-04-2020",
            " 31-05-2020",
            " 30-06-2020",
            " 31-07-2020",
            " 31-08-2020",
            " 30-09-2020",
            " 31-10-2020"
           ]
          },
          {
           "axis": {
            "matches": true
           },
           "label": " Estimated Unemployment Rate (%)",
           "values": [
            23.57,
            2.28,
            24.51,
            4.46,
            4.45,
            12.49,
            5.7,
            0.88
           ]
          },
          {
           "axis": {
            "matches": true
           },
           "label": " Estimated Employed",
           "values": [
            262895,
            215303,
            193427,
            221058,
            265175,
            244462,
            231798,
            242068
           ]
          },
          {
           "axis": {
            "matches": true
           },
           "label": " Estimated Labour Participation Rate (%)",
           "values": [
            60.59,
            38.7,
            44.88,
            40.4,
            48.32,
            48.49,
            42.54,
            42.13
           ]
          },
          {
           "axis": {
            "matches": true
           },
           "label": "Region.1",
           "values": [
            "Northeast",
            "Northeast",
            "Northeast",
            "Northeast",
            "Northeast",
            "Northeast",
            "Northeast",
            "Northeast"
           ]
          },
          {
           "axis": {
            "matches": true
           },
           "label": "longitude",
           "values": [
            27.533,
            27.533,
            27.533,
            27.533,
            27.533,
            27.533,
            27.533,
            27.533
           ]
          },
          {
           "axis": {
            "matches": true
           },
           "label": "latitude",
           "values": [
            88.5122,
            88.5122,
            88.5122,
            88.5122,
            88.5122,
            88.5122,
            88.5122,
            88.5122
           ]
          },
          {
           "axis": {
            "matches": true
           },
           "label": "day",
           "values": [
            " 31",
            " 30",
            " 31",
            " 30",
            " 31",
            " 31",
            " 30",
            " 31"
           ]
          },
          {
           "axis": {
            "matches": true
           },
           "label": "month",
           "values": [
            "03",
            "04",
            "05",
            "06",
            "07",
            "08",
            "09",
            "10"
           ]
          },
          {
           "axis": {
            "matches": true
           },
           "label": "year",
           "values": [
            "2020",
            "2020",
            "2020",
            "2020",
            "2020",
            "2020",
            "2020",
            "2020"
           ]
          }
         ],
         "hovertemplate": "Region=Sikkim<br>%{xaxis.title.text}=%{x}<br>%{yaxis.title.text}=%{y}<extra></extra>",
         "legendgroup": "Sikkim",
         "marker": {
          "color": "#636efa",
          "symbol": "circle"
         },
         "name": "Sikkim",
         "showlegend": true,
         "type": "splom"
        },
        {
         "dimensions": [
          {
           "axis": {
            "matches": true
           },
           "label": "Region",
           "values": [
            "Tamil Nadu",
            "Tamil Nadu",
            "Tamil Nadu",
            "Tamil Nadu",
            "Tamil Nadu",
            "Tamil Nadu",
            "Tamil Nadu",
            "Tamil Nadu",
            "Tamil Nadu",
            "Tamil Nadu"
           ]
          },
          {
           "axis": {
            "matches": true
           },
           "label": " Date",
           "values": [
            " 31-01-2020",
            " 29-02-2020",
            " 31-03-2020",
            " 30-04-2020",
            " 31-05-2020",
            " 30-06-2020",
            " 31-07-2020",
            " 31-08-2020",
            " 30-09-2020",
            " 31-10-2020"
           ]
          },
          {
           "axis": {
            "matches": true
           },
           "label": " Estimated Unemployment Rate (%)",
           "values": [
            1.57,
            2.09,
            6.4,
            49.83,
            33.16,
            12.2,
            6.81,
            2.65,
            5,
            2.16
           ]
          },
          {
           "axis": {
            "matches": true
           },
           "label": " Estimated Employed",
           "values": [
            26881641,
            27570589,
            26830768,
            9719167,
            11483256,
            19096847,
            24572827,
            27046415,
            23025845,
            23651626
           ]
          },
          {
           "axis": {
            "matches": true
           },
           "label": " Estimated Labour Participation Rate (%)",
           "values": [
            41.96,
            43.2,
            43.91,
            29.63,
            26.23,
            33.16,
            40.13,
            42.22,
            36.77,
            36.62
           ]
          },
          {
           "axis": {
            "matches": true
           },
           "label": "Region.1",
           "values": [
            "South",
            "South",
            "South",
            "South",
            "South",
            "South",
            "South",
            "South",
            "South",
            "South"
           ]
          },
          {
           "axis": {
            "matches": true
           },
           "label": "longitude",
           "values": [
            11.1271,
            11.1271,
            11.1271,
            11.1271,
            11.1271,
            11.1271,
            11.1271,
            11.1271,
            11.1271,
            11.1271
           ]
          },
          {
           "axis": {
            "matches": true
           },
           "label": "latitude",
           "values": [
            78.6569,
            78.6569,
            78.6569,
            78.6569,
            78.6569,
            78.6569,
            78.6569,
            78.6569,
            78.6569,
            78.6569
           ]
          },
          {
           "axis": {
            "matches": true
           },
           "label": "day",
           "values": [
            " 31",
            " 29",
            " 31",
            " 30",
            " 31",
            " 30",
            " 31",
            " 31",
            " 30",
            " 31"
           ]
          },
          {
           "axis": {
            "matches": true
           },
           "label": "month",
           "values": [
            "01",
            "02",
            "03",
            "04",
            "05",
            "06",
            "07",
            "08",
            "09",
            "10"
           ]
          },
          {
           "axis": {
            "matches": true
           },
           "label": "year",
           "values": [
            "2020",
            "2020",
            "2020",
            "2020",
            "2020",
            "2020",
            "2020",
            "2020",
            "2020",
            "2020"
           ]
          }
         ],
         "hovertemplate": "Region=Tamil Nadu<br>%{xaxis.title.text}=%{x}<br>%{yaxis.title.text}=%{y}<extra></extra>",
         "legendgroup": "Tamil Nadu",
         "marker": {
          "color": "#EF553B",
          "symbol": "circle"
         },
         "name": "Tamil Nadu",
         "showlegend": true,
         "type": "splom"
        },
        {
         "dimensions": [
          {
           "axis": {
            "matches": true
           },
           "label": "Region",
           "values": [
            "Telangana",
            "Telangana",
            "Telangana",
            "Telangana",
            "Telangana",
            "Telangana",
            "Telangana",
            "Telangana",
            "Telangana",
            "Telangana"
           ]
          },
          {
           "axis": {
            "matches": true
           },
           "label": " Date",
           "values": [
            " 31-01-2020",
            " 29-02-2020",
            " 31-03-2020",
            " 30-04-2020",
            " 31-05-2020",
            " 30-06-2020",
            " 31-07-2020",
            " 31-08-2020",
            " 30-09-2020",
            " 31-10-2020"
           ]
          },
          {
           "axis": {
            "matches": true
           },
           "label": " Estimated Unemployment Rate (%)",
           "values": [
            5.49,
            8.29,
            5.77,
            6.25,
            14.7,
            10.55,
            5.36,
            5.79,
            3.27,
            2.86
           ]
          },
          {
           "axis": {
            "matches": true
           },
           "label": " Estimated Employed",
           "values": [
            17609295,
            16825970,
            17341613,
            12172230,
            14977774,
            15108910,
            15679417,
            18185429,
            16961448,
            17578739
           ]
          },
          {
           "axis": {
            "matches": true
           },
           "label": " Estimated Labour Participation Rate (%)",
           "values": [
            59.25,
            58.24,
            58.31,
            41.06,
            55.43,
            53.22,
            52.1,
            60.59,
            54.94,
            56.58
           ]
          },
          {
           "axis": {
            "matches": true
           },
           "label": "Region.1",
           "values": [
            "South",
            "South",
            "South",
            "South",
            "South",
            "South",
            "South",
            "South",
            "South",
            "South"
           ]
          },
          {
           "axis": {
            "matches": true
           },
           "label": "longitude",
           "values": [
            18.1124,
            18.1124,
            18.1124,
            18.1124,
            18.1124,
            18.1124,
            18.1124,
            18.1124,
            18.1124,
            18.1124
           ]
          },
          {
           "axis": {
            "matches": true
           },
           "label": "latitude",
           "values": [
            79.0193,
            79.0193,
            79.0193,
            79.0193,
            79.0193,
            79.0193,
            79.0193,
            79.0193,
            79.0193,
            79.0193
           ]
          },
          {
           "axis": {
            "matches": true
           },
           "label": "day",
           "values": [
            " 31",
            " 29",
            " 31",
            " 30",
            " 31",
            " 30",
            " 31",
            " 31",
            " 30",
            " 31"
           ]
          },
          {
           "axis": {
            "matches": true
           },
           "label": "month",
           "values": [
            "01",
            "02",
            "03",
            "04",
            "05",
            "06",
            "07",
            "08",
            "09",
            "10"
           ]
          },
          {
           "axis": {
            "matches": true
           },
           "label": "year",
           "values": [
            "2020",
            "2020",
            "2020",
            "2020",
            "2020",
            "2020",
            "2020",
            "2020",
            "2020",
            "2020"
           ]
          }
         ],
         "hovertemplate": "Region=Telangana<br>%{xaxis.title.text}=%{x}<br>%{yaxis.title.text}=%{y}<extra></extra>",
         "legendgroup": "Telangana",
         "marker": {
          "color": "#00cc96",
          "symbol": "circle"
         },
         "name": "Telangana",
         "showlegend": true,
         "type": "splom"
        },
        {
         "dimensions": [
          {
           "axis": {
            "matches": true
           },
           "label": "Region",
           "values": [
            "Tripura",
            "Tripura",
            "Tripura",
            "Tripura",
            "Tripura",
            "Tripura",
            "Tripura",
            "Tripura",
            "Tripura",
            "Tripura"
           ]
          },
          {
           "axis": {
            "matches": true
           },
           "label": " Date",
           "values": [
            " 31-01-2020",
            " 29-02-2020",
            " 31-03-2020",
            " 30-04-2020",
            " 31-05-2020",
            " 30-06-2020",
            " 31-07-2020",
            " 31-08-2020",
            " 30-09-2020",
            " 31-10-2020"
           ]
          },
          {
           "axis": {
            "matches": true
           },
           "label": " Estimated Unemployment Rate (%)",
           "values": [
            32.67,
            28.4,
            29.95,
            41.23,
            21.51,
            21.71,
            18.24,
            27.92,
            17.35,
            11.57
           ]
          },
          {
           "axis": {
            "matches": true
           },
           "label": " Estimated Employed",
           "values": [
            1508130,
            1584686,
            1511217,
            971514,
            1290986,
            1494140,
            1348849,
            1318621,
            1368244,
            1576529
           ]
          },
          {
           "axis": {
            "matches": true
           },
           "label": " Estimated Labour Participation Rate (%)",
           "values": [
            69.69,
            68.74,
            66.89,
            51.16,
            50.81,
            58.85,
            50.78,
            56.21,
            50.77,
            54.58
           ]
          },
          {
           "axis": {
            "matches": true
           },
           "label": "Region.1",
           "values": [
            "Northeast",
            "Northeast",
            "Northeast",
            "Northeast",
            "Northeast",
            "Northeast",
            "Northeast",
            "Northeast",
            "Northeast",
            "Northeast"
           ]
          },
          {
           "axis": {
            "matches": true
           },
           "label": "longitude",
           "values": [
            23.9408,
            23.9408,
            23.9408,
            23.9408,
            23.9408,
            23.9408,
            23.9408,
            23.9408,
            23.9408,
            23.9408
           ]
          },
          {
           "axis": {
            "matches": true
           },
           "label": "latitude",
           "values": [
            91.9882,
            91.9882,
            91.9882,
            91.9882,
            91.9882,
            91.9882,
            91.9882,
            91.9882,
            91.9882,
            91.9882
           ]
          },
          {
           "axis": {
            "matches": true
           },
           "label": "day",
           "values": [
            " 31",
            " 29",
            " 31",
            " 30",
            " 31",
            " 30",
            " 31",
            " 31",
            " 30",
            " 31"
           ]
          },
          {
           "axis": {
            "matches": true
           },
           "label": "month",
           "values": [
            "01",
            "02",
            "03",
            "04",
            "05",
            "06",
            "07",
            "08",
            "09",
            "10"
           ]
          },
          {
           "axis": {
            "matches": true
           },
           "label": "year",
           "values": [
            "2020",
            "2020",
            "2020",
            "2020",
            "2020",
            "2020",
            "2020",
            "2020",
            "2020",
            "2020"
           ]
          }
         ],
         "hovertemplate": "Region=Tripura<br>%{xaxis.title.text}=%{x}<br>%{yaxis.title.text}=%{y}<extra></extra>",
         "legendgroup": "Tripura",
         "marker": {
          "color": "#ab63fa",
          "symbol": "circle"
         },
         "name": "Tripura",
         "showlegend": true,
         "type": "splom"
        },
        {
         "dimensions": [
          {
           "axis": {
            "matches": true
           },
           "label": "Region",
           "values": [
            "Uttar Pradesh",
            "Uttar Pradesh",
            "Uttar Pradesh",
            "Uttar Pradesh",
            "Uttar Pradesh",
            "Uttar Pradesh",
            "Uttar Pradesh",
            "Uttar Pradesh",
            "Uttar Pradesh",
            "Uttar Pradesh"
           ]
          },
          {
           "axis": {
            "matches": true
           },
           "label": " Date",
           "values": [
            " 31-01-2020",
            " 29-02-2020",
            " 31-03-2020",
            " 30-04-2020",
            " 31-05-2020",
            " 30-06-2020",
            " 31-07-2020",
            " 31-08-2020",
            " 30-09-2020",
            " 31-10-2020"
           ]
          },
          {
           "axis": {
            "matches": true
           },
           "label": " Estimated Unemployment Rate (%)",
           "values": [
            7.58,
            8.98,
            10.11,
            21.54,
            20.41,
            9.47,
            5.56,
            5.79,
            4.18,
            3.75
           ]
          },
          {
           "axis": {
            "matches": true
           },
           "label": " Estimated Employed",
           "values": [
            59433759,
            58060531,
            56976338,
            50915056,
            49801902,
            55380649,
            56201654,
            55831744,
            56106836,
            56539521
           ]
          },
          {
           "axis": {
            "matches": true
           },
           "label": " Estimated Labour Participation Rate (%)",
           "values": [
            39.63,
            39.23,
            38.89,
            39.73,
            38.22,
            37.29,
            36.19,
            35.96,
            35.45,
            35.49
           ]
          },
          {
           "axis": {
            "matches": true
           },
           "label": "Region.1",
           "values": [
            "North",
            "North",
            "North",
            "North",
            "North",
            "North",
            "North",
            "North",
            "North",
            "North"
           ]
          },
          {
           "axis": {
            "matches": true
           },
           "label": "longitude",
           "values": [
            26.8467,
            26.8467,
            26.8467,
            26.8467,
            26.8467,
            26.8467,
            26.8467,
            26.8467,
            26.8467,
            26.8467
           ]
          },
          {
           "axis": {
            "matches": true
           },
           "label": "latitude",
           "values": [
            80.9462,
            80.9462,
            80.9462,
            80.9462,
            80.9462,
            80.9462,
            80.9462,
            80.9462,
            80.9462,
            80.9462
           ]
          },
          {
           "axis": {
            "matches": true
           },
           "label": "day",
           "values": [
            " 31",
            " 29",
            " 31",
            " 30",
            " 31",
            " 30",
            " 31",
            " 31",
            " 30",
            " 31"
           ]
          },
          {
           "axis": {
            "matches": true
           },
           "label": "month",
           "values": [
            "01",
            "02",
            "03",
            "04",
            "05",
            "06",
            "07",
            "08",
            "09",
            "10"
           ]
          },
          {
           "axis": {
            "matches": true
           },
           "label": "year",
           "values": [
            "2020",
            "2020",
            "2020",
            "2020",
            "2020",
            "2020",
            "2020",
            "2020",
            "2020",
            "2020"
           ]
          }
         ],
         "hovertemplate": "Region=Uttar Pradesh<br>%{xaxis.title.text}=%{x}<br>%{yaxis.title.text}=%{y}<extra></extra>",
         "legendgroup": "Uttar Pradesh",
         "marker": {
          "color": "#FFA15A",
          "symbol": "circle"
         },
         "name": "Uttar Pradesh",
         "showlegend": true,
         "type": "splom"
        },
        {
         "dimensions": [
          {
           "axis": {
            "matches": true
           },
           "label": "Region",
           "values": [
            "Uttarakhand",
            "Uttarakhand",
            "Uttarakhand",
            "Uttarakhand",
            "Uttarakhand",
            "Uttarakhand",
            "Uttarakhand",
            "Uttarakhand",
            "Uttarakhand",
            "Uttarakhand"
           ]
          },
          {
           "axis": {
            "matches": true
           },
           "label": " Date",
           "values": [
            " 31-01-2020",
            " 29-02-2020",
            " 31-03-2020",
            " 30-04-2020",
            " 31-05-2020",
            " 30-06-2020",
            " 31-07-2020",
            " 31-08-2020",
            " 30-09-2020",
            " 31-10-2020"
           ]
          },
          {
           "axis": {
            "matches": true
           },
           "label": " Estimated Unemployment Rate (%)",
           "values": [
            5.49,
            4.99,
            19.85,
            6.48,
            8.01,
            8.61,
            12.38,
            14.26,
            22.26,
            9.23
           ]
          },
          {
           "axis": {
            "matches": true
           },
           "label": " Estimated Employed",
           "values": [
            2711639,
            3020931,
            2539302,
            2720115,
            2694072,
            2656071,
            2938552,
            2717528,
            2695230,
            2739309
           ]
          },
          {
           "axis": {
            "matches": true
           },
           "label": " Estimated Labour Participation Rate (%)",
           "values": [
            32.99,
            36.48,
            36.27,
            33.23,
            33.38,
            33.06,
            38.07,
            35.9,
            39.18,
            34.03
           ]
          },
          {
           "axis": {
            "matches": true
           },
           "label": "Region.1",
           "values": [
            "North",
            "North",
            "North",
            "North",
            "North",
            "North",
            "North",
            "North",
            "North",
            "North"
           ]
          },
          {
           "axis": {
            "matches": true
           },
           "label": "longitude",
           "values": [
            30.0668,
            30.0668,
            30.0668,
            30.0668,
            30.0668,
            30.0668,
            30.0668,
            30.0668,
            30.0668,
            30.0668
           ]
          },
          {
           "axis": {
            "matches": true
           },
           "label": "latitude",
           "values": [
            79.0193,
            79.0193,
            79.0193,
            79.0193,
            79.0193,
            79.0193,
            79.0193,
            79.0193,
            79.0193,
            79.0193
           ]
          },
          {
           "axis": {
            "matches": true
           },
           "label": "day",
           "values": [
            " 31",
            " 29",
            " 31",
            " 30",
            " 31",
            " 30",
            " 31",
            " 31",
            " 30",
            " 31"
           ]
          },
          {
           "axis": {
            "matches": true
           },
           "label": "month",
           "values": [
            "01",
            "02",
            "03",
            "04",
            "05",
            "06",
            "07",
            "08",
            "09",
            "10"
           ]
          },
          {
           "axis": {
            "matches": true
           },
           "label": "year",
           "values": [
            "2020",
            "2020",
            "2020",
            "2020",
            "2020",
            "2020",
            "2020",
            "2020",
            "2020",
            "2020"
           ]
          }
         ],
         "hovertemplate": "Region=Uttarakhand<br>%{xaxis.title.text}=%{x}<br>%{yaxis.title.text}=%{y}<extra></extra>",
         "legendgroup": "Uttarakhand",
         "marker": {
          "color": "#19d3f3",
          "symbol": "circle"
         },
         "name": "Uttarakhand",
         "showlegend": true,
         "type": "splom"
        },
        {
         "dimensions": [
          {
           "axis": {
            "matches": true
           },
           "label": "Region",
           "values": [
            "West Bengal",
            "West Bengal",
            "West Bengal",
            "West Bengal",
            "West Bengal",
            "West Bengal",
            "West Bengal",
            "West Bengal",
            "West Bengal",
            "West Bengal"
           ]
          },
          {
           "axis": {
            "matches": true
           },
           "label": " Date",
           "values": [
            " 31-01-2020",
            " 29-02-2020",
            " 31-03-2020",
            " 30-04-2020",
            " 31-05-2020",
            " 30-06-2020",
            " 31-07-2020",
            " 31-08-2020",
            " 30-09-2020",
            " 31-10-2020"
           ]
          },
          {
           "axis": {
            "matches": true
           },
           "label": " Estimated Unemployment Rate (%)",
           "values": [
            6.94,
            4.92,
            6.92,
            17.41,
            17.41,
            7.29,
            6.83,
            14.87,
            9.35,
            9.98
           ]
          },
          {
           "axis": {
            "matches": true
           },
           "label": " Estimated Employed",
           "values": [
            35820789,
            36964178,
            35903917,
            26938836,
            28356675,
            30726310,
            35372506,
            33298644,
            35707239,
            33962549
           ]
          },
          {
           "axis": {
            "matches": true
           },
           "label": " Estimated Labour Participation Rate (%)",
           "values": [
            47.35,
            47.74,
            47.27,
            39.9,
            41.92,
            40.39,
            46.17,
            47.48,
            47.73,
            45.63
           ]
          },
          {
           "axis": {
            "matches": true
           },
           "label": "Region.1",
           "values": [
            "East",
            "East",
            "East",
            "East",
            "East",
            "East",
            "East",
            "East",
            "East",
            "East"
           ]
          },
          {
           "axis": {
            "matches": true
           },
           "label": "longitude",
           "values": [
            22.9868,
            22.9868,
            22.9868,
            22.9868,
            22.9868,
            22.9868,
            22.9868,
            22.9868,
            22.9868,
            22.9868
           ]
          },
          {
           "axis": {
            "matches": true
           },
           "label": "latitude",
           "values": [
            87.855,
            87.855,
            87.855,
            87.855,
            87.855,
            87.855,
            87.855,
            87.855,
            87.855,
            87.855
           ]
          },
          {
           "axis": {
            "matches": true
           },
           "label": "day",
           "values": [
            " 31",
            " 29",
            " 31",
            " 30",
            " 31",
            " 30",
            " 31",
            " 31",
            " 30",
            " 31"
           ]
          },
          {
           "axis": {
            "matches": true
           },
           "label": "month",
           "values": [
            "01",
            "02",
            "03",
            "04",
            "05",
            "06",
            "07",
            "08",
            "09",
            "10"
           ]
          },
          {
           "axis": {
            "matches": true
           },
           "label": "year",
           "values": [
            "2020",
            "2020",
            "2020",
            "2020",
            "2020",
            "2020",
            "2020",
            "2020",
            "2020",
            "2020"
           ]
          }
         ],
         "hovertemplate": "Region=West Bengal<br>%{xaxis.title.text}=%{x}<br>%{yaxis.title.text}=%{y}<extra></extra>",
         "legendgroup": "West Bengal",
         "marker": {
          "color": "#FF6692",
          "symbol": "circle"
         },
         "name": "West Bengal",
         "showlegend": true,
         "type": "splom"
        }
       ],
       "layout": {
        "dragmode": "select",
        "legend": {
         "title": {
          "text": "Region"
         },
         "tracegroupgap": 0
        },
        "margin": {
         "t": 60
        },
        "template": {
         "data": {
          "bar": [
           {
            "error_x": {
             "color": "#2a3f5f"
            },
            "error_y": {
             "color": "#2a3f5f"
            },
            "marker": {
             "line": {
              "color": "#E5ECF6",
              "width": 0.5
             },
             "pattern": {
              "fillmode": "overlay",
              "size": 10,
              "solidity": 0.2
             }
            },
            "type": "bar"
           }
          ],
          "barpolar": [
           {
            "marker": {
             "line": {
              "color": "#E5ECF6",
              "width": 0.5
             },
             "pattern": {
              "fillmode": "overlay",
              "size": 10,
              "solidity": 0.2
             }
            },
            "type": "barpolar"
           }
          ],
          "carpet": [
           {
            "aaxis": {
             "endlinecolor": "#2a3f5f",
             "gridcolor": "white",
             "linecolor": "white",
             "minorgridcolor": "white",
             "startlinecolor": "#2a3f5f"
            },
            "baxis": {
             "endlinecolor": "#2a3f5f",
             "gridcolor": "white",
             "linecolor": "white",
             "minorgridcolor": "white",
             "startlinecolor": "#2a3f5f"
            },
            "type": "carpet"
           }
          ],
          "choropleth": [
           {
            "colorbar": {
             "outlinewidth": 0,
             "ticks": ""
            },
            "type": "choropleth"
           }
          ],
          "contour": [
           {
            "colorbar": {
             "outlinewidth": 0,
             "ticks": ""
            },
            "colorscale": [
             [
              0,
              "#0d0887"
             ],
             [
              0.1111111111111111,
              "#46039f"
             ],
             [
              0.2222222222222222,
              "#7201a8"
             ],
             [
              0.3333333333333333,
              "#9c179e"
             ],
             [
              0.4444444444444444,
              "#bd3786"
             ],
             [
              0.5555555555555556,
              "#d8576b"
             ],
             [
              0.6666666666666666,
              "#ed7953"
             ],
             [
              0.7777777777777778,
              "#fb9f3a"
             ],
             [
              0.8888888888888888,
              "#fdca26"
             ],
             [
              1,
              "#f0f921"
             ]
            ],
            "type": "contour"
           }
          ],
          "contourcarpet": [
           {
            "colorbar": {
             "outlinewidth": 0,
             "ticks": ""
            },
            "type": "contourcarpet"
           }
          ],
          "heatmap": [
           {
            "colorbar": {
             "outlinewidth": 0,
             "ticks": ""
            },
            "colorscale": [
             [
              0,
              "#0d0887"
             ],
             [
              0.1111111111111111,
              "#46039f"
             ],
             [
              0.2222222222222222,
              "#7201a8"
             ],
             [
              0.3333333333333333,
              "#9c179e"
             ],
             [
              0.4444444444444444,
              "#bd3786"
             ],
             [
              0.5555555555555556,
              "#d8576b"
             ],
             [
              0.6666666666666666,
              "#ed7953"
             ],
             [
              0.7777777777777778,
              "#fb9f3a"
             ],
             [
              0.8888888888888888,
              "#fdca26"
             ],
             [
              1,
              "#f0f921"
             ]
            ],
            "type": "heatmap"
           }
          ],
          "heatmapgl": [
           {
            "colorbar": {
             "outlinewidth": 0,
             "ticks": ""
            },
            "colorscale": [
             [
              0,
              "#0d0887"
             ],
             [
              0.1111111111111111,
              "#46039f"
             ],
             [
              0.2222222222222222,
              "#7201a8"
             ],
             [
              0.3333333333333333,
              "#9c179e"
             ],
             [
              0.4444444444444444,
              "#bd3786"
             ],
             [
              0.5555555555555556,
              "#d8576b"
             ],
             [
              0.6666666666666666,
              "#ed7953"
             ],
             [
              0.7777777777777778,
              "#fb9f3a"
             ],
             [
              0.8888888888888888,
              "#fdca26"
             ],
             [
              1,
              "#f0f921"
             ]
            ],
            "type": "heatmapgl"
           }
          ],
          "histogram": [
           {
            "marker": {
             "pattern": {
              "fillmode": "overlay",
              "size": 10,
              "solidity": 0.2
             }
            },
            "type": "histogram"
           }
          ],
          "histogram2d": [
           {
            "colorbar": {
             "outlinewidth": 0,
             "ticks": ""
            },
            "colorscale": [
             [
              0,
              "#0d0887"
             ],
             [
              0.1111111111111111,
              "#46039f"
             ],
             [
              0.2222222222222222,
              "#7201a8"
             ],
             [
              0.3333333333333333,
              "#9c179e"
             ],
             [
              0.4444444444444444,
              "#bd3786"
             ],
             [
              0.5555555555555556,
              "#d8576b"
             ],
             [
              0.6666666666666666,
              "#ed7953"
             ],
             [
              0.7777777777777778,
              "#fb9f3a"
             ],
             [
              0.8888888888888888,
              "#fdca26"
             ],
             [
              1,
              "#f0f921"
             ]
            ],
            "type": "histogram2d"
           }
          ],
          "histogram2dcontour": [
           {
            "colorbar": {
             "outlinewidth": 0,
             "ticks": ""
            },
            "colorscale": [
             [
              0,
              "#0d0887"
             ],
             [
              0.1111111111111111,
              "#46039f"
             ],
             [
              0.2222222222222222,
              "#7201a8"
             ],
             [
              0.3333333333333333,
              "#9c179e"
             ],
             [
              0.4444444444444444,
              "#bd3786"
             ],
             [
              0.5555555555555556,
              "#d8576b"
             ],
             [
              0.6666666666666666,
              "#ed7953"
             ],
             [
              0.7777777777777778,
              "#fb9f3a"
             ],
             [
              0.8888888888888888,
              "#fdca26"
             ],
             [
              1,
              "#f0f921"
             ]
            ],
            "type": "histogram2dcontour"
           }
          ],
          "mesh3d": [
           {
            "colorbar": {
             "outlinewidth": 0,
             "ticks": ""
            },
            "type": "mesh3d"
           }
          ],
          "parcoords": [
           {
            "line": {
             "colorbar": {
              "outlinewidth": 0,
              "ticks": ""
             }
            },
            "type": "parcoords"
           }
          ],
          "pie": [
           {
            "automargin": true,
            "type": "pie"
           }
          ],
          "scatter": [
           {
            "fillpattern": {
             "fillmode": "overlay",
             "size": 10,
             "solidity": 0.2
            },
            "type": "scatter"
           }
          ],
          "scatter3d": [
           {
            "line": {
             "colorbar": {
              "outlinewidth": 0,
              "ticks": ""
             }
            },
            "marker": {
             "colorbar": {
              "outlinewidth": 0,
              "ticks": ""
             }
            },
            "type": "scatter3d"
           }
          ],
          "scattercarpet": [
           {
            "marker": {
             "colorbar": {
              "outlinewidth": 0,
              "ticks": ""
             }
            },
            "type": "scattercarpet"
           }
          ],
          "scattergeo": [
           {
            "marker": {
             "colorbar": {
              "outlinewidth": 0,
              "ticks": ""
             }
            },
            "type": "scattergeo"
           }
          ],
          "scattergl": [
           {
            "marker": {
             "colorbar": {
              "outlinewidth": 0,
              "ticks": ""
             }
            },
            "type": "scattergl"
           }
          ],
          "scattermapbox": [
           {
            "marker": {
             "colorbar": {
              "outlinewidth": 0,
              "ticks": ""
             }
            },
            "type": "scattermapbox"
           }
          ],
          "scatterpolar": [
           {
            "marker": {
             "colorbar": {
              "outlinewidth": 0,
              "ticks": ""
             }
            },
            "type": "scatterpolar"
           }
          ],
          "scatterpolargl": [
           {
            "marker": {
             "colorbar": {
              "outlinewidth": 0,
              "ticks": ""
             }
            },
            "type": "scatterpolargl"
           }
          ],
          "scatterternary": [
           {
            "marker": {
             "colorbar": {
              "outlinewidth": 0,
              "ticks": ""
             }
            },
            "type": "scatterternary"
           }
          ],
          "surface": [
           {
            "colorbar": {
             "outlinewidth": 0,
             "ticks": ""
            },
            "colorscale": [
             [
              0,
              "#0d0887"
             ],
             [
              0.1111111111111111,
              "#46039f"
             ],
             [
              0.2222222222222222,
              "#7201a8"
             ],
             [
              0.3333333333333333,
              "#9c179e"
             ],
             [
              0.4444444444444444,
              "#bd3786"
             ],
             [
              0.5555555555555556,
              "#d8576b"
             ],
             [
              0.6666666666666666,
              "#ed7953"
             ],
             [
              0.7777777777777778,
              "#fb9f3a"
             ],
             [
              0.8888888888888888,
              "#fdca26"
             ],
             [
              1,
              "#f0f921"
             ]
            ],
            "type": "surface"
           }
          ],
          "table": [
           {
            "cells": {
             "fill": {
              "color": "#EBF0F8"
             },
             "line": {
              "color": "white"
             }
            },
            "header": {
             "fill": {
              "color": "#C8D4E3"
             },
             "line": {
              "color": "white"
             }
            },
            "type": "table"
           }
          ]
         },
         "layout": {
          "annotationdefaults": {
           "arrowcolor": "#2a3f5f",
           "arrowhead": 0,
           "arrowwidth": 1
          },
          "autotypenumbers": "strict",
          "coloraxis": {
           "colorbar": {
            "outlinewidth": 0,
            "ticks": ""
           }
          },
          "colorscale": {
           "diverging": [
            [
             0,
             "#8e0152"
            ],
            [
             0.1,
             "#c51b7d"
            ],
            [
             0.2,
             "#de77ae"
            ],
            [
             0.3,
             "#f1b6da"
            ],
            [
             0.4,
             "#fde0ef"
            ],
            [
             0.5,
             "#f7f7f7"
            ],
            [
             0.6,
             "#e6f5d0"
            ],
            [
             0.7,
             "#b8e186"
            ],
            [
             0.8,
             "#7fbc41"
            ],
            [
             0.9,
             "#4d9221"
            ],
            [
             1,
             "#276419"
            ]
           ],
           "sequential": [
            [
             0,
             "#0d0887"
            ],
            [
             0.1111111111111111,
             "#46039f"
            ],
            [
             0.2222222222222222,
             "#7201a8"
            ],
            [
             0.3333333333333333,
             "#9c179e"
            ],
            [
             0.4444444444444444,
             "#bd3786"
            ],
            [
             0.5555555555555556,
             "#d8576b"
            ],
            [
             0.6666666666666666,
             "#ed7953"
            ],
            [
             0.7777777777777778,
             "#fb9f3a"
            ],
            [
             0.8888888888888888,
             "#fdca26"
            ],
            [
             1,
             "#f0f921"
            ]
           ],
           "sequentialminus": [
            [
             0,
             "#0d0887"
            ],
            [
             0.1111111111111111,
             "#46039f"
            ],
            [
             0.2222222222222222,
             "#7201a8"
            ],
            [
             0.3333333333333333,
             "#9c179e"
            ],
            [
             0.4444444444444444,
             "#bd3786"
            ],
            [
             0.5555555555555556,
             "#d8576b"
            ],
            [
             0.6666666666666666,
             "#ed7953"
            ],
            [
             0.7777777777777778,
             "#fb9f3a"
            ],
            [
             0.8888888888888888,
             "#fdca26"
            ],
            [
             1,
             "#f0f921"
            ]
           ]
          },
          "colorway": [
           "#636efa",
           "#EF553B",
           "#00cc96",
           "#ab63fa",
           "#FFA15A",
           "#19d3f3",
           "#FF6692",
           "#B6E880",
           "#FF97FF",
           "#FECB52"
          ],
          "font": {
           "color": "#2a3f5f"
          },
          "geo": {
           "bgcolor": "white",
           "lakecolor": "white",
           "landcolor": "#E5ECF6",
           "showlakes": true,
           "showland": true,
           "subunitcolor": "white"
          },
          "hoverlabel": {
           "align": "left"
          },
          "hovermode": "closest",
          "mapbox": {
           "style": "light"
          },
          "paper_bgcolor": "white",
          "plot_bgcolor": "#E5ECF6",
          "polar": {
           "angularaxis": {
            "gridcolor": "white",
            "linecolor": "white",
            "ticks": ""
           },
           "bgcolor": "#E5ECF6",
           "radialaxis": {
            "gridcolor": "white",
            "linecolor": "white",
            "ticks": ""
           }
          },
          "scene": {
           "xaxis": {
            "backgroundcolor": "#E5ECF6",
            "gridcolor": "white",
            "gridwidth": 2,
            "linecolor": "white",
            "showbackground": true,
            "ticks": "",
            "zerolinecolor": "white"
           },
           "yaxis": {
            "backgroundcolor": "#E5ECF6",
            "gridcolor": "white",
            "gridwidth": 2,
            "linecolor": "white",
            "showbackground": true,
            "ticks": "",
            "zerolinecolor": "white"
           },
           "zaxis": {
            "backgroundcolor": "#E5ECF6",
            "gridcolor": "white",
            "gridwidth": 2,
            "linecolor": "white",
            "showbackground": true,
            "ticks": "",
            "zerolinecolor": "white"
           }
          },
          "shapedefaults": {
           "line": {
            "color": "#2a3f5f"
           }
          },
          "ternary": {
           "aaxis": {
            "gridcolor": "white",
            "linecolor": "white",
            "ticks": ""
           },
           "baxis": {
            "gridcolor": "white",
            "linecolor": "white",
            "ticks": ""
           },
           "bgcolor": "#E5ECF6",
           "caxis": {
            "gridcolor": "white",
            "linecolor": "white",
            "ticks": ""
           }
          },
          "title": {
           "x": 0.05
          },
          "xaxis": {
           "automargin": true,
           "gridcolor": "white",
           "linecolor": "white",
           "ticks": "",
           "title": {
            "standoff": 15
           },
           "zerolinecolor": "white",
           "zerolinewidth": 2
          },
          "yaxis": {
           "automargin": true,
           "gridcolor": "white",
           "linecolor": "white",
           "ticks": "",
           "title": {
            "standoff": 15
           },
           "zerolinecolor": "white",
           "zerolinewidth": 2
          }
         }
        }
       }
      },
      "text/html": [
       "<div>                            <div id=\"a3e2f82d-4108-46ef-a5b3-554bec5e895c\" class=\"plotly-graph-div\" style=\"height:525px; width:100%;\"></div>            <script type=\"text/javascript\">                require([\"plotly\"], function(Plotly) {                    window.PLOTLYENV=window.PLOTLYENV || {};                                    if (document.getElementById(\"a3e2f82d-4108-46ef-a5b3-554bec5e895c\")) {                    Plotly.newPlot(                        \"a3e2f82d-4108-46ef-a5b3-554bec5e895c\",                        [{\"dimensions\":[{\"axis\":{\"matches\":true},\"label\":\"Region\",\"values\":[\"Andhra Pradesh\",\"Andhra Pradesh\",\"Andhra Pradesh\",\"Andhra Pradesh\",\"Andhra Pradesh\",\"Andhra Pradesh\",\"Andhra Pradesh\",\"Andhra Pradesh\",\"Andhra Pradesh\",\"Andhra Pradesh\"]},{\"axis\":{\"matches\":true},\"label\":\" Date\",\"values\":[\" 31-01-2020\",\" 29-02-2020\",\" 31-03-2020\",\" 30-04-2020\",\" 31-05-2020\",\" 30-06-2020\",\" 31-07-2020\",\" 31-08-2020\",\" 30-09-2020\",\" 31-10-2020\"]},{\"axis\":{\"matches\":true},\"label\":\" Estimated Unemployment Rate (%)\",\"values\":[5.48,5.83,5.79,20.51,17.43,3.31,8.34,6.96,6.4,6.59]},{\"axis\":{\"matches\":true},\"label\":\" Estimated Employed\",\"values\":[16635535,16545652,15881197,11336911,12988845,19805400,15431615,15251776,15220312,15157557]},{\"axis\":{\"matches\":true},\"label\":\" Estimated Labour Participation Rate (%)\",\"values\":[41.02,40.9,39.18,33.1,36.46,47.41,38.91,37.83,37.47,37.34]},{\"axis\":{\"matches\":true},\"label\":\"Region.1\",\"values\":[\"South\",\"South\",\"South\",\"South\",\"South\",\"South\",\"South\",\"South\",\"South\",\"South\"]},{\"axis\":{\"matches\":true},\"label\":\"longitude\",\"values\":[15.9129,15.9129,15.9129,15.9129,15.9129,15.9129,15.9129,15.9129,15.9129,15.9129]},{\"axis\":{\"matches\":true},\"label\":\"latitude\",\"values\":[79.74,79.74,79.74,79.74,79.74,79.74,79.74,79.74,79.74,79.74]},{\"axis\":{\"matches\":true},\"label\":\"day\",\"values\":[\" 31\",\" 29\",\" 31\",\" 30\",\" 31\",\" 30\",\" 31\",\" 31\",\" 30\",\" 31\"]},{\"axis\":{\"matches\":true},\"label\":\"month\",\"values\":[\"01\",\"02\",\"03\",\"04\",\"05\",\"06\",\"07\",\"08\",\"09\",\"10\"]},{\"axis\":{\"matches\":true},\"label\":\"year\",\"values\":[\"2020\",\"2020\",\"2020\",\"2020\",\"2020\",\"2020\",\"2020\",\"2020\",\"2020\",\"2020\"]}],\"hovertemplate\":\"Region=Andhra Pradesh<br>%{xaxis.title.text}=%{x}<br>%{yaxis.title.text}=%{y}<extra></extra>\",\"legendgroup\":\"Andhra Pradesh\",\"marker\":{\"color\":\"#636efa\",\"symbol\":\"circle\"},\"name\":\"Andhra Pradesh\",\"showlegend\":true,\"type\":\"splom\"},{\"dimensions\":[{\"axis\":{\"matches\":true},\"label\":\"Region\",\"values\":[\"Assam\",\"Assam\",\"Assam\",\"Assam\",\"Assam\",\"Assam\",\"Assam\",\"Assam\",\"Assam\",\"Assam\"]},{\"axis\":{\"matches\":true},\"label\":\" Date\",\"values\":[\" 31-01-2020\",\" 29-02-2020\",\" 31-03-2020\",\" 30-04-2020\",\" 31-05-2020\",\" 30-06-2020\",\" 31-07-2020\",\" 31-08-2020\",\" 30-09-2020\",\" 31-10-2020\"]},{\"axis\":{\"matches\":true},\"label\":\" Estimated Unemployment Rate (%)\",\"values\":[4.66,4.41,4.77,11.06,9.55,0.6,3.77,5.53,1.19,3.02]},{\"axis\":{\"matches\":true},\"label\":\" Estimated Employed\",\"values\":[13051904,10088268,11542888,6830817,11367897,9095944,10286757,9781310,14107641,11949329]},{\"axis\":{\"matches\":true},\"label\":\" Estimated Labour Participation Rate (%)\",\"values\":[52.98,40.77,46.73,29.55,48.26,35.07,40.88,39.52,54.38,46.84]},{\"axis\":{\"matches\":true},\"label\":\"Region.1\",\"values\":[\"Northeast\",\"Northeast\",\"Northeast\",\"Northeast\",\"Northeast\",\"Northeast\",\"Northeast\",\"Northeast\",\"Northeast\",\"Northeast\"]},{\"axis\":{\"matches\":true},\"label\":\"longitude\",\"values\":[26.2006,26.2006,26.2006,26.2006,26.2006,26.2006,26.2006,26.2006,26.2006,26.2006]},{\"axis\":{\"matches\":true},\"label\":\"latitude\",\"values\":[92.9376,92.9376,92.9376,92.9376,92.9376,92.9376,92.9376,92.9376,92.9376,92.9376]},{\"axis\":{\"matches\":true},\"label\":\"day\",\"values\":[\" 31\",\" 29\",\" 31\",\" 30\",\" 31\",\" 30\",\" 31\",\" 31\",\" 30\",\" 31\"]},{\"axis\":{\"matches\":true},\"label\":\"month\",\"values\":[\"01\",\"02\",\"03\",\"04\",\"05\",\"06\",\"07\",\"08\",\"09\",\"10\"]},{\"axis\":{\"matches\":true},\"label\":\"year\",\"values\":[\"2020\",\"2020\",\"2020\",\"2020\",\"2020\",\"2020\",\"2020\",\"2020\",\"2020\",\"2020\"]}],\"hovertemplate\":\"Region=Assam<br>%{xaxis.title.text}=%{x}<br>%{yaxis.title.text}=%{y}<extra></extra>\",\"legendgroup\":\"Assam\",\"marker\":{\"color\":\"#EF553B\",\"symbol\":\"circle\"},\"name\":\"Assam\",\"showlegend\":true,\"type\":\"splom\"},{\"dimensions\":[{\"axis\":{\"matches\":true},\"label\":\"Region\",\"values\":[\"Bihar\",\"Bihar\",\"Bihar\",\"Bihar\",\"Bihar\",\"Bihar\",\"Bihar\",\"Bihar\",\"Bihar\",\"Bihar\"]},{\"axis\":{\"matches\":true},\"label\":\" Date\",\"values\":[\" 31-01-2020\",\" 29-02-2020\",\" 31-03-2020\",\" 30-04-2020\",\" 31-05-2020\",\" 30-06-2020\",\" 31-07-2020\",\" 31-08-2020\",\" 30-09-2020\",\" 31-10-2020\"]},{\"axis\":{\"matches\":true},\"label\":\" Estimated Unemployment Rate (%)\",\"values\":[10.61,10.29,15.43,46.64,45.96,17.82,12.79,13.44,11.91,9.82]},{\"axis\":{\"matches\":true},\"label\":\" Estimated Employed\",\"values\":[26397671,26281655,25717519,16046236,16280203,23963933,24989370,23795534,26902907,25693252]},{\"axis\":{\"matches\":true},\"label\":\" Estimated Labour Participation Rate (%)\",\"values\":[37.72,37.35,38.69,38.17,38.16,36.86,36.14,34.59,38.35,35.7]},{\"axis\":{\"matches\":true},\"label\":\"Region.1\",\"values\":[\"East\",\"East\",\"East\",\"East\",\"East\",\"East\",\"East\",\"East\",\"East\",\"East\"]},{\"axis\":{\"matches\":true},\"label\":\"longitude\",\"values\":[25.0961,25.0961,25.0961,25.0961,25.0961,25.0961,25.0961,25.0961,25.0961,25.0961]},{\"axis\":{\"matches\":true},\"label\":\"latitude\",\"values\":[85.3131,85.3131,85.3131,85.3131,85.3131,85.3131,85.3131,85.3131,85.3131,85.3131]},{\"axis\":{\"matches\":true},\"label\":\"day\",\"values\":[\" 31\",\" 29\",\" 31\",\" 30\",\" 31\",\" 30\",\" 31\",\" 31\",\" 30\",\" 31\"]},{\"axis\":{\"matches\":true},\"label\":\"month\",\"values\":[\"01\",\"02\",\"03\",\"04\",\"05\",\"06\",\"07\",\"08\",\"09\",\"10\"]},{\"axis\":{\"matches\":true},\"label\":\"year\",\"values\":[\"2020\",\"2020\",\"2020\",\"2020\",\"2020\",\"2020\",\"2020\",\"2020\",\"2020\",\"2020\"]}],\"hovertemplate\":\"Region=Bihar<br>%{xaxis.title.text}=%{x}<br>%{yaxis.title.text}=%{y}<extra></extra>\",\"legendgroup\":\"Bihar\",\"marker\":{\"color\":\"#00cc96\",\"symbol\":\"circle\"},\"name\":\"Bihar\",\"showlegend\":true,\"type\":\"splom\"},{\"dimensions\":[{\"axis\":{\"matches\":true},\"label\":\"Region\",\"values\":[\"Chhattisgarh\",\"Chhattisgarh\",\"Chhattisgarh\",\"Chhattisgarh\",\"Chhattisgarh\",\"Chhattisgarh\",\"Chhattisgarh\",\"Chhattisgarh\",\"Chhattisgarh\",\"Chhattisgarh\"]},{\"axis\":{\"matches\":true},\"label\":\" Date\",\"values\":[\" 31-01-2020\",\" 29-02-2020\",\" 31-03-2020\",\" 30-04-2020\",\" 31-05-2020\",\" 30-06-2020\",\" 31-07-2020\",\" 31-08-2020\",\" 30-09-2020\",\" 31-10-2020\"]},{\"axis\":{\"matches\":true},\"label\":\" Estimated Unemployment Rate (%)\",\"values\":[9.65,8.38,7.54,3.41,10.5,14.23,10.27,5.63,1.96,6.62]},{\"axis\":{\"matches\":true},\"label\":\" Estimated Employed\",\"values\":[8552172,9195114,9302317,7600448,6991217,7332807,8620294,9050422,9021854,8546847]},{\"axis\":{\"matches\":true},\"label\":\" Estimated Labour Participation Rate (%)\",\"values\":[43.08,45.58,45.59,35.58,35.23,38.48,43.14,42.97,41.14,40.82]},{\"axis\":{\"matches\":true},\"label\":\"Region.1\",\"values\":[\"West\",\"West\",\"West\",\"West\",\"West\",\"West\",\"West\",\"West\",\"West\",\"West\"]},{\"axis\":{\"matches\":true},\"label\":\"longitude\",\"values\":[21.2787,21.2787,21.2787,21.2787,21.2787,21.2787,21.2787,21.2787,21.2787,21.2787]},{\"axis\":{\"matches\":true},\"label\":\"latitude\",\"values\":[81.8661,81.8661,81.8661,81.8661,81.8661,81.8661,81.8661,81.8661,81.8661,81.8661]},{\"axis\":{\"matches\":true},\"label\":\"day\",\"values\":[\" 31\",\" 29\",\" 31\",\" 30\",\" 31\",\" 30\",\" 31\",\" 31\",\" 30\",\" 31\"]},{\"axis\":{\"matches\":true},\"label\":\"month\",\"values\":[\"01\",\"02\",\"03\",\"04\",\"05\",\"06\",\"07\",\"08\",\"09\",\"10\"]},{\"axis\":{\"matches\":true},\"label\":\"year\",\"values\":[\"2020\",\"2020\",\"2020\",\"2020\",\"2020\",\"2020\",\"2020\",\"2020\",\"2020\",\"2020\"]}],\"hovertemplate\":\"Region=Chhattisgarh<br>%{xaxis.title.text}=%{x}<br>%{yaxis.title.text}=%{y}<extra></extra>\",\"legendgroup\":\"Chhattisgarh\",\"marker\":{\"color\":\"#ab63fa\",\"symbol\":\"circle\"},\"name\":\"Chhattisgarh\",\"showlegend\":true,\"type\":\"splom\"},{\"dimensions\":[{\"axis\":{\"matches\":true},\"label\":\"Region\",\"values\":[\"Delhi\",\"Delhi\",\"Delhi\",\"Delhi\",\"Delhi\",\"Delhi\",\"Delhi\",\"Delhi\",\"Delhi\",\"Delhi\"]},{\"axis\":{\"matches\":true},\"label\":\" Date\",\"values\":[\" 31-01-2020\",\" 29-02-2020\",\" 31-03-2020\",\" 30-04-2020\",\" 31-05-2020\",\" 30-06-2020\",\" 31-07-2020\",\" 31-08-2020\",\" 30-09-2020\",\" 31-10-2020\"]},{\"axis\":{\"matches\":true},\"label\":\" Estimated Unemployment Rate (%)\",\"values\":[22.23,14.84,17.04,16.68,42.27,18.19,20.3,13.79,12.53,6.27]},{\"axis\":{\"matches\":true},\"label\":\" Estimated Employed\",\"values\":[5805284,5856307,5553805,3119274,2632404,4418914,4291053,4850107,4958373,4842698]},{\"axis\":{\"matches\":true},\"label\":\" Estimated Labour Participation Rate (%)\",\"values\":[47.79,43.92,42.65,23.8,28.91,34.17,33.97,35.41,35.59,32.36]},{\"axis\":{\"matches\":true},\"label\":\"Region.1\",\"values\":[\"North\",\"North\",\"North\",\"North\",\"North\",\"North\",\"North\",\"North\",\"North\",\"North\"]},{\"axis\":{\"matches\":true},\"label\":\"longitude\",\"values\":[28.7041,28.7041,28.7041,28.7041,28.7041,28.7041,28.7041,28.7041,28.7041,28.7041]},{\"axis\":{\"matches\":true},\"label\":\"latitude\",\"values\":[77.1025,77.1025,77.1025,77.1025,77.1025,77.1025,77.1025,77.1025,77.1025,77.1025]},{\"axis\":{\"matches\":true},\"label\":\"day\",\"values\":[\" 31\",\" 29\",\" 31\",\" 30\",\" 31\",\" 30\",\" 31\",\" 31\",\" 30\",\" 31\"]},{\"axis\":{\"matches\":true},\"label\":\"month\",\"values\":[\"01\",\"02\",\"03\",\"04\",\"05\",\"06\",\"07\",\"08\",\"09\",\"10\"]},{\"axis\":{\"matches\":true},\"label\":\"year\",\"values\":[\"2020\",\"2020\",\"2020\",\"2020\",\"2020\",\"2020\",\"2020\",\"2020\",\"2020\",\"2020\"]}],\"hovertemplate\":\"Region=Delhi<br>%{xaxis.title.text}=%{x}<br>%{yaxis.title.text}=%{y}<extra></extra>\",\"legendgroup\":\"Delhi\",\"marker\":{\"color\":\"#FFA15A\",\"symbol\":\"circle\"},\"name\":\"Delhi\",\"showlegend\":true,\"type\":\"splom\"},{\"dimensions\":[{\"axis\":{\"matches\":true},\"label\":\"Region\",\"values\":[\"Goa\",\"Goa\",\"Goa\",\"Goa\",\"Goa\",\"Goa\",\"Goa\",\"Goa\",\"Goa\",\"Goa\"]},{\"axis\":{\"matches\":true},\"label\":\" Date\",\"values\":[\" 31-01-2020\",\" 29-02-2020\",\" 31-03-2020\",\" 30-04-2020\",\" 31-05-2020\",\" 30-06-2020\",\" 31-07-2020\",\" 31-08-2020\",\" 30-09-2020\",\" 31-10-2020\"]},{\"axis\":{\"matches\":true},\"label\":\" Estimated Unemployment Rate (%)\",\"values\":[8.89,2.81,5.25,13.31,21.25,9.96,17.07,16.21,15.38,11.54]},{\"axis\":{\"matches\":true},\"label\":\" Estimated Employed\",\"values\":[416750,478068,411761,500614,378244,489111,458876,473016,425004,392304]},{\"axis\":{\"matches\":true},\"label\":\" Estimated Labour Participation Rate (%)\",\"values\":[35.73,38.38,33.88,44.97,37.36,42.21,42.94,43.76,38.89,34.3]},{\"axis\":{\"matches\":true},\"label\":\"Region.1\",\"values\":[\"West\",\"West\",\"West\",\"West\",\"West\",\"West\",\"West\",\"West\",\"West\",\"West\"]},{\"axis\":{\"matches\":true},\"label\":\"longitude\",\"values\":[15.2993,15.2993,15.2993,15.2993,15.2993,15.2993,15.2993,15.2993,15.2993,15.2993]},{\"axis\":{\"matches\":true},\"label\":\"latitude\",\"values\":[74.124,74.124,74.124,74.124,74.124,74.124,74.124,74.124,74.124,74.124]},{\"axis\":{\"matches\":true},\"label\":\"day\",\"values\":[\" 31\",\" 29\",\" 31\",\" 30\",\" 31\",\" 30\",\" 31\",\" 31\",\" 30\",\" 31\"]},{\"axis\":{\"matches\":true},\"label\":\"month\",\"values\":[\"01\",\"02\",\"03\",\"04\",\"05\",\"06\",\"07\",\"08\",\"09\",\"10\"]},{\"axis\":{\"matches\":true},\"label\":\"year\",\"values\":[\"2020\",\"2020\",\"2020\",\"2020\",\"2020\",\"2020\",\"2020\",\"2020\",\"2020\",\"2020\"]}],\"hovertemplate\":\"Region=Goa<br>%{xaxis.title.text}=%{x}<br>%{yaxis.title.text}=%{y}<extra></extra>\",\"legendgroup\":\"Goa\",\"marker\":{\"color\":\"#19d3f3\",\"symbol\":\"circle\"},\"name\":\"Goa\",\"showlegend\":true,\"type\":\"splom\"},{\"dimensions\":[{\"axis\":{\"matches\":true},\"label\":\"Region\",\"values\":[\"Gujarat\",\"Gujarat\",\"Gujarat\",\"Gujarat\",\"Gujarat\",\"Gujarat\",\"Gujarat\",\"Gujarat\",\"Gujarat\",\"Gujarat\"]},{\"axis\":{\"matches\":true},\"label\":\" Date\",\"values\":[\" 31-01-2020\",\" 29-02-2020\",\" 31-03-2020\",\" 30-04-2020\",\" 31-05-2020\",\" 30-06-2020\",\" 31-07-2020\",\" 31-08-2020\",\" 30-09-2020\",\" 31-10-2020\"]},{\"axis\":{\"matches\":true},\"label\":\" Estimated Unemployment Rate (%)\",\"values\":[5.54,6.38,6.66,18.71,12.11,3.2,1.84,1.87,3.42,4.03]},{\"axis\":{\"matches\":true},\"label\":\" Estimated Employed\",\"values\":[24126346,24757795,23566641,15288878,17836936,23657055,24276120,22817232,25010199,25970259]},{\"axis\":{\"matches\":true},\"label\":\" Estimated Labour Participation Rate (%)\",\"values\":[48.49,50.11,47.75,35.5,38.23,45.96,46.41,43.55,48.41,50.49]},{\"axis\":{\"matches\":true},\"label\":\"Region.1\",\"values\":[\"West\",\"West\",\"West\",\"West\",\"West\",\"West\",\"West\",\"West\",\"West\",\"West\"]},{\"axis\":{\"matches\":true},\"label\":\"longitude\",\"values\":[22.2587,22.2587,22.2587,22.2587,22.2587,22.2587,22.2587,22.2587,22.2587,22.2587]},{\"axis\":{\"matches\":true},\"label\":\"latitude\",\"values\":[71.1924,71.1924,71.1924,71.1924,71.1924,71.1924,71.1924,71.1924,71.1924,71.1924]},{\"axis\":{\"matches\":true},\"label\":\"day\",\"values\":[\" 31\",\" 29\",\" 31\",\" 30\",\" 31\",\" 30\",\" 31\",\" 31\",\" 30\",\" 31\"]},{\"axis\":{\"matches\":true},\"label\":\"month\",\"values\":[\"01\",\"02\",\"03\",\"04\",\"05\",\"06\",\"07\",\"08\",\"09\",\"10\"]},{\"axis\":{\"matches\":true},\"label\":\"year\",\"values\":[\"2020\",\"2020\",\"2020\",\"2020\",\"2020\",\"2020\",\"2020\",\"2020\",\"2020\",\"2020\"]}],\"hovertemplate\":\"Region=Gujarat<br>%{xaxis.title.text}=%{x}<br>%{yaxis.title.text}=%{y}<extra></extra>\",\"legendgroup\":\"Gujarat\",\"marker\":{\"color\":\"#FF6692\",\"symbol\":\"circle\"},\"name\":\"Gujarat\",\"showlegend\":true,\"type\":\"splom\"},{\"dimensions\":[{\"axis\":{\"matches\":true},\"label\":\"Region\",\"values\":[\"Haryana\",\"Haryana\",\"Haryana\",\"Haryana\",\"Haryana\",\"Haryana\",\"Haryana\",\"Haryana\",\"Haryana\",\"Haryana\"]},{\"axis\":{\"matches\":true},\"label\":\" Date\",\"values\":[\" 31-01-2020\",\" 29-02-2020\",\" 31-03-2020\",\" 30-04-2020\",\" 31-05-2020\",\" 30-06-2020\",\" 31-07-2020\",\" 31-08-2020\",\" 30-09-2020\",\" 31-10-2020\"]},{\"axis\":{\"matches\":true},\"label\":\" Estimated Unemployment Rate (%)\",\"values\":[20.34,25.77,25.05,43.22,29.02,26.7,24.18,33.5,19.68,27.31]},{\"axis\":{\"matches\":true},\"label\":\" Estimated Employed\",\"values\":[7693231,7322942,6641555,5647630,6437868,6951934,6800652,7113788,7132439,6698551]},{\"axis\":{\"matches\":true},\"label\":\" Estimated Labour Participation Rate (%)\",\"values\":[43.36,44.21,39.63,44.38,40.39,42.14,39.77,47.32,39.2,40.6]},{\"axis\":{\"matches\":true},\"label\":\"Region.1\",\"values\":[\"North\",\"North\",\"North\",\"North\",\"North\",\"North\",\"North\",\"North\",\"North\",\"North\"]},{\"axis\":{\"matches\":true},\"label\":\"longitude\",\"values\":[29.0588,29.0588,29.0588,29.0588,29.0588,29.0588,29.0588,29.0588,29.0588,29.0588]},{\"axis\":{\"matches\":true},\"label\":\"latitude\",\"values\":[76.0856,76.0856,76.0856,76.0856,76.0856,76.0856,76.0856,76.0856,76.0856,76.0856]},{\"axis\":{\"matches\":true},\"label\":\"day\",\"values\":[\" 31\",\" 29\",\" 31\",\" 30\",\" 31\",\" 30\",\" 31\",\" 31\",\" 30\",\" 31\"]},{\"axis\":{\"matches\":true},\"label\":\"month\",\"values\":[\"01\",\"02\",\"03\",\"04\",\"05\",\"06\",\"07\",\"08\",\"09\",\"10\"]},{\"axis\":{\"matches\":true},\"label\":\"year\",\"values\":[\"2020\",\"2020\",\"2020\",\"2020\",\"2020\",\"2020\",\"2020\",\"2020\",\"2020\",\"2020\"]}],\"hovertemplate\":\"Region=Haryana<br>%{xaxis.title.text}=%{x}<br>%{yaxis.title.text}=%{y}<extra></extra>\",\"legendgroup\":\"Haryana\",\"marker\":{\"color\":\"#B6E880\",\"symbol\":\"circle\"},\"name\":\"Haryana\",\"showlegend\":true,\"type\":\"splom\"},{\"dimensions\":[{\"axis\":{\"matches\":true},\"label\":\"Region\",\"values\":[\"Himachal Pradesh\",\"Himachal Pradesh\",\"Himachal Pradesh\",\"Himachal Pradesh\",\"Himachal Pradesh\",\"Himachal Pradesh\",\"Himachal Pradesh\",\"Himachal Pradesh\",\"Himachal Pradesh\",\"Himachal Pradesh\"]},{\"axis\":{\"matches\":true},\"label\":\" Date\",\"values\":[\" 31-01-2020\",\" 29-02-2020\",\" 31-03-2020\",\" 30-04-2020\",\" 31-05-2020\",\" 30-06-2020\",\" 31-07-2020\",\" 31-08-2020\",\" 30-09-2020\",\" 31-10-2020\"]},{\"axis\":{\"matches\":true},\"label\":\" Estimated Unemployment Rate (%)\",\"values\":[16.83,16.84,18.76,2.2,26.95,13.47,24.31,15.79,12.04,13.46]},{\"axis\":{\"matches\":true},\"label\":\" Estimated Employed\",\"values\":[2287632,2180268,2021858,1131128,1897639,2199683,2229456,2029740,2237480,2123965]},{\"axis\":{\"matches\":true},\"label\":\" Estimated Labour Participation Rate (%)\",\"values\":[45.5,43.3,41.04,19.04,42.7,41.72,48.25,39.42,41.54,40.01]},{\"axis\":{\"matches\":true},\"label\":\"Region.1\",\"values\":[\"North\",\"North\",\"North\",\"North\",\"North\",\"North\",\"North\",\"North\",\"North\",\"North\"]},{\"axis\":{\"matches\":true},\"label\":\"longitude\",\"values\":[31.1048,31.1048,31.1048,31.1048,31.1048,31.1048,31.1048,31.1048,31.1048,31.1048]},{\"axis\":{\"matches\":true},\"label\":\"latitude\",\"values\":[77.1734,77.1734,77.1734,77.1734,77.1734,77.1734,77.1734,77.1734,77.1734,77.1734]},{\"axis\":{\"matches\":true},\"label\":\"day\",\"values\":[\" 31\",\" 29\",\" 31\",\" 30\",\" 31\",\" 30\",\" 31\",\" 31\",\" 30\",\" 31\"]},{\"axis\":{\"matches\":true},\"label\":\"month\",\"values\":[\"01\",\"02\",\"03\",\"04\",\"05\",\"06\",\"07\",\"08\",\"09\",\"10\"]},{\"axis\":{\"matches\":true},\"label\":\"year\",\"values\":[\"2020\",\"2020\",\"2020\",\"2020\",\"2020\",\"2020\",\"2020\",\"2020\",\"2020\",\"2020\"]}],\"hovertemplate\":\"Region=Himachal Pradesh<br>%{xaxis.title.text}=%{x}<br>%{yaxis.title.text}=%{y}<extra></extra>\",\"legendgroup\":\"Himachal Pradesh\",\"marker\":{\"color\":\"#FF97FF\",\"symbol\":\"circle\"},\"name\":\"Himachal Pradesh\",\"showlegend\":true,\"type\":\"splom\"},{\"dimensions\":[{\"axis\":{\"matches\":true},\"label\":\"Region\",\"values\":[\"Jammu & Kashmir\",\"Jammu & Kashmir\",\"Jammu & Kashmir\",\"Jammu & Kashmir\",\"Jammu & Kashmir\",\"Jammu & Kashmir\",\"Jammu & Kashmir\",\"Jammu & Kashmir\",\"Jammu & Kashmir\"]},{\"axis\":{\"matches\":true},\"label\":\" Date\",\"values\":[\" 31-01-2020\",\" 29-02-2020\",\" 31-03-2020\",\" 31-05-2020\",\" 30-06-2020\",\" 31-07-2020\",\" 31-08-2020\",\" 30-09-2020\",\" 31-10-2020\"]},{\"axis\":{\"matches\":true},\"label\":\" Estimated Unemployment Rate (%)\",\"values\":[21.08,20.78,15.5,18.74,17.92,10.88,11.09,16.17,16.14]},{\"axis\":{\"matches\":true},\"label\":\" Estimated Employed\",\"values\":[3453025,3223513,3359107,3246493,3202336,3558889,3429950,3210281,3106691]},{\"axis\":{\"matches\":true},\"label\":\" Estimated Labour Participation Rate (%)\",\"values\":[42.2,39.17,38.18,38.21,37.24,38.03,36.66,36.31,35.05]},{\"axis\":{\"matches\":true},\"label\":\"Region.1\",\"values\":[\"North\",\"North\",\"North\",\"North\",\"North\",\"North\",\"North\",\"North\",\"North\"]},{\"axis\":{\"matches\":true},\"label\":\"longitude\",\"values\":[33.7782,33.7782,33.7782,33.7782,33.7782,33.7782,33.7782,33.7782,33.7782]},{\"axis\":{\"matches\":true},\"label\":\"latitude\",\"values\":[76.5762,76.5762,76.5762,76.5762,76.5762,76.5762,76.5762,76.5762,76.5762]},{\"axis\":{\"matches\":true},\"label\":\"day\",\"values\":[\" 31\",\" 29\",\" 31\",\" 31\",\" 30\",\" 31\",\" 31\",\" 30\",\" 31\"]},{\"axis\":{\"matches\":true},\"label\":\"month\",\"values\":[\"01\",\"02\",\"03\",\"05\",\"06\",\"07\",\"08\",\"09\",\"10\"]},{\"axis\":{\"matches\":true},\"label\":\"year\",\"values\":[\"2020\",\"2020\",\"2020\",\"2020\",\"2020\",\"2020\",\"2020\",\"2020\",\"2020\"]}],\"hovertemplate\":\"Region=Jammu & Kashmir<br>%{xaxis.title.text}=%{x}<br>%{yaxis.title.text}=%{y}<extra></extra>\",\"legendgroup\":\"Jammu & Kashmir\",\"marker\":{\"color\":\"#FECB52\",\"symbol\":\"circle\"},\"name\":\"Jammu & Kashmir\",\"showlegend\":true,\"type\":\"splom\"},{\"dimensions\":[{\"axis\":{\"matches\":true},\"label\":\"Region\",\"values\":[\"Jharkhand\",\"Jharkhand\",\"Jharkhand\",\"Jharkhand\",\"Jharkhand\",\"Jharkhand\",\"Jharkhand\",\"Jharkhand\",\"Jharkhand\",\"Jharkhand\"]},{\"axis\":{\"matches\":true},\"label\":\" Date\",\"values\":[\" 31-01-2020\",\" 29-02-2020\",\" 31-03-2020\",\" 30-04-2020\",\" 31-05-2020\",\" 30-06-2020\",\" 31-07-2020\",\" 31-08-2020\",\" 30-09-2020\",\" 31-10-2020\"]},{\"axis\":{\"matches\":true},\"label\":\" Estimated Unemployment Rate (%)\",\"values\":[10.61,11.85,8.23,47.09,59.23,20.95,7.63,9.76,8.24,11.8]},{\"axis\":{\"matches\":true},\"label\":\" Estimated Employed\",\"values\":[10198029,10425425,9638115,5335262,4145385,8622722,9521900,9331640,10185670,10302276]},{\"axis\":{\"matches\":true},\"label\":\" Estimated Labour Participation Rate (%)\",\"values\":[42.92,44.4,39.34,37.69,37.92,40.59,38.27,38.31,41.04,43.08]},{\"axis\":{\"matches\":true},\"label\":\"Region.1\",\"values\":[\"East\",\"East\",\"East\",\"East\",\"East\",\"East\",\"East\",\"East\",\"East\",\"East\"]},{\"axis\":{\"matches\":true},\"label\":\"longitude\",\"values\":[23.6102,23.6102,23.6102,23.6102,23.6102,23.6102,23.6102,23.6102,23.6102,23.6102]},{\"axis\":{\"matches\":true},\"label\":\"latitude\",\"values\":[85.2799,85.2799,85.2799,85.2799,85.2799,85.2799,85.2799,85.2799,85.2799,85.2799]},{\"axis\":{\"matches\":true},\"label\":\"day\",\"values\":[\" 31\",\" 29\",\" 31\",\" 30\",\" 31\",\" 30\",\" 31\",\" 31\",\" 30\",\" 31\"]},{\"axis\":{\"matches\":true},\"label\":\"month\",\"values\":[\"01\",\"02\",\"03\",\"04\",\"05\",\"06\",\"07\",\"08\",\"09\",\"10\"]},{\"axis\":{\"matches\":true},\"label\":\"year\",\"values\":[\"2020\",\"2020\",\"2020\",\"2020\",\"2020\",\"2020\",\"2020\",\"2020\",\"2020\",\"2020\"]}],\"hovertemplate\":\"Region=Jharkhand<br>%{xaxis.title.text}=%{x}<br>%{yaxis.title.text}=%{y}<extra></extra>\",\"legendgroup\":\"Jharkhand\",\"marker\":{\"color\":\"#636efa\",\"symbol\":\"circle\"},\"name\":\"Jharkhand\",\"showlegend\":true,\"type\":\"splom\"},{\"dimensions\":[{\"axis\":{\"matches\":true},\"label\":\"Region\",\"values\":[\"Karnataka\",\"Karnataka\",\"Karnataka\",\"Karnataka\",\"Karnataka\",\"Karnataka\",\"Karnataka\",\"Karnataka\",\"Karnataka\",\"Karnataka\"]},{\"axis\":{\"matches\":true},\"label\":\" Date\",\"values\":[\" 31-01-2020\",\" 29-02-2020\",\" 31-03-2020\",\" 30-04-2020\",\" 31-05-2020\",\" 30-06-2020\",\" 31-07-2020\",\" 31-08-2020\",\" 30-09-2020\",\" 31-10-2020\"]},{\"axis\":{\"matches\":true},\"label\":\" Estimated Unemployment Rate (%)\",\"values\":[2.86,3.61,3.46,29.84,19.97,8.44,4.01,0.5,2.41,1.58]},{\"axis\":{\"matches\":true},\"label\":\" Estimated Employed\",\"values\":[22688028,21677719,22079653,16718395,19397853,24215057,22885616,24094289,20127176,22356390]},{\"axis\":{\"matches\":true},\"label\":\" Estimated Labour Participation Rate (%)\",\"values\":[42.18,40.54,41.14,42.78,43.43,47.29,42.55,43.13,36.66,40.3]},{\"axis\":{\"matches\":true},\"label\":\"Region.1\",\"values\":[\"South\",\"South\",\"South\",\"South\",\"South\",\"South\",\"South\",\"South\",\"South\",\"South\"]},{\"axis\":{\"matches\":true},\"label\":\"longitude\",\"values\":[15.3173,15.3173,15.3173,15.3173,15.3173,15.3173,15.3173,15.3173,15.3173,15.3173]},{\"axis\":{\"matches\":true},\"label\":\"latitude\",\"values\":[75.7139,75.7139,75.7139,75.7139,75.7139,75.7139,75.7139,75.7139,75.7139,75.7139]},{\"axis\":{\"matches\":true},\"label\":\"day\",\"values\":[\" 31\",\" 29\",\" 31\",\" 30\",\" 31\",\" 30\",\" 31\",\" 31\",\" 30\",\" 31\"]},{\"axis\":{\"matches\":true},\"label\":\"month\",\"values\":[\"01\",\"02\",\"03\",\"04\",\"05\",\"06\",\"07\",\"08\",\"09\",\"10\"]},{\"axis\":{\"matches\":true},\"label\":\"year\",\"values\":[\"2020\",\"2020\",\"2020\",\"2020\",\"2020\",\"2020\",\"2020\",\"2020\",\"2020\",\"2020\"]}],\"hovertemplate\":\"Region=Karnataka<br>%{xaxis.title.text}=%{x}<br>%{yaxis.title.text}=%{y}<extra></extra>\",\"legendgroup\":\"Karnataka\",\"marker\":{\"color\":\"#EF553B\",\"symbol\":\"circle\"},\"name\":\"Karnataka\",\"showlegend\":true,\"type\":\"splom\"},{\"dimensions\":[{\"axis\":{\"matches\":true},\"label\":\"Region\",\"values\":[\"Kerala\",\"Kerala\",\"Kerala\",\"Kerala\",\"Kerala\",\"Kerala\",\"Kerala\",\"Kerala\",\"Kerala\",\"Kerala\"]},{\"axis\":{\"matches\":true},\"label\":\" Date\",\"values\":[\" 31-01-2020\",\" 29-02-2020\",\" 31-03-2020\",\" 30-04-2020\",\" 31-05-2020\",\" 30-06-2020\",\" 31-07-2020\",\" 31-08-2020\",\" 30-09-2020\",\" 31-10-2020\"]},{\"axis\":{\"matches\":true},\"label\":\" Estimated Unemployment Rate (%)\",\"values\":[5.31,7.6,8.99,16.99,17.88,9.71,7.09,10.98,5.91,3.88]},{\"axis\":{\"matches\":true},\"label\":\" Estimated Employed\",\"values\":[9904534,9828023,8221728,3933276,7921962,9228268,9504420,9031944,9240913,9152881]},{\"axis\":{\"matches\":true},\"label\":\" Estimated Labour Participation Rate (%)\",\"values\":[37.12,37.71,32.0,16.77,34.11,36.11,36.1,35.78,34.6,33.52]},{\"axis\":{\"matches\":true},\"label\":\"Region.1\",\"values\":[\"South\",\"South\",\"South\",\"South\",\"South\",\"South\",\"South\",\"South\",\"South\",\"South\"]},{\"axis\":{\"matches\":true},\"label\":\"longitude\",\"values\":[10.8505,10.8505,10.8505,10.8505,10.8505,10.8505,10.8505,10.8505,10.8505,10.8505]},{\"axis\":{\"matches\":true},\"label\":\"latitude\",\"values\":[76.2711,76.2711,76.2711,76.2711,76.2711,76.2711,76.2711,76.2711,76.2711,76.2711]},{\"axis\":{\"matches\":true},\"label\":\"day\",\"values\":[\" 31\",\" 29\",\" 31\",\" 30\",\" 31\",\" 30\",\" 31\",\" 31\",\" 30\",\" 31\"]},{\"axis\":{\"matches\":true},\"label\":\"month\",\"values\":[\"01\",\"02\",\"03\",\"04\",\"05\",\"06\",\"07\",\"08\",\"09\",\"10\"]},{\"axis\":{\"matches\":true},\"label\":\"year\",\"values\":[\"2020\",\"2020\",\"2020\",\"2020\",\"2020\",\"2020\",\"2020\",\"2020\",\"2020\",\"2020\"]}],\"hovertemplate\":\"Region=Kerala<br>%{xaxis.title.text}=%{x}<br>%{yaxis.title.text}=%{y}<extra></extra>\",\"legendgroup\":\"Kerala\",\"marker\":{\"color\":\"#00cc96\",\"symbol\":\"circle\"},\"name\":\"Kerala\",\"showlegend\":true,\"type\":\"splom\"},{\"dimensions\":[{\"axis\":{\"matches\":true},\"label\":\"Region\",\"values\":[\"Madhya Pradesh\",\"Madhya Pradesh\",\"Madhya Pradesh\",\"Madhya Pradesh\",\"Madhya Pradesh\",\"Madhya Pradesh\",\"Madhya Pradesh\",\"Madhya Pradesh\",\"Madhya Pradesh\",\"Madhya Pradesh\"]},{\"axis\":{\"matches\":true},\"label\":\" Date\",\"values\":[\" 31-01-2020\",\" 29-02-2020\",\" 31-03-2020\",\" 30-04-2020\",\" 31-05-2020\",\" 30-06-2020\",\" 31-07-2020\",\" 31-08-2020\",\" 30-09-2020\",\" 31-10-2020\"]},{\"axis\":{\"matches\":true},\"label\":\" Estimated Unemployment Rate (%)\",\"values\":[4.11,4.57,2.22,12.36,21.98,6.48,5.08,4.7,3.91,3.13]},{\"axis\":{\"matches\":true},\"label\":\" Estimated Employed\",\"values\":[23018632,22711479,22867164,19041832,18443927,23054646,23940158,23619011,23341952,23144552]},{\"axis\":{\"matches\":true},\"label\":\" Estimated Labour Participation Rate (%)\",\"values\":[39.42,39.0,38.24,35.45,38.48,40.04,40.88,40.08,39.2,38.47]},{\"axis\":{\"matches\":true},\"label\":\"Region.1\",\"values\":[\"West\",\"West\",\"West\",\"West\",\"West\",\"West\",\"West\",\"West\",\"West\",\"West\"]},{\"axis\":{\"matches\":true},\"label\":\"longitude\",\"values\":[22.9734,22.9734,22.9734,22.9734,22.9734,22.9734,22.9734,22.9734,22.9734,22.9734]},{\"axis\":{\"matches\":true},\"label\":\"latitude\",\"values\":[78.6569,78.6569,78.6569,78.6569,78.6569,78.6569,78.6569,78.6569,78.6569,78.6569]},{\"axis\":{\"matches\":true},\"label\":\"day\",\"values\":[\" 31\",\" 29\",\" 31\",\" 30\",\" 31\",\" 30\",\" 31\",\" 31\",\" 30\",\" 31\"]},{\"axis\":{\"matches\":true},\"label\":\"month\",\"values\":[\"01\",\"02\",\"03\",\"04\",\"05\",\"06\",\"07\",\"08\",\"09\",\"10\"]},{\"axis\":{\"matches\":true},\"label\":\"year\",\"values\":[\"2020\",\"2020\",\"2020\",\"2020\",\"2020\",\"2020\",\"2020\",\"2020\",\"2020\",\"2020\"]}],\"hovertemplate\":\"Region=Madhya Pradesh<br>%{xaxis.title.text}=%{x}<br>%{yaxis.title.text}=%{y}<extra></extra>\",\"legendgroup\":\"Madhya Pradesh\",\"marker\":{\"color\":\"#ab63fa\",\"symbol\":\"circle\"},\"name\":\"Madhya Pradesh\",\"showlegend\":true,\"type\":\"splom\"},{\"dimensions\":[{\"axis\":{\"matches\":true},\"label\":\"Region\",\"values\":[\"Maharashtra\",\"Maharashtra\",\"Maharashtra\",\"Maharashtra\",\"Maharashtra\",\"Maharashtra\",\"Maharashtra\",\"Maharashtra\",\"Maharashtra\",\"Maharashtra\"]},{\"axis\":{\"matches\":true},\"label\":\" Date\",\"values\":[\" 31-01-2020\",\" 29-02-2020\",\" 31-03-2020\",\" 30-04-2020\",\" 31-05-2020\",\" 30-06-2020\",\" 31-07-2020\",\" 31-08-2020\",\" 30-09-2020\",\" 31-10-2020\"]},{\"axis\":{\"matches\":true},\"label\":\" Estimated Unemployment Rate (%)\",\"values\":[4.95,4.69,5.79,20.9,15.46,9.23,3.89,6.23,4.55,4.1]},{\"axis\":{\"matches\":true},\"label\":\" Estimated Employed\",\"values\":[42596868,42416317,40196806,27689253,32116847,39708538,40998545,40963616,42042911,43317881]},{\"axis\":{\"matches\":true},\"label\":\" Estimated Labour Participation Rate (%)\",\"values\":[44.19,43.8,41.91,34.32,37.17,42.71,41.57,42.49,42.75,43.75]},{\"axis\":{\"matches\":true},\"label\":\"Region.1\",\"values\":[\"West\",\"West\",\"West\",\"West\",\"West\",\"West\",\"West\",\"West\",\"West\",\"West\"]},{\"axis\":{\"matches\":true},\"label\":\"longitude\",\"values\":[19.7515,19.7515,19.7515,19.7515,19.7515,19.7515,19.7515,19.7515,19.7515,19.7515]},{\"axis\":{\"matches\":true},\"label\":\"latitude\",\"values\":[75.7139,75.7139,75.7139,75.7139,75.7139,75.7139,75.7139,75.7139,75.7139,75.7139]},{\"axis\":{\"matches\":true},\"label\":\"day\",\"values\":[\" 31\",\" 29\",\" 31\",\" 30\",\" 31\",\" 30\",\" 31\",\" 31\",\" 30\",\" 31\"]},{\"axis\":{\"matches\":true},\"label\":\"month\",\"values\":[\"01\",\"02\",\"03\",\"04\",\"05\",\"06\",\"07\",\"08\",\"09\",\"10\"]},{\"axis\":{\"matches\":true},\"label\":\"year\",\"values\":[\"2020\",\"2020\",\"2020\",\"2020\",\"2020\",\"2020\",\"2020\",\"2020\",\"2020\",\"2020\"]}],\"hovertemplate\":\"Region=Maharashtra<br>%{xaxis.title.text}=%{x}<br>%{yaxis.title.text}=%{y}<extra></extra>\",\"legendgroup\":\"Maharashtra\",\"marker\":{\"color\":\"#FFA15A\",\"symbol\":\"circle\"},\"name\":\"Maharashtra\",\"showlegend\":true,\"type\":\"splom\"},{\"dimensions\":[{\"axis\":{\"matches\":true},\"label\":\"Region\",\"values\":[\"Meghalaya\",\"Meghalaya\",\"Meghalaya\",\"Meghalaya\",\"Meghalaya\",\"Meghalaya\",\"Meghalaya\",\"Meghalaya\",\"Meghalaya\",\"Meghalaya\"]},{\"axis\":{\"matches\":true},\"label\":\" Date\",\"values\":[\" 31-01-2020\",\" 29-02-2020\",\" 31-03-2020\",\" 30-04-2020\",\" 31-05-2020\",\" 30-06-2020\",\" 31-07-2020\",\" 31-08-2020\",\" 30-09-2020\",\" 31-10-2020\"]},{\"axis\":{\"matches\":true},\"label\":\" Estimated Unemployment Rate (%)\",\"values\":[1.66,3.59,1.58,10.03,5.92,1.15,2.1,3.74,4.29,4.6]},{\"axis\":{\"matches\":true},\"label\":\" Estimated Employed\",\"values\":[1491093,1346829,1482351,965057,1215064,1350794,1448106,1357643,1459726,1381490]},{\"axis\":{\"matches\":true},\"label\":\" Estimated Labour Participation Rate (%)\",\"values\":[65.49,60.2,64.74,45.99,55.24,58.31,62.96,59.88,64.6,61.18]},{\"axis\":{\"matches\":true},\"label\":\"Region.1\",\"values\":[\"Northeast\",\"Northeast\",\"Northeast\",\"Northeast\",\"Northeast\",\"Northeast\",\"Northeast\",\"Northeast\",\"Northeast\",\"Northeast\"]},{\"axis\":{\"matches\":true},\"label\":\"longitude\",\"values\":[25.467,25.467,25.467,25.467,25.467,25.467,25.467,25.467,25.467,25.467]},{\"axis\":{\"matches\":true},\"label\":\"latitude\",\"values\":[91.3662,91.3662,91.3662,91.3662,91.3662,91.3662,91.3662,91.3662,91.3662,91.3662]},{\"axis\":{\"matches\":true},\"label\":\"day\",\"values\":[\" 31\",\" 29\",\" 31\",\" 30\",\" 31\",\" 30\",\" 31\",\" 31\",\" 30\",\" 31\"]},{\"axis\":{\"matches\":true},\"label\":\"month\",\"values\":[\"01\",\"02\",\"03\",\"04\",\"05\",\"06\",\"07\",\"08\",\"09\",\"10\"]},{\"axis\":{\"matches\":true},\"label\":\"year\",\"values\":[\"2020\",\"2020\",\"2020\",\"2020\",\"2020\",\"2020\",\"2020\",\"2020\",\"2020\",\"2020\"]}],\"hovertemplate\":\"Region=Meghalaya<br>%{xaxis.title.text}=%{x}<br>%{yaxis.title.text}=%{y}<extra></extra>\",\"legendgroup\":\"Meghalaya\",\"marker\":{\"color\":\"#19d3f3\",\"symbol\":\"circle\"},\"name\":\"Meghalaya\",\"showlegend\":true,\"type\":\"splom\"},{\"dimensions\":[{\"axis\":{\"matches\":true},\"label\":\"Region\",\"values\":[\"Odisha\",\"Odisha\",\"Odisha\",\"Odisha\",\"Odisha\",\"Odisha\",\"Odisha\",\"Odisha\",\"Odisha\",\"Odisha\"]},{\"axis\":{\"matches\":true},\"label\":\" Date\",\"values\":[\" 31-01-2020\",\" 29-02-2020\",\" 31-03-2020\",\" 30-04-2020\",\" 31-05-2020\",\" 30-06-2020\",\" 31-07-2020\",\" 31-08-2020\",\" 30-09-2020\",\" 31-10-2020\"]},{\"axis\":{\"matches\":true},\"label\":\" Estimated Unemployment Rate (%)\",\"values\":[1.9,3.12,13.08,23.76,11.41,3.77,1.88,1.42,2.1,2.18]},{\"axis\":{\"matches\":true},\"label\":\" Estimated Employed\",\"values\":[13743448,14280735,12272109,6865693,11730937,12903993,13614400,14154039,13608422,14094553]},{\"axis\":{\"matches\":true},\"label\":\" Estimated Labour Participation Rate (%)\",\"values\":[39.44,41.44,39.62,25.23,37.04,37.45,38.69,39.96,38.63,39.98]},{\"axis\":{\"matches\":true},\"label\":\"Region.1\",\"values\":[\"East\",\"East\",\"East\",\"East\",\"East\",\"East\",\"East\",\"East\",\"East\",\"East\"]},{\"axis\":{\"matches\":true},\"label\":\"longitude\",\"values\":[20.9517,20.9517,20.9517,20.9517,20.9517,20.9517,20.9517,20.9517,20.9517,20.9517]},{\"axis\":{\"matches\":true},\"label\":\"latitude\",\"values\":[85.0985,85.0985,85.0985,85.0985,85.0985,85.0985,85.0985,85.0985,85.0985,85.0985]},{\"axis\":{\"matches\":true},\"label\":\"day\",\"values\":[\" 31\",\" 29\",\" 31\",\" 30\",\" 31\",\" 30\",\" 31\",\" 31\",\" 30\",\" 31\"]},{\"axis\":{\"matches\":true},\"label\":\"month\",\"values\":[\"01\",\"02\",\"03\",\"04\",\"05\",\"06\",\"07\",\"08\",\"09\",\"10\"]},{\"axis\":{\"matches\":true},\"label\":\"year\",\"values\":[\"2020\",\"2020\",\"2020\",\"2020\",\"2020\",\"2020\",\"2020\",\"2020\",\"2020\",\"2020\"]}],\"hovertemplate\":\"Region=Odisha<br>%{xaxis.title.text}=%{x}<br>%{yaxis.title.text}=%{y}<extra></extra>\",\"legendgroup\":\"Odisha\",\"marker\":{\"color\":\"#FF6692\",\"symbol\":\"circle\"},\"name\":\"Odisha\",\"showlegend\":true,\"type\":\"splom\"},{\"dimensions\":[{\"axis\":{\"matches\":true},\"label\":\"Region\",\"values\":[\"Puducherry\",\"Puducherry\",\"Puducherry\",\"Puducherry\",\"Puducherry\",\"Puducherry\",\"Puducherry\",\"Puducherry\",\"Puducherry\",\"Puducherry\"]},{\"axis\":{\"matches\":true},\"label\":\" Date\",\"values\":[\" 31-01-2020\",\" 29-02-2020\",\" 31-03-2020\",\" 30-04-2020\",\" 31-05-2020\",\" 30-06-2020\",\" 31-07-2020\",\" 31-08-2020\",\" 30-09-2020\",\" 31-10-2020\"]},{\"axis\":{\"matches\":true},\"label\":\" Estimated Unemployment Rate (%)\",\"values\":[0.58,1.76,1.2,75.85,58.19,4.24,15.47,5.05,10.9,6.18]},{\"axis\":{\"matches\":true},\"label\":\" Estimated Employed\",\"values\":[457950,493961,421028,117542,172308,367135,386563,396006,411717,428419]},{\"axis\":{\"matches\":true},\"label\":\" Estimated Labour Participation Rate (%)\",\"values\":[37.46,40.8,34.49,39.3,33.19,30.8,36.64,33.34,36.84,36.32]},{\"axis\":{\"matches\":true},\"label\":\"Region.1\",\"values\":[\"South\",\"South\",\"South\",\"South\",\"South\",\"South\",\"South\",\"South\",\"South\",\"South\"]},{\"axis\":{\"matches\":true},\"label\":\"longitude\",\"values\":[11.9416,11.9416,11.9416,11.9416,11.9416,11.9416,11.9416,11.9416,11.9416,11.9416]},{\"axis\":{\"matches\":true},\"label\":\"latitude\",\"values\":[79.8083,79.8083,79.8083,79.8083,79.8083,79.8083,79.8083,79.8083,79.8083,79.8083]},{\"axis\":{\"matches\":true},\"label\":\"day\",\"values\":[\" 31\",\" 29\",\" 31\",\" 30\",\" 31\",\" 30\",\" 31\",\" 31\",\" 30\",\" 31\"]},{\"axis\":{\"matches\":true},\"label\":\"month\",\"values\":[\"01\",\"02\",\"03\",\"04\",\"05\",\"06\",\"07\",\"08\",\"09\",\"10\"]},{\"axis\":{\"matches\":true},\"label\":\"year\",\"values\":[\"2020\",\"2020\",\"2020\",\"2020\",\"2020\",\"2020\",\"2020\",\"2020\",\"2020\",\"2020\"]}],\"hovertemplate\":\"Region=Puducherry<br>%{xaxis.title.text}=%{x}<br>%{yaxis.title.text}=%{y}<extra></extra>\",\"legendgroup\":\"Puducherry\",\"marker\":{\"color\":\"#B6E880\",\"symbol\":\"circle\"},\"name\":\"Puducherry\",\"showlegend\":true,\"type\":\"splom\"},{\"dimensions\":[{\"axis\":{\"matches\":true},\"label\":\"Region\",\"values\":[\"Punjab\",\"Punjab\",\"Punjab\",\"Punjab\",\"Punjab\",\"Punjab\",\"Punjab\",\"Punjab\",\"Punjab\",\"Punjab\"]},{\"axis\":{\"matches\":true},\"label\":\" Date\",\"values\":[\" 31-01-2020\",\" 29-02-2020\",\" 31-03-2020\",\" 30-04-2020\",\" 31-05-2020\",\" 30-06-2020\",\" 31-07-2020\",\" 31-08-2020\",\" 30-09-2020\",\" 31-10-2020\"]},{\"axis\":{\"matches\":true},\"label\":\" Estimated Unemployment Rate (%)\",\"values\":[11.11,10.97,10.32,2.86,28.33,16.55,9.19,10.99,9.61,9.88]},{\"axis\":{\"matches\":true},\"label\":\" Estimated Employed\",\"values\":[9442093,9229047,9975485,7020565,6872938,8390766,9732417,9386169,8980432,8800430]},{\"axis\":{\"matches\":true},\"label\":\" Estimated Labour Participation Rate (%)\",\"values\":[42.82,41.72,44.69,28.99,38.39,40.18,42.76,41.99,39.5,38.75]},{\"axis\":{\"matches\":true},\"label\":\"Region.1\",\"values\":[\"North\",\"North\",\"North\",\"North\",\"North\",\"North\",\"North\",\"North\",\"North\",\"North\"]},{\"axis\":{\"matches\":true},\"label\":\"longitude\",\"values\":[31.1471,31.1471,31.1471,31.1471,31.1471,31.1471,31.1471,31.1471,31.1471,31.1471]},{\"axis\":{\"matches\":true},\"label\":\"latitude\",\"values\":[75.3412,75.3412,75.3412,75.3412,75.3412,75.3412,75.3412,75.3412,75.3412,75.3412]},{\"axis\":{\"matches\":true},\"label\":\"day\",\"values\":[\" 31\",\" 29\",\" 31\",\" 30\",\" 31\",\" 30\",\" 31\",\" 31\",\" 30\",\" 31\"]},{\"axis\":{\"matches\":true},\"label\":\"month\",\"values\":[\"01\",\"02\",\"03\",\"04\",\"05\",\"06\",\"07\",\"08\",\"09\",\"10\"]},{\"axis\":{\"matches\":true},\"label\":\"year\",\"values\":[\"2020\",\"2020\",\"2020\",\"2020\",\"2020\",\"2020\",\"2020\",\"2020\",\"2020\",\"2020\"]}],\"hovertemplate\":\"Region=Punjab<br>%{xaxis.title.text}=%{x}<br>%{yaxis.title.text}=%{y}<extra></extra>\",\"legendgroup\":\"Punjab\",\"marker\":{\"color\":\"#FF97FF\",\"symbol\":\"circle\"},\"name\":\"Punjab\",\"showlegend\":true,\"type\":\"splom\"},{\"dimensions\":[{\"axis\":{\"matches\":true},\"label\":\"Region\",\"values\":[\"Rajasthan\",\"Rajasthan\",\"Rajasthan\",\"Rajasthan\",\"Rajasthan\",\"Rajasthan\",\"Rajasthan\",\"Rajasthan\",\"Rajasthan\",\"Rajasthan\"]},{\"axis\":{\"matches\":true},\"label\":\" Date\",\"values\":[\" 31-01-2020\",\" 29-02-2020\",\" 31-03-2020\",\" 30-04-2020\",\" 31-05-2020\",\" 30-06-2020\",\" 31-07-2020\",\" 31-08-2020\",\" 30-09-2020\",\" 31-10-2020\"]},{\"axis\":{\"matches\":true},\"label\":\" Estimated Unemployment Rate (%)\",\"values\":[10.97,15.16,11.9,17.7,15.74,14.39,15.81,17.51,15.35,24.15]},{\"axis\":{\"matches\":true},\"label\":\" Estimated Employed\",\"values\":[20641716,20328915,20024680,15984142,19826602,20506612,19932393,20014060,20149594,19908808]},{\"axis\":{\"matches\":true},\"label\":\" Estimated Labour Participation Rate (%)\",\"values\":[40.51,41.77,39.54,33.71,40.74,41.38,40.8,41.71,40.83,44.92]},{\"axis\":{\"matches\":true},\"label\":\"Region.1\",\"values\":[\"North\",\"North\",\"North\",\"North\",\"North\",\"North\",\"North\",\"North\",\"North\",\"North\"]},{\"axis\":{\"matches\":true},\"label\":\"longitude\",\"values\":[27.0238,27.0238,27.0238,27.0238,27.0238,27.0238,27.0238,27.0238,27.0238,27.0238]},{\"axis\":{\"matches\":true},\"label\":\"latitude\",\"values\":[74.2179,74.2179,74.2179,74.2179,74.2179,74.2179,74.2179,74.2179,74.2179,74.2179]},{\"axis\":{\"matches\":true},\"label\":\"day\",\"values\":[\" 31\",\" 29\",\" 31\",\" 30\",\" 31\",\" 30\",\" 31\",\" 31\",\" 30\",\" 31\"]},{\"axis\":{\"matches\":true},\"label\":\"month\",\"values\":[\"01\",\"02\",\"03\",\"04\",\"05\",\"06\",\"07\",\"08\",\"09\",\"10\"]},{\"axis\":{\"matches\":true},\"label\":\"year\",\"values\":[\"2020\",\"2020\",\"2020\",\"2020\",\"2020\",\"2020\",\"2020\",\"2020\",\"2020\",\"2020\"]}],\"hovertemplate\":\"Region=Rajasthan<br>%{xaxis.title.text}=%{x}<br>%{yaxis.title.text}=%{y}<extra></extra>\",\"legendgroup\":\"Rajasthan\",\"marker\":{\"color\":\"#FECB52\",\"symbol\":\"circle\"},\"name\":\"Rajasthan\",\"showlegend\":true,\"type\":\"splom\"},{\"dimensions\":[{\"axis\":{\"matches\":true},\"label\":\"Region\",\"values\":[\"Sikkim\",\"Sikkim\",\"Sikkim\",\"Sikkim\",\"Sikkim\",\"Sikkim\",\"Sikkim\",\"Sikkim\"]},{\"axis\":{\"matches\":true},\"label\":\" Date\",\"values\":[\" 31-03-2020\",\" 30-04-2020\",\" 31-05-2020\",\" 30-06-2020\",\" 31-07-2020\",\" 31-08-2020\",\" 30-09-2020\",\" 31-10-2020\"]},{\"axis\":{\"matches\":true},\"label\":\" Estimated Unemployment Rate (%)\",\"values\":[23.57,2.28,24.51,4.46,4.45,12.49,5.7,0.88]},{\"axis\":{\"matches\":true},\"label\":\" Estimated Employed\",\"values\":[262895,215303,193427,221058,265175,244462,231798,242068]},{\"axis\":{\"matches\":true},\"label\":\" Estimated Labour Participation Rate (%)\",\"values\":[60.59,38.7,44.88,40.4,48.32,48.49,42.54,42.13]},{\"axis\":{\"matches\":true},\"label\":\"Region.1\",\"values\":[\"Northeast\",\"Northeast\",\"Northeast\",\"Northeast\",\"Northeast\",\"Northeast\",\"Northeast\",\"Northeast\"]},{\"axis\":{\"matches\":true},\"label\":\"longitude\",\"values\":[27.533,27.533,27.533,27.533,27.533,27.533,27.533,27.533]},{\"axis\":{\"matches\":true},\"label\":\"latitude\",\"values\":[88.5122,88.5122,88.5122,88.5122,88.5122,88.5122,88.5122,88.5122]},{\"axis\":{\"matches\":true},\"label\":\"day\",\"values\":[\" 31\",\" 30\",\" 31\",\" 30\",\" 31\",\" 31\",\" 30\",\" 31\"]},{\"axis\":{\"matches\":true},\"label\":\"month\",\"values\":[\"03\",\"04\",\"05\",\"06\",\"07\",\"08\",\"09\",\"10\"]},{\"axis\":{\"matches\":true},\"label\":\"year\",\"values\":[\"2020\",\"2020\",\"2020\",\"2020\",\"2020\",\"2020\",\"2020\",\"2020\"]}],\"hovertemplate\":\"Region=Sikkim<br>%{xaxis.title.text}=%{x}<br>%{yaxis.title.text}=%{y}<extra></extra>\",\"legendgroup\":\"Sikkim\",\"marker\":{\"color\":\"#636efa\",\"symbol\":\"circle\"},\"name\":\"Sikkim\",\"showlegend\":true,\"type\":\"splom\"},{\"dimensions\":[{\"axis\":{\"matches\":true},\"label\":\"Region\",\"values\":[\"Tamil Nadu\",\"Tamil Nadu\",\"Tamil Nadu\",\"Tamil Nadu\",\"Tamil Nadu\",\"Tamil Nadu\",\"Tamil Nadu\",\"Tamil Nadu\",\"Tamil Nadu\",\"Tamil Nadu\"]},{\"axis\":{\"matches\":true},\"label\":\" Date\",\"values\":[\" 31-01-2020\",\" 29-02-2020\",\" 31-03-2020\",\" 30-04-2020\",\" 31-05-2020\",\" 30-06-2020\",\" 31-07-2020\",\" 31-08-2020\",\" 30-09-2020\",\" 31-10-2020\"]},{\"axis\":{\"matches\":true},\"label\":\" Estimated Unemployment Rate (%)\",\"values\":[1.57,2.09,6.4,49.83,33.16,12.2,6.81,2.65,5.0,2.16]},{\"axis\":{\"matches\":true},\"label\":\" Estimated Employed\",\"values\":[26881641,27570589,26830768,9719167,11483256,19096847,24572827,27046415,23025845,23651626]},{\"axis\":{\"matches\":true},\"label\":\" Estimated Labour Participation Rate (%)\",\"values\":[41.96,43.2,43.91,29.63,26.23,33.16,40.13,42.22,36.77,36.62]},{\"axis\":{\"matches\":true},\"label\":\"Region.1\",\"values\":[\"South\",\"South\",\"South\",\"South\",\"South\",\"South\",\"South\",\"South\",\"South\",\"South\"]},{\"axis\":{\"matches\":true},\"label\":\"longitude\",\"values\":[11.1271,11.1271,11.1271,11.1271,11.1271,11.1271,11.1271,11.1271,11.1271,11.1271]},{\"axis\":{\"matches\":true},\"label\":\"latitude\",\"values\":[78.6569,78.6569,78.6569,78.6569,78.6569,78.6569,78.6569,78.6569,78.6569,78.6569]},{\"axis\":{\"matches\":true},\"label\":\"day\",\"values\":[\" 31\",\" 29\",\" 31\",\" 30\",\" 31\",\" 30\",\" 31\",\" 31\",\" 30\",\" 31\"]},{\"axis\":{\"matches\":true},\"label\":\"month\",\"values\":[\"01\",\"02\",\"03\",\"04\",\"05\",\"06\",\"07\",\"08\",\"09\",\"10\"]},{\"axis\":{\"matches\":true},\"label\":\"year\",\"values\":[\"2020\",\"2020\",\"2020\",\"2020\",\"2020\",\"2020\",\"2020\",\"2020\",\"2020\",\"2020\"]}],\"hovertemplate\":\"Region=Tamil Nadu<br>%{xaxis.title.text}=%{x}<br>%{yaxis.title.text}=%{y}<extra></extra>\",\"legendgroup\":\"Tamil Nadu\",\"marker\":{\"color\":\"#EF553B\",\"symbol\":\"circle\"},\"name\":\"Tamil Nadu\",\"showlegend\":true,\"type\":\"splom\"},{\"dimensions\":[{\"axis\":{\"matches\":true},\"label\":\"Region\",\"values\":[\"Telangana\",\"Telangana\",\"Telangana\",\"Telangana\",\"Telangana\",\"Telangana\",\"Telangana\",\"Telangana\",\"Telangana\",\"Telangana\"]},{\"axis\":{\"matches\":true},\"label\":\" Date\",\"values\":[\" 31-01-2020\",\" 29-02-2020\",\" 31-03-2020\",\" 30-04-2020\",\" 31-05-2020\",\" 30-06-2020\",\" 31-07-2020\",\" 31-08-2020\",\" 30-09-2020\",\" 31-10-2020\"]},{\"axis\":{\"matches\":true},\"label\":\" Estimated Unemployment Rate (%)\",\"values\":[5.49,8.29,5.77,6.25,14.7,10.55,5.36,5.79,3.27,2.86]},{\"axis\":{\"matches\":true},\"label\":\" Estimated Employed\",\"values\":[17609295,16825970,17341613,12172230,14977774,15108910,15679417,18185429,16961448,17578739]},{\"axis\":{\"matches\":true},\"label\":\" Estimated Labour Participation Rate (%)\",\"values\":[59.25,58.24,58.31,41.06,55.43,53.22,52.1,60.59,54.94,56.58]},{\"axis\":{\"matches\":true},\"label\":\"Region.1\",\"values\":[\"South\",\"South\",\"South\",\"South\",\"South\",\"South\",\"South\",\"South\",\"South\",\"South\"]},{\"axis\":{\"matches\":true},\"label\":\"longitude\",\"values\":[18.1124,18.1124,18.1124,18.1124,18.1124,18.1124,18.1124,18.1124,18.1124,18.1124]},{\"axis\":{\"matches\":true},\"label\":\"latitude\",\"values\":[79.0193,79.0193,79.0193,79.0193,79.0193,79.0193,79.0193,79.0193,79.0193,79.0193]},{\"axis\":{\"matches\":true},\"label\":\"day\",\"values\":[\" 31\",\" 29\",\" 31\",\" 30\",\" 31\",\" 30\",\" 31\",\" 31\",\" 30\",\" 31\"]},{\"axis\":{\"matches\":true},\"label\":\"month\",\"values\":[\"01\",\"02\",\"03\",\"04\",\"05\",\"06\",\"07\",\"08\",\"09\",\"10\"]},{\"axis\":{\"matches\":true},\"label\":\"year\",\"values\":[\"2020\",\"2020\",\"2020\",\"2020\",\"2020\",\"2020\",\"2020\",\"2020\",\"2020\",\"2020\"]}],\"hovertemplate\":\"Region=Telangana<br>%{xaxis.title.text}=%{x}<br>%{yaxis.title.text}=%{y}<extra></extra>\",\"legendgroup\":\"Telangana\",\"marker\":{\"color\":\"#00cc96\",\"symbol\":\"circle\"},\"name\":\"Telangana\",\"showlegend\":true,\"type\":\"splom\"},{\"dimensions\":[{\"axis\":{\"matches\":true},\"label\":\"Region\",\"values\":[\"Tripura\",\"Tripura\",\"Tripura\",\"Tripura\",\"Tripura\",\"Tripura\",\"Tripura\",\"Tripura\",\"Tripura\",\"Tripura\"]},{\"axis\":{\"matches\":true},\"label\":\" Date\",\"values\":[\" 31-01-2020\",\" 29-02-2020\",\" 31-03-2020\",\" 30-04-2020\",\" 31-05-2020\",\" 30-06-2020\",\" 31-07-2020\",\" 31-08-2020\",\" 30-09-2020\",\" 31-10-2020\"]},{\"axis\":{\"matches\":true},\"label\":\" Estimated Unemployment Rate (%)\",\"values\":[32.67,28.4,29.95,41.23,21.51,21.71,18.24,27.92,17.35,11.57]},{\"axis\":{\"matches\":true},\"label\":\" Estimated Employed\",\"values\":[1508130,1584686,1511217,971514,1290986,1494140,1348849,1318621,1368244,1576529]},{\"axis\":{\"matches\":true},\"label\":\" Estimated Labour Participation Rate (%)\",\"values\":[69.69,68.74,66.89,51.16,50.81,58.85,50.78,56.21,50.77,54.58]},{\"axis\":{\"matches\":true},\"label\":\"Region.1\",\"values\":[\"Northeast\",\"Northeast\",\"Northeast\",\"Northeast\",\"Northeast\",\"Northeast\",\"Northeast\",\"Northeast\",\"Northeast\",\"Northeast\"]},{\"axis\":{\"matches\":true},\"label\":\"longitude\",\"values\":[23.9408,23.9408,23.9408,23.9408,23.9408,23.9408,23.9408,23.9408,23.9408,23.9408]},{\"axis\":{\"matches\":true},\"label\":\"latitude\",\"values\":[91.9882,91.9882,91.9882,91.9882,91.9882,91.9882,91.9882,91.9882,91.9882,91.9882]},{\"axis\":{\"matches\":true},\"label\":\"day\",\"values\":[\" 31\",\" 29\",\" 31\",\" 30\",\" 31\",\" 30\",\" 31\",\" 31\",\" 30\",\" 31\"]},{\"axis\":{\"matches\":true},\"label\":\"month\",\"values\":[\"01\",\"02\",\"03\",\"04\",\"05\",\"06\",\"07\",\"08\",\"09\",\"10\"]},{\"axis\":{\"matches\":true},\"label\":\"year\",\"values\":[\"2020\",\"2020\",\"2020\",\"2020\",\"2020\",\"2020\",\"2020\",\"2020\",\"2020\",\"2020\"]}],\"hovertemplate\":\"Region=Tripura<br>%{xaxis.title.text}=%{x}<br>%{yaxis.title.text}=%{y}<extra></extra>\",\"legendgroup\":\"Tripura\",\"marker\":{\"color\":\"#ab63fa\",\"symbol\":\"circle\"},\"name\":\"Tripura\",\"showlegend\":true,\"type\":\"splom\"},{\"dimensions\":[{\"axis\":{\"matches\":true},\"label\":\"Region\",\"values\":[\"Uttar Pradesh\",\"Uttar Pradesh\",\"Uttar Pradesh\",\"Uttar Pradesh\",\"Uttar Pradesh\",\"Uttar Pradesh\",\"Uttar Pradesh\",\"Uttar Pradesh\",\"Uttar Pradesh\",\"Uttar Pradesh\"]},{\"axis\":{\"matches\":true},\"label\":\" Date\",\"values\":[\" 31-01-2020\",\" 29-02-2020\",\" 31-03-2020\",\" 30-04-2020\",\" 31-05-2020\",\" 30-06-2020\",\" 31-07-2020\",\" 31-08-2020\",\" 30-09-2020\",\" 31-10-2020\"]},{\"axis\":{\"matches\":true},\"label\":\" Estimated Unemployment Rate (%)\",\"values\":[7.58,8.98,10.11,21.54,20.41,9.47,5.56,5.79,4.18,3.75]},{\"axis\":{\"matches\":true},\"label\":\" Estimated Employed\",\"values\":[59433759,58060531,56976338,50915056,49801902,55380649,56201654,55831744,56106836,56539521]},{\"axis\":{\"matches\":true},\"label\":\" Estimated Labour Participation Rate (%)\",\"values\":[39.63,39.23,38.89,39.73,38.22,37.29,36.19,35.96,35.45,35.49]},{\"axis\":{\"matches\":true},\"label\":\"Region.1\",\"values\":[\"North\",\"North\",\"North\",\"North\",\"North\",\"North\",\"North\",\"North\",\"North\",\"North\"]},{\"axis\":{\"matches\":true},\"label\":\"longitude\",\"values\":[26.8467,26.8467,26.8467,26.8467,26.8467,26.8467,26.8467,26.8467,26.8467,26.8467]},{\"axis\":{\"matches\":true},\"label\":\"latitude\",\"values\":[80.9462,80.9462,80.9462,80.9462,80.9462,80.9462,80.9462,80.9462,80.9462,80.9462]},{\"axis\":{\"matches\":true},\"label\":\"day\",\"values\":[\" 31\",\" 29\",\" 31\",\" 30\",\" 31\",\" 30\",\" 31\",\" 31\",\" 30\",\" 31\"]},{\"axis\":{\"matches\":true},\"label\":\"month\",\"values\":[\"01\",\"02\",\"03\",\"04\",\"05\",\"06\",\"07\",\"08\",\"09\",\"10\"]},{\"axis\":{\"matches\":true},\"label\":\"year\",\"values\":[\"2020\",\"2020\",\"2020\",\"2020\",\"2020\",\"2020\",\"2020\",\"2020\",\"2020\",\"2020\"]}],\"hovertemplate\":\"Region=Uttar Pradesh<br>%{xaxis.title.text}=%{x}<br>%{yaxis.title.text}=%{y}<extra></extra>\",\"legendgroup\":\"Uttar Pradesh\",\"marker\":{\"color\":\"#FFA15A\",\"symbol\":\"circle\"},\"name\":\"Uttar Pradesh\",\"showlegend\":true,\"type\":\"splom\"},{\"dimensions\":[{\"axis\":{\"matches\":true},\"label\":\"Region\",\"values\":[\"Uttarakhand\",\"Uttarakhand\",\"Uttarakhand\",\"Uttarakhand\",\"Uttarakhand\",\"Uttarakhand\",\"Uttarakhand\",\"Uttarakhand\",\"Uttarakhand\",\"Uttarakhand\"]},{\"axis\":{\"matches\":true},\"label\":\" Date\",\"values\":[\" 31-01-2020\",\" 29-02-2020\",\" 31-03-2020\",\" 30-04-2020\",\" 31-05-2020\",\" 30-06-2020\",\" 31-07-2020\",\" 31-08-2020\",\" 30-09-2020\",\" 31-10-2020\"]},{\"axis\":{\"matches\":true},\"label\":\" Estimated Unemployment Rate (%)\",\"values\":[5.49,4.99,19.85,6.48,8.01,8.61,12.38,14.26,22.26,9.23]},{\"axis\":{\"matches\":true},\"label\":\" Estimated Employed\",\"values\":[2711639,3020931,2539302,2720115,2694072,2656071,2938552,2717528,2695230,2739309]},{\"axis\":{\"matches\":true},\"label\":\" Estimated Labour Participation Rate (%)\",\"values\":[32.99,36.48,36.27,33.23,33.38,33.06,38.07,35.9,39.18,34.03]},{\"axis\":{\"matches\":true},\"label\":\"Region.1\",\"values\":[\"North\",\"North\",\"North\",\"North\",\"North\",\"North\",\"North\",\"North\",\"North\",\"North\"]},{\"axis\":{\"matches\":true},\"label\":\"longitude\",\"values\":[30.0668,30.0668,30.0668,30.0668,30.0668,30.0668,30.0668,30.0668,30.0668,30.0668]},{\"axis\":{\"matches\":true},\"label\":\"latitude\",\"values\":[79.0193,79.0193,79.0193,79.0193,79.0193,79.0193,79.0193,79.0193,79.0193,79.0193]},{\"axis\":{\"matches\":true},\"label\":\"day\",\"values\":[\" 31\",\" 29\",\" 31\",\" 30\",\" 31\",\" 30\",\" 31\",\" 31\",\" 30\",\" 31\"]},{\"axis\":{\"matches\":true},\"label\":\"month\",\"values\":[\"01\",\"02\",\"03\",\"04\",\"05\",\"06\",\"07\",\"08\",\"09\",\"10\"]},{\"axis\":{\"matches\":true},\"label\":\"year\",\"values\":[\"2020\",\"2020\",\"2020\",\"2020\",\"2020\",\"2020\",\"2020\",\"2020\",\"2020\",\"2020\"]}],\"hovertemplate\":\"Region=Uttarakhand<br>%{xaxis.title.text}=%{x}<br>%{yaxis.title.text}=%{y}<extra></extra>\",\"legendgroup\":\"Uttarakhand\",\"marker\":{\"color\":\"#19d3f3\",\"symbol\":\"circle\"},\"name\":\"Uttarakhand\",\"showlegend\":true,\"type\":\"splom\"},{\"dimensions\":[{\"axis\":{\"matches\":true},\"label\":\"Region\",\"values\":[\"West Bengal\",\"West Bengal\",\"West Bengal\",\"West Bengal\",\"West Bengal\",\"West Bengal\",\"West Bengal\",\"West Bengal\",\"West Bengal\",\"West Bengal\"]},{\"axis\":{\"matches\":true},\"label\":\" Date\",\"values\":[\" 31-01-2020\",\" 29-02-2020\",\" 31-03-2020\",\" 30-04-2020\",\" 31-05-2020\",\" 30-06-2020\",\" 31-07-2020\",\" 31-08-2020\",\" 30-09-2020\",\" 31-10-2020\"]},{\"axis\":{\"matches\":true},\"label\":\" Estimated Unemployment Rate (%)\",\"values\":[6.94,4.92,6.92,17.41,17.41,7.29,6.83,14.87,9.35,9.98]},{\"axis\":{\"matches\":true},\"label\":\" Estimated Employed\",\"values\":[35820789,36964178,35903917,26938836,28356675,30726310,35372506,33298644,35707239,33962549]},{\"axis\":{\"matches\":true},\"label\":\" Estimated Labour Participation Rate (%)\",\"values\":[47.35,47.74,47.27,39.9,41.92,40.39,46.17,47.48,47.73,45.63]},{\"axis\":{\"matches\":true},\"label\":\"Region.1\",\"values\":[\"East\",\"East\",\"East\",\"East\",\"East\",\"East\",\"East\",\"East\",\"East\",\"East\"]},{\"axis\":{\"matches\":true},\"label\":\"longitude\",\"values\":[22.9868,22.9868,22.9868,22.9868,22.9868,22.9868,22.9868,22.9868,22.9868,22.9868]},{\"axis\":{\"matches\":true},\"label\":\"latitude\",\"values\":[87.855,87.855,87.855,87.855,87.855,87.855,87.855,87.855,87.855,87.855]},{\"axis\":{\"matches\":true},\"label\":\"day\",\"values\":[\" 31\",\" 29\",\" 31\",\" 30\",\" 31\",\" 30\",\" 31\",\" 31\",\" 30\",\" 31\"]},{\"axis\":{\"matches\":true},\"label\":\"month\",\"values\":[\"01\",\"02\",\"03\",\"04\",\"05\",\"06\",\"07\",\"08\",\"09\",\"10\"]},{\"axis\":{\"matches\":true},\"label\":\"year\",\"values\":[\"2020\",\"2020\",\"2020\",\"2020\",\"2020\",\"2020\",\"2020\",\"2020\",\"2020\",\"2020\"]}],\"hovertemplate\":\"Region=West Bengal<br>%{xaxis.title.text}=%{x}<br>%{yaxis.title.text}=%{y}<extra></extra>\",\"legendgroup\":\"West Bengal\",\"marker\":{\"color\":\"#FF6692\",\"symbol\":\"circle\"},\"name\":\"West Bengal\",\"showlegend\":true,\"type\":\"splom\"}],                        {\"template\":{\"data\":{\"histogram2dcontour\":[{\"type\":\"histogram2dcontour\",\"colorbar\":{\"outlinewidth\":0,\"ticks\":\"\"},\"colorscale\":[[0.0,\"#0d0887\"],[0.1111111111111111,\"#46039f\"],[0.2222222222222222,\"#7201a8\"],[0.3333333333333333,\"#9c179e\"],[0.4444444444444444,\"#bd3786\"],[0.5555555555555556,\"#d8576b\"],[0.6666666666666666,\"#ed7953\"],[0.7777777777777778,\"#fb9f3a\"],[0.8888888888888888,\"#fdca26\"],[1.0,\"#f0f921\"]]}],\"choropleth\":[{\"type\":\"choropleth\",\"colorbar\":{\"outlinewidth\":0,\"ticks\":\"\"}}],\"histogram2d\":[{\"type\":\"histogram2d\",\"colorbar\":{\"outlinewidth\":0,\"ticks\":\"\"},\"colorscale\":[[0.0,\"#0d0887\"],[0.1111111111111111,\"#46039f\"],[0.2222222222222222,\"#7201a8\"],[0.3333333333333333,\"#9c179e\"],[0.4444444444444444,\"#bd3786\"],[0.5555555555555556,\"#d8576b\"],[0.6666666666666666,\"#ed7953\"],[0.7777777777777778,\"#fb9f3a\"],[0.8888888888888888,\"#fdca26\"],[1.0,\"#f0f921\"]]}],\"heatmap\":[{\"type\":\"heatmap\",\"colorbar\":{\"outlinewidth\":0,\"ticks\":\"\"},\"colorscale\":[[0.0,\"#0d0887\"],[0.1111111111111111,\"#46039f\"],[0.2222222222222222,\"#7201a8\"],[0.3333333333333333,\"#9c179e\"],[0.4444444444444444,\"#bd3786\"],[0.5555555555555556,\"#d8576b\"],[0.6666666666666666,\"#ed7953\"],[0.7777777777777778,\"#fb9f3a\"],[0.8888888888888888,\"#fdca26\"],[1.0,\"#f0f921\"]]}],\"heatmapgl\":[{\"type\":\"heatmapgl\",\"colorbar\":{\"outlinewidth\":0,\"ticks\":\"\"},\"colorscale\":[[0.0,\"#0d0887\"],[0.1111111111111111,\"#46039f\"],[0.2222222222222222,\"#7201a8\"],[0.3333333333333333,\"#9c179e\"],[0.4444444444444444,\"#bd3786\"],[0.5555555555555556,\"#d8576b\"],[0.6666666666666666,\"#ed7953\"],[0.7777777777777778,\"#fb9f3a\"],[0.8888888888888888,\"#fdca26\"],[1.0,\"#f0f921\"]]}],\"contourcarpet\":[{\"type\":\"contourcarpet\",\"colorbar\":{\"outlinewidth\":0,\"ticks\":\"\"}}],\"contour\":[{\"type\":\"contour\",\"colorbar\":{\"outlinewidth\":0,\"ticks\":\"\"},\"colorscale\":[[0.0,\"#0d0887\"],[0.1111111111111111,\"#46039f\"],[0.2222222222222222,\"#7201a8\"],[0.3333333333333333,\"#9c179e\"],[0.4444444444444444,\"#bd3786\"],[0.5555555555555556,\"#d8576b\"],[0.6666666666666666,\"#ed7953\"],[0.7777777777777778,\"#fb9f3a\"],[0.8888888888888888,\"#fdca26\"],[1.0,\"#f0f921\"]]}],\"surface\":[{\"type\":\"surface\",\"colorbar\":{\"outlinewidth\":0,\"ticks\":\"\"},\"colorscale\":[[0.0,\"#0d0887\"],[0.1111111111111111,\"#46039f\"],[0.2222222222222222,\"#7201a8\"],[0.3333333333333333,\"#9c179e\"],[0.4444444444444444,\"#bd3786\"],[0.5555555555555556,\"#d8576b\"],[0.6666666666666666,\"#ed7953\"],[0.7777777777777778,\"#fb9f3a\"],[0.8888888888888888,\"#fdca26\"],[1.0,\"#f0f921\"]]}],\"mesh3d\":[{\"type\":\"mesh3d\",\"colorbar\":{\"outlinewidth\":0,\"ticks\":\"\"}}],\"scatter\":[{\"fillpattern\":{\"fillmode\":\"overlay\",\"size\":10,\"solidity\":0.2},\"type\":\"scatter\"}],\"parcoords\":[{\"type\":\"parcoords\",\"line\":{\"colorbar\":{\"outlinewidth\":0,\"ticks\":\"\"}}}],\"scatterpolargl\":[{\"type\":\"scatterpolargl\",\"marker\":{\"colorbar\":{\"outlinewidth\":0,\"ticks\":\"\"}}}],\"bar\":[{\"error_x\":{\"color\":\"#2a3f5f\"},\"error_y\":{\"color\":\"#2a3f5f\"},\"marker\":{\"line\":{\"color\":\"#E5ECF6\",\"width\":0.5},\"pattern\":{\"fillmode\":\"overlay\",\"size\":10,\"solidity\":0.2}},\"type\":\"bar\"}],\"scattergeo\":[{\"type\":\"scattergeo\",\"marker\":{\"colorbar\":{\"outlinewidth\":0,\"ticks\":\"\"}}}],\"scatterpolar\":[{\"type\":\"scatterpolar\",\"marker\":{\"colorbar\":{\"outlinewidth\":0,\"ticks\":\"\"}}}],\"histogram\":[{\"marker\":{\"pattern\":{\"fillmode\":\"overlay\",\"size\":10,\"solidity\":0.2}},\"type\":\"histogram\"}],\"scattergl\":[{\"type\":\"scattergl\",\"marker\":{\"colorbar\":{\"outlinewidth\":0,\"ticks\":\"\"}}}],\"scatter3d\":[{\"type\":\"scatter3d\",\"line\":{\"colorbar\":{\"outlinewidth\":0,\"ticks\":\"\"}},\"marker\":{\"colorbar\":{\"outlinewidth\":0,\"ticks\":\"\"}}}],\"scattermapbox\":[{\"type\":\"scattermapbox\",\"marker\":{\"colorbar\":{\"outlinewidth\":0,\"ticks\":\"\"}}}],\"scatterternary\":[{\"type\":\"scatterternary\",\"marker\":{\"colorbar\":{\"outlinewidth\":0,\"ticks\":\"\"}}}],\"scattercarpet\":[{\"type\":\"scattercarpet\",\"marker\":{\"colorbar\":{\"outlinewidth\":0,\"ticks\":\"\"}}}],\"carpet\":[{\"aaxis\":{\"endlinecolor\":\"#2a3f5f\",\"gridcolor\":\"white\",\"linecolor\":\"white\",\"minorgridcolor\":\"white\",\"startlinecolor\":\"#2a3f5f\"},\"baxis\":{\"endlinecolor\":\"#2a3f5f\",\"gridcolor\":\"white\",\"linecolor\":\"white\",\"minorgridcolor\":\"white\",\"startlinecolor\":\"#2a3f5f\"},\"type\":\"carpet\"}],\"table\":[{\"cells\":{\"fill\":{\"color\":\"#EBF0F8\"},\"line\":{\"color\":\"white\"}},\"header\":{\"fill\":{\"color\":\"#C8D4E3\"},\"line\":{\"color\":\"white\"}},\"type\":\"table\"}],\"barpolar\":[{\"marker\":{\"line\":{\"color\":\"#E5ECF6\",\"width\":0.5},\"pattern\":{\"fillmode\":\"overlay\",\"size\":10,\"solidity\":0.2}},\"type\":\"barpolar\"}],\"pie\":[{\"automargin\":true,\"type\":\"pie\"}]},\"layout\":{\"autotypenumbers\":\"strict\",\"colorway\":[\"#636efa\",\"#EF553B\",\"#00cc96\",\"#ab63fa\",\"#FFA15A\",\"#19d3f3\",\"#FF6692\",\"#B6E880\",\"#FF97FF\",\"#FECB52\"],\"font\":{\"color\":\"#2a3f5f\"},\"hovermode\":\"closest\",\"hoverlabel\":{\"align\":\"left\"},\"paper_bgcolor\":\"white\",\"plot_bgcolor\":\"#E5ECF6\",\"polar\":{\"bgcolor\":\"#E5ECF6\",\"angularaxis\":{\"gridcolor\":\"white\",\"linecolor\":\"white\",\"ticks\":\"\"},\"radialaxis\":{\"gridcolor\":\"white\",\"linecolor\":\"white\",\"ticks\":\"\"}},\"ternary\":{\"bgcolor\":\"#E5ECF6\",\"aaxis\":{\"gridcolor\":\"white\",\"linecolor\":\"white\",\"ticks\":\"\"},\"baxis\":{\"gridcolor\":\"white\",\"linecolor\":\"white\",\"ticks\":\"\"},\"caxis\":{\"gridcolor\":\"white\",\"linecolor\":\"white\",\"ticks\":\"\"}},\"coloraxis\":{\"colorbar\":{\"outlinewidth\":0,\"ticks\":\"\"}},\"colorscale\":{\"sequential\":[[0.0,\"#0d0887\"],[0.1111111111111111,\"#46039f\"],[0.2222222222222222,\"#7201a8\"],[0.3333333333333333,\"#9c179e\"],[0.4444444444444444,\"#bd3786\"],[0.5555555555555556,\"#d8576b\"],[0.6666666666666666,\"#ed7953\"],[0.7777777777777778,\"#fb9f3a\"],[0.8888888888888888,\"#fdca26\"],[1.0,\"#f0f921\"]],\"sequentialminus\":[[0.0,\"#0d0887\"],[0.1111111111111111,\"#46039f\"],[0.2222222222222222,\"#7201a8\"],[0.3333333333333333,\"#9c179e\"],[0.4444444444444444,\"#bd3786\"],[0.5555555555555556,\"#d8576b\"],[0.6666666666666666,\"#ed7953\"],[0.7777777777777778,\"#fb9f3a\"],[0.8888888888888888,\"#fdca26\"],[1.0,\"#f0f921\"]],\"diverging\":[[0,\"#8e0152\"],[0.1,\"#c51b7d\"],[0.2,\"#de77ae\"],[0.3,\"#f1b6da\"],[0.4,\"#fde0ef\"],[0.5,\"#f7f7f7\"],[0.6,\"#e6f5d0\"],[0.7,\"#b8e186\"],[0.8,\"#7fbc41\"],[0.9,\"#4d9221\"],[1,\"#276419\"]]},\"xaxis\":{\"gridcolor\":\"white\",\"linecolor\":\"white\",\"ticks\":\"\",\"title\":{\"standoff\":15},\"zerolinecolor\":\"white\",\"automargin\":true,\"zerolinewidth\":2},\"yaxis\":{\"gridcolor\":\"white\",\"linecolor\":\"white\",\"ticks\":\"\",\"title\":{\"standoff\":15},\"zerolinecolor\":\"white\",\"automargin\":true,\"zerolinewidth\":2},\"scene\":{\"xaxis\":{\"backgroundcolor\":\"#E5ECF6\",\"gridcolor\":\"white\",\"linecolor\":\"white\",\"showbackground\":true,\"ticks\":\"\",\"zerolinecolor\":\"white\",\"gridwidth\":2},\"yaxis\":{\"backgroundcolor\":\"#E5ECF6\",\"gridcolor\":\"white\",\"linecolor\":\"white\",\"showbackground\":true,\"ticks\":\"\",\"zerolinecolor\":\"white\",\"gridwidth\":2},\"zaxis\":{\"backgroundcolor\":\"#E5ECF6\",\"gridcolor\":\"white\",\"linecolor\":\"white\",\"showbackground\":true,\"ticks\":\"\",\"zerolinecolor\":\"white\",\"gridwidth\":2}},\"shapedefaults\":{\"line\":{\"color\":\"#2a3f5f\"}},\"annotationdefaults\":{\"arrowcolor\":\"#2a3f5f\",\"arrowhead\":0,\"arrowwidth\":1},\"geo\":{\"bgcolor\":\"white\",\"landcolor\":\"#E5ECF6\",\"subunitcolor\":\"white\",\"showland\":true,\"showlakes\":true,\"lakecolor\":\"white\"},\"title\":{\"x\":0.05},\"mapbox\":{\"style\":\"light\"}}},\"legend\":{\"title\":{\"text\":\"Region\"},\"tracegroupgap\":0},\"margin\":{\"t\":60},\"dragmode\":\"select\"},                        {\"responsive\": true}                    ).then(function(){\n",
       "                            \n",
       "var gd = document.getElementById('a3e2f82d-4108-46ef-a5b3-554bec5e895c');\n",
       "var x = new MutationObserver(function (mutations, observer) {{\n",
       "        var display = window.getComputedStyle(gd).display;\n",
       "        if (!display || display === 'none') {{\n",
       "            console.log([gd, 'removed!']);\n",
       "            Plotly.purge(gd);\n",
       "            observer.disconnect();\n",
       "        }}\n",
       "}});\n",
       "\n",
       "// Listen for the removal of the full notebook cells\n",
       "var notebookContainer = gd.closest('#notebook-container');\n",
       "if (notebookContainer) {{\n",
       "    x.observe(notebookContainer, {childList: true});\n",
       "}}\n",
       "\n",
       "// Listen for the clearing of the current output cell\n",
       "var outputEl = gd.closest('.output');\n",
       "if (outputEl) {{\n",
       "    x.observe(outputEl, {childList: true});\n",
       "}}\n",
       "\n",
       "                        })                };                });            </script>        </div>"
      ]
     },
     "metadata": {},
     "output_type": "display_data"
    }
   ],
   "source": [
    "fig = px.scatter_matrix(df,\n",
    "    dimensions=['Region', ' Date', ' Estimated Unemployment Rate (%)', ' Estimated Employed', ' Estimated Labour Participation Rate (%)', 'Region.1', 'longitude', 'latitude', 'day', 'month', 'year'],\n",
    "    color='Region')\n",
    "fig.show()"
   ]
  },
  {
   "cell_type": "code",
   "execution_count": 54,
   "id": "e27e2354",
   "metadata": {},
   "outputs": [
    {
     "data": {
      "application/vnd.plotly.v1+json": {
       "config": {
        "plotlyServerURL": "https://plot.ly"
       },
       "data": [
        {
         "branchvalues": "total",
         "domain": {
          "x": [
           0,
           1
          ],
          "y": [
           0,
           1
          ]
         },
         "hovertemplate": "labels=%{label}<br> Estimated Unemployment Rate (%)=%{value}<br>parent=%{parent}<br>id=%{id}<extra></extra>",
         "ids": [
          "Andhra Pradesh",
          "Assam",
          "Bihar",
          "Chhattisgarh",
          "Delhi",
          "Goa",
          "Gujarat",
          "Haryana",
          "Himachal Pradesh",
          "Jammu & Kashmir",
          "Jharkhand",
          "Karnataka",
          "Kerala",
          "Madhya Pradesh",
          "Maharashtra",
          "Meghalaya",
          "Odisha",
          "Puducherry",
          "Punjab",
          "Rajasthan",
          "Sikkim",
          "Tamil Nadu",
          "Telangana",
          "Tripura",
          "Uttar Pradesh",
          "Uttarakhand",
          "West Bengal"
         ],
         "labels": [
          "Andhra Pradesh",
          "Assam",
          "Bihar",
          "Chhattisgarh",
          "Delhi",
          "Goa",
          "Gujarat",
          "Haryana",
          "Himachal Pradesh",
          "Jammu & Kashmir",
          "Jharkhand",
          "Karnataka",
          "Kerala",
          "Madhya Pradesh",
          "Maharashtra",
          "Meghalaya",
          "Odisha",
          "Puducherry",
          "Punjab",
          "Rajasthan",
          "Sikkim",
          "Tamil Nadu",
          "Telangana",
          "Tripura",
          "Uttar Pradesh",
          "Uttarakhand",
          "West Bengal"
         ],
         "name": "",
         "parents": [
          "",
          "",
          "",
          "",
          "",
          "",
          "",
          "",
          "",
          "",
          "",
          "",
          "",
          "",
          "",
          "",
          "",
          "",
          "",
          "",
          "",
          "",
          "",
          "",
          "",
          "",
          ""
         ],
         "type": "sunburst",
         "values": [
          86.64,
          48.56,
          194.71,
          78.19,
          184.14000000000001,
          121.67,
          63.76,
          274.77,
          160.65,
          148.3,
          195.39,
          76.67999999999999,
          94.34,
          68.54,
          79.79,
          38.66,
          64.62,
          179.42,
          119.81,
          158.68,
          78.34,
          121.86999999999999,
          68.33,
          250.55,
          97.37,
          111.56,
          101.92
         ]
        }
       ],
       "layout": {
        "height": 700,
        "legend": {
         "tracegroupgap": 0
        },
        "template": {
         "data": {
          "bar": [
           {
            "error_x": {
             "color": "#2a3f5f"
            },
            "error_y": {
             "color": "#2a3f5f"
            },
            "marker": {
             "line": {
              "color": "#E5ECF6",
              "width": 0.5
             },
             "pattern": {
              "fillmode": "overlay",
              "size": 10,
              "solidity": 0.2
             }
            },
            "type": "bar"
           }
          ],
          "barpolar": [
           {
            "marker": {
             "line": {
              "color": "#E5ECF6",
              "width": 0.5
             },
             "pattern": {
              "fillmode": "overlay",
              "size": 10,
              "solidity": 0.2
             }
            },
            "type": "barpolar"
           }
          ],
          "carpet": [
           {
            "aaxis": {
             "endlinecolor": "#2a3f5f",
             "gridcolor": "white",
             "linecolor": "white",
             "minorgridcolor": "white",
             "startlinecolor": "#2a3f5f"
            },
            "baxis": {
             "endlinecolor": "#2a3f5f",
             "gridcolor": "white",
             "linecolor": "white",
             "minorgridcolor": "white",
             "startlinecolor": "#2a3f5f"
            },
            "type": "carpet"
           }
          ],
          "choropleth": [
           {
            "colorbar": {
             "outlinewidth": 0,
             "ticks": ""
            },
            "type": "choropleth"
           }
          ],
          "contour": [
           {
            "colorbar": {
             "outlinewidth": 0,
             "ticks": ""
            },
            "colorscale": [
             [
              0,
              "#0d0887"
             ],
             [
              0.1111111111111111,
              "#46039f"
             ],
             [
              0.2222222222222222,
              "#7201a8"
             ],
             [
              0.3333333333333333,
              "#9c179e"
             ],
             [
              0.4444444444444444,
              "#bd3786"
             ],
             [
              0.5555555555555556,
              "#d8576b"
             ],
             [
              0.6666666666666666,
              "#ed7953"
             ],
             [
              0.7777777777777778,
              "#fb9f3a"
             ],
             [
              0.8888888888888888,
              "#fdca26"
             ],
             [
              1,
              "#f0f921"
             ]
            ],
            "type": "contour"
           }
          ],
          "contourcarpet": [
           {
            "colorbar": {
             "outlinewidth": 0,
             "ticks": ""
            },
            "type": "contourcarpet"
           }
          ],
          "heatmap": [
           {
            "colorbar": {
             "outlinewidth": 0,
             "ticks": ""
            },
            "colorscale": [
             [
              0,
              "#0d0887"
             ],
             [
              0.1111111111111111,
              "#46039f"
             ],
             [
              0.2222222222222222,
              "#7201a8"
             ],
             [
              0.3333333333333333,
              "#9c179e"
             ],
             [
              0.4444444444444444,
              "#bd3786"
             ],
             [
              0.5555555555555556,
              "#d8576b"
             ],
             [
              0.6666666666666666,
              "#ed7953"
             ],
             [
              0.7777777777777778,
              "#fb9f3a"
             ],
             [
              0.8888888888888888,
              "#fdca26"
             ],
             [
              1,
              "#f0f921"
             ]
            ],
            "type": "heatmap"
           }
          ],
          "heatmapgl": [
           {
            "colorbar": {
             "outlinewidth": 0,
             "ticks": ""
            },
            "colorscale": [
             [
              0,
              "#0d0887"
             ],
             [
              0.1111111111111111,
              "#46039f"
             ],
             [
              0.2222222222222222,
              "#7201a8"
             ],
             [
              0.3333333333333333,
              "#9c179e"
             ],
             [
              0.4444444444444444,
              "#bd3786"
             ],
             [
              0.5555555555555556,
              "#d8576b"
             ],
             [
              0.6666666666666666,
              "#ed7953"
             ],
             [
              0.7777777777777778,
              "#fb9f3a"
             ],
             [
              0.8888888888888888,
              "#fdca26"
             ],
             [
              1,
              "#f0f921"
             ]
            ],
            "type": "heatmapgl"
           }
          ],
          "histogram": [
           {
            "marker": {
             "pattern": {
              "fillmode": "overlay",
              "size": 10,
              "solidity": 0.2
             }
            },
            "type": "histogram"
           }
          ],
          "histogram2d": [
           {
            "colorbar": {
             "outlinewidth": 0,
             "ticks": ""
            },
            "colorscale": [
             [
              0,
              "#0d0887"
             ],
             [
              0.1111111111111111,
              "#46039f"
             ],
             [
              0.2222222222222222,
              "#7201a8"
             ],
             [
              0.3333333333333333,
              "#9c179e"
             ],
             [
              0.4444444444444444,
              "#bd3786"
             ],
             [
              0.5555555555555556,
              "#d8576b"
             ],
             [
              0.6666666666666666,
              "#ed7953"
             ],
             [
              0.7777777777777778,
              "#fb9f3a"
             ],
             [
              0.8888888888888888,
              "#fdca26"
             ],
             [
              1,
              "#f0f921"
             ]
            ],
            "type": "histogram2d"
           }
          ],
          "histogram2dcontour": [
           {
            "colorbar": {
             "outlinewidth": 0,
             "ticks": ""
            },
            "colorscale": [
             [
              0,
              "#0d0887"
             ],
             [
              0.1111111111111111,
              "#46039f"
             ],
             [
              0.2222222222222222,
              "#7201a8"
             ],
             [
              0.3333333333333333,
              "#9c179e"
             ],
             [
              0.4444444444444444,
              "#bd3786"
             ],
             [
              0.5555555555555556,
              "#d8576b"
             ],
             [
              0.6666666666666666,
              "#ed7953"
             ],
             [
              0.7777777777777778,
              "#fb9f3a"
             ],
             [
              0.8888888888888888,
              "#fdca26"
             ],
             [
              1,
              "#f0f921"
             ]
            ],
            "type": "histogram2dcontour"
           }
          ],
          "mesh3d": [
           {
            "colorbar": {
             "outlinewidth": 0,
             "ticks": ""
            },
            "type": "mesh3d"
           }
          ],
          "parcoords": [
           {
            "line": {
             "colorbar": {
              "outlinewidth": 0,
              "ticks": ""
             }
            },
            "type": "parcoords"
           }
          ],
          "pie": [
           {
            "automargin": true,
            "type": "pie"
           }
          ],
          "scatter": [
           {
            "fillpattern": {
             "fillmode": "overlay",
             "size": 10,
             "solidity": 0.2
            },
            "type": "scatter"
           }
          ],
          "scatter3d": [
           {
            "line": {
             "colorbar": {
              "outlinewidth": 0,
              "ticks": ""
             }
            },
            "marker": {
             "colorbar": {
              "outlinewidth": 0,
              "ticks": ""
             }
            },
            "type": "scatter3d"
           }
          ],
          "scattercarpet": [
           {
            "marker": {
             "colorbar": {
              "outlinewidth": 0,
              "ticks": ""
             }
            },
            "type": "scattercarpet"
           }
          ],
          "scattergeo": [
           {
            "marker": {
             "colorbar": {
              "outlinewidth": 0,
              "ticks": ""
             }
            },
            "type": "scattergeo"
           }
          ],
          "scattergl": [
           {
            "marker": {
             "colorbar": {
              "outlinewidth": 0,
              "ticks": ""
             }
            },
            "type": "scattergl"
           }
          ],
          "scattermapbox": [
           {
            "marker": {
             "colorbar": {
              "outlinewidth": 0,
              "ticks": ""
             }
            },
            "type": "scattermapbox"
           }
          ],
          "scatterpolar": [
           {
            "marker": {
             "colorbar": {
              "outlinewidth": 0,
              "ticks": ""
             }
            },
            "type": "scatterpolar"
           }
          ],
          "scatterpolargl": [
           {
            "marker": {
             "colorbar": {
              "outlinewidth": 0,
              "ticks": ""
             }
            },
            "type": "scatterpolargl"
           }
          ],
          "scatterternary": [
           {
            "marker": {
             "colorbar": {
              "outlinewidth": 0,
              "ticks": ""
             }
            },
            "type": "scatterternary"
           }
          ],
          "surface": [
           {
            "colorbar": {
             "outlinewidth": 0,
             "ticks": ""
            },
            "colorscale": [
             [
              0,
              "#0d0887"
             ],
             [
              0.1111111111111111,
              "#46039f"
             ],
             [
              0.2222222222222222,
              "#7201a8"
             ],
             [
              0.3333333333333333,
              "#9c179e"
             ],
             [
              0.4444444444444444,
              "#bd3786"
             ],
             [
              0.5555555555555556,
              "#d8576b"
             ],
             [
              0.6666666666666666,
              "#ed7953"
             ],
             [
              0.7777777777777778,
              "#fb9f3a"
             ],
             [
              0.8888888888888888,
              "#fdca26"
             ],
             [
              1,
              "#f0f921"
             ]
            ],
            "type": "surface"
           }
          ],
          "table": [
           {
            "cells": {
             "fill": {
              "color": "#EBF0F8"
             },
             "line": {
              "color": "white"
             }
            },
            "header": {
             "fill": {
              "color": "#C8D4E3"
             },
             "line": {
              "color": "white"
             }
            },
            "type": "table"
           }
          ]
         },
         "layout": {
          "annotationdefaults": {
           "arrowcolor": "#2a3f5f",
           "arrowhead": 0,
           "arrowwidth": 1
          },
          "autotypenumbers": "strict",
          "coloraxis": {
           "colorbar": {
            "outlinewidth": 0,
            "ticks": ""
           }
          },
          "colorscale": {
           "diverging": [
            [
             0,
             "#8e0152"
            ],
            [
             0.1,
             "#c51b7d"
            ],
            [
             0.2,
             "#de77ae"
            ],
            [
             0.3,
             "#f1b6da"
            ],
            [
             0.4,
             "#fde0ef"
            ],
            [
             0.5,
             "#f7f7f7"
            ],
            [
             0.6,
             "#e6f5d0"
            ],
            [
             0.7,
             "#b8e186"
            ],
            [
             0.8,
             "#7fbc41"
            ],
            [
             0.9,
             "#4d9221"
            ],
            [
             1,
             "#276419"
            ]
           ],
           "sequential": [
            [
             0,
             "#0d0887"
            ],
            [
             0.1111111111111111,
             "#46039f"
            ],
            [
             0.2222222222222222,
             "#7201a8"
            ],
            [
             0.3333333333333333,
             "#9c179e"
            ],
            [
             0.4444444444444444,
             "#bd3786"
            ],
            [
             0.5555555555555556,
             "#d8576b"
            ],
            [
             0.6666666666666666,
             "#ed7953"
            ],
            [
             0.7777777777777778,
             "#fb9f3a"
            ],
            [
             0.8888888888888888,
             "#fdca26"
            ],
            [
             1,
             "#f0f921"
            ]
           ],
           "sequentialminus": [
            [
             0,
             "#0d0887"
            ],
            [
             0.1111111111111111,
             "#46039f"
            ],
            [
             0.2222222222222222,
             "#7201a8"
            ],
            [
             0.3333333333333333,
             "#9c179e"
            ],
            [
             0.4444444444444444,
             "#bd3786"
            ],
            [
             0.5555555555555556,
             "#d8576b"
            ],
            [
             0.6666666666666666,
             "#ed7953"
            ],
            [
             0.7777777777777778,
             "#fb9f3a"
            ],
            [
             0.8888888888888888,
             "#fdca26"
            ],
            [
             1,
             "#f0f921"
            ]
           ]
          },
          "colorway": [
           "#636efa",
           "#EF553B",
           "#00cc96",
           "#ab63fa",
           "#FFA15A",
           "#19d3f3",
           "#FF6692",
           "#B6E880",
           "#FF97FF",
           "#FECB52"
          ],
          "font": {
           "color": "#2a3f5f"
          },
          "geo": {
           "bgcolor": "white",
           "lakecolor": "white",
           "landcolor": "#E5ECF6",
           "showlakes": true,
           "showland": true,
           "subunitcolor": "white"
          },
          "hoverlabel": {
           "align": "left"
          },
          "hovermode": "closest",
          "mapbox": {
           "style": "light"
          },
          "paper_bgcolor": "white",
          "plot_bgcolor": "#E5ECF6",
          "polar": {
           "angularaxis": {
            "gridcolor": "white",
            "linecolor": "white",
            "ticks": ""
           },
           "bgcolor": "#E5ECF6",
           "radialaxis": {
            "gridcolor": "white",
            "linecolor": "white",
            "ticks": ""
           }
          },
          "scene": {
           "xaxis": {
            "backgroundcolor": "#E5ECF6",
            "gridcolor": "white",
            "gridwidth": 2,
            "linecolor": "white",
            "showbackground": true,
            "ticks": "",
            "zerolinecolor": "white"
           },
           "yaxis": {
            "backgroundcolor": "#E5ECF6",
            "gridcolor": "white",
            "gridwidth": 2,
            "linecolor": "white",
            "showbackground": true,
            "ticks": "",
            "zerolinecolor": "white"
           },
           "zaxis": {
            "backgroundcolor": "#E5ECF6",
            "gridcolor": "white",
            "gridwidth": 2,
            "linecolor": "white",
            "showbackground": true,
            "ticks": "",
            "zerolinecolor": "white"
           }
          },
          "shapedefaults": {
           "line": {
            "color": "#2a3f5f"
           }
          },
          "ternary": {
           "aaxis": {
            "gridcolor": "white",
            "linecolor": "white",
            "ticks": ""
           },
           "baxis": {
            "gridcolor": "white",
            "linecolor": "white",
            "ticks": ""
           },
           "bgcolor": "#E5ECF6",
           "caxis": {
            "gridcolor": "white",
            "linecolor": "white",
            "ticks": ""
           }
          },
          "title": {
           "x": 0.05
          },
          "xaxis": {
           "automargin": true,
           "gridcolor": "white",
           "linecolor": "white",
           "ticks": "",
           "title": {
            "standoff": 15
           },
           "zerolinecolor": "white",
           "zerolinewidth": 2
          },
          "yaxis": {
           "automargin": true,
           "gridcolor": "white",
           "linecolor": "white",
           "ticks": "",
           "title": {
            "standoff": 15
           },
           "zerolinecolor": "white",
           "zerolinewidth": 2
          }
         }
        },
        "title": {
         "text": "Unemployment Rate in India"
        },
        "width": 700
       }
      },
      "text/html": [
       "<div>                            <div id=\"aa94a402-4388-426b-9e87-e1cae41ed2fd\" class=\"plotly-graph-div\" style=\"height:700px; width:700px;\"></div>            <script type=\"text/javascript\">                require([\"plotly\"], function(Plotly) {                    window.PLOTLYENV=window.PLOTLYENV || {};                                    if (document.getElementById(\"aa94a402-4388-426b-9e87-e1cae41ed2fd\")) {                    Plotly.newPlot(                        \"aa94a402-4388-426b-9e87-e1cae41ed2fd\",                        [{\"branchvalues\":\"total\",\"domain\":{\"x\":[0.0,1.0],\"y\":[0.0,1.0]},\"hovertemplate\":\"labels=%{label}<br> Estimated Unemployment Rate (%)=%{value}<br>parent=%{parent}<br>id=%{id}<extra></extra>\",\"ids\":[\"Andhra Pradesh\",\"Assam\",\"Bihar\",\"Chhattisgarh\",\"Delhi\",\"Goa\",\"Gujarat\",\"Haryana\",\"Himachal Pradesh\",\"Jammu & Kashmir\",\"Jharkhand\",\"Karnataka\",\"Kerala\",\"Madhya Pradesh\",\"Maharashtra\",\"Meghalaya\",\"Odisha\",\"Puducherry\",\"Punjab\",\"Rajasthan\",\"Sikkim\",\"Tamil Nadu\",\"Telangana\",\"Tripura\",\"Uttar Pradesh\",\"Uttarakhand\",\"West Bengal\"],\"labels\":[\"Andhra Pradesh\",\"Assam\",\"Bihar\",\"Chhattisgarh\",\"Delhi\",\"Goa\",\"Gujarat\",\"Haryana\",\"Himachal Pradesh\",\"Jammu & Kashmir\",\"Jharkhand\",\"Karnataka\",\"Kerala\",\"Madhya Pradesh\",\"Maharashtra\",\"Meghalaya\",\"Odisha\",\"Puducherry\",\"Punjab\",\"Rajasthan\",\"Sikkim\",\"Tamil Nadu\",\"Telangana\",\"Tripura\",\"Uttar Pradesh\",\"Uttarakhand\",\"West Bengal\"],\"name\":\"\",\"parents\":[\"\",\"\",\"\",\"\",\"\",\"\",\"\",\"\",\"\",\"\",\"\",\"\",\"\",\"\",\"\",\"\",\"\",\"\",\"\",\"\",\"\",\"\",\"\",\"\",\"\",\"\",\"\"],\"values\":[86.64,48.56,194.71,78.19,184.14000000000001,121.67,63.76,274.77,160.65,148.3,195.39,76.67999999999999,94.34,68.54,79.79,38.66,64.62,179.42,119.81,158.68,78.34,121.86999999999999,68.33,250.55,97.37,111.56,101.92],\"type\":\"sunburst\"}],                        {\"template\":{\"data\":{\"histogram2dcontour\":[{\"type\":\"histogram2dcontour\",\"colorbar\":{\"outlinewidth\":0,\"ticks\":\"\"},\"colorscale\":[[0.0,\"#0d0887\"],[0.1111111111111111,\"#46039f\"],[0.2222222222222222,\"#7201a8\"],[0.3333333333333333,\"#9c179e\"],[0.4444444444444444,\"#bd3786\"],[0.5555555555555556,\"#d8576b\"],[0.6666666666666666,\"#ed7953\"],[0.7777777777777778,\"#fb9f3a\"],[0.8888888888888888,\"#fdca26\"],[1.0,\"#f0f921\"]]}],\"choropleth\":[{\"type\":\"choropleth\",\"colorbar\":{\"outlinewidth\":0,\"ticks\":\"\"}}],\"histogram2d\":[{\"type\":\"histogram2d\",\"colorbar\":{\"outlinewidth\":0,\"ticks\":\"\"},\"colorscale\":[[0.0,\"#0d0887\"],[0.1111111111111111,\"#46039f\"],[0.2222222222222222,\"#7201a8\"],[0.3333333333333333,\"#9c179e\"],[0.4444444444444444,\"#bd3786\"],[0.5555555555555556,\"#d8576b\"],[0.6666666666666666,\"#ed7953\"],[0.7777777777777778,\"#fb9f3a\"],[0.8888888888888888,\"#fdca26\"],[1.0,\"#f0f921\"]]}],\"heatmap\":[{\"type\":\"heatmap\",\"colorbar\":{\"outlinewidth\":0,\"ticks\":\"\"},\"colorscale\":[[0.0,\"#0d0887\"],[0.1111111111111111,\"#46039f\"],[0.2222222222222222,\"#7201a8\"],[0.3333333333333333,\"#9c179e\"],[0.4444444444444444,\"#bd3786\"],[0.5555555555555556,\"#d8576b\"],[0.6666666666666666,\"#ed7953\"],[0.7777777777777778,\"#fb9f3a\"],[0.8888888888888888,\"#fdca26\"],[1.0,\"#f0f921\"]]}],\"heatmapgl\":[{\"type\":\"heatmapgl\",\"colorbar\":{\"outlinewidth\":0,\"ticks\":\"\"},\"colorscale\":[[0.0,\"#0d0887\"],[0.1111111111111111,\"#46039f\"],[0.2222222222222222,\"#7201a8\"],[0.3333333333333333,\"#9c179e\"],[0.4444444444444444,\"#bd3786\"],[0.5555555555555556,\"#d8576b\"],[0.6666666666666666,\"#ed7953\"],[0.7777777777777778,\"#fb9f3a\"],[0.8888888888888888,\"#fdca26\"],[1.0,\"#f0f921\"]]}],\"contourcarpet\":[{\"type\":\"contourcarpet\",\"colorbar\":{\"outlinewidth\":0,\"ticks\":\"\"}}],\"contour\":[{\"type\":\"contour\",\"colorbar\":{\"outlinewidth\":0,\"ticks\":\"\"},\"colorscale\":[[0.0,\"#0d0887\"],[0.1111111111111111,\"#46039f\"],[0.2222222222222222,\"#7201a8\"],[0.3333333333333333,\"#9c179e\"],[0.4444444444444444,\"#bd3786\"],[0.5555555555555556,\"#d8576b\"],[0.6666666666666666,\"#ed7953\"],[0.7777777777777778,\"#fb9f3a\"],[0.8888888888888888,\"#fdca26\"],[1.0,\"#f0f921\"]]}],\"surface\":[{\"type\":\"surface\",\"colorbar\":{\"outlinewidth\":0,\"ticks\":\"\"},\"colorscale\":[[0.0,\"#0d0887\"],[0.1111111111111111,\"#46039f\"],[0.2222222222222222,\"#7201a8\"],[0.3333333333333333,\"#9c179e\"],[0.4444444444444444,\"#bd3786\"],[0.5555555555555556,\"#d8576b\"],[0.6666666666666666,\"#ed7953\"],[0.7777777777777778,\"#fb9f3a\"],[0.8888888888888888,\"#fdca26\"],[1.0,\"#f0f921\"]]}],\"mesh3d\":[{\"type\":\"mesh3d\",\"colorbar\":{\"outlinewidth\":0,\"ticks\":\"\"}}],\"scatter\":[{\"fillpattern\":{\"fillmode\":\"overlay\",\"size\":10,\"solidity\":0.2},\"type\":\"scatter\"}],\"parcoords\":[{\"type\":\"parcoords\",\"line\":{\"colorbar\":{\"outlinewidth\":0,\"ticks\":\"\"}}}],\"scatterpolargl\":[{\"type\":\"scatterpolargl\",\"marker\":{\"colorbar\":{\"outlinewidth\":0,\"ticks\":\"\"}}}],\"bar\":[{\"error_x\":{\"color\":\"#2a3f5f\"},\"error_y\":{\"color\":\"#2a3f5f\"},\"marker\":{\"line\":{\"color\":\"#E5ECF6\",\"width\":0.5},\"pattern\":{\"fillmode\":\"overlay\",\"size\":10,\"solidity\":0.2}},\"type\":\"bar\"}],\"scattergeo\":[{\"type\":\"scattergeo\",\"marker\":{\"colorbar\":{\"outlinewidth\":0,\"ticks\":\"\"}}}],\"scatterpolar\":[{\"type\":\"scatterpolar\",\"marker\":{\"colorbar\":{\"outlinewidth\":0,\"ticks\":\"\"}}}],\"histogram\":[{\"marker\":{\"pattern\":{\"fillmode\":\"overlay\",\"size\":10,\"solidity\":0.2}},\"type\":\"histogram\"}],\"scattergl\":[{\"type\":\"scattergl\",\"marker\":{\"colorbar\":{\"outlinewidth\":0,\"ticks\":\"\"}}}],\"scatter3d\":[{\"type\":\"scatter3d\",\"line\":{\"colorbar\":{\"outlinewidth\":0,\"ticks\":\"\"}},\"marker\":{\"colorbar\":{\"outlinewidth\":0,\"ticks\":\"\"}}}],\"scattermapbox\":[{\"type\":\"scattermapbox\",\"marker\":{\"colorbar\":{\"outlinewidth\":0,\"ticks\":\"\"}}}],\"scatterternary\":[{\"type\":\"scatterternary\",\"marker\":{\"colorbar\":{\"outlinewidth\":0,\"ticks\":\"\"}}}],\"scattercarpet\":[{\"type\":\"scattercarpet\",\"marker\":{\"colorbar\":{\"outlinewidth\":0,\"ticks\":\"\"}}}],\"carpet\":[{\"aaxis\":{\"endlinecolor\":\"#2a3f5f\",\"gridcolor\":\"white\",\"linecolor\":\"white\",\"minorgridcolor\":\"white\",\"startlinecolor\":\"#2a3f5f\"},\"baxis\":{\"endlinecolor\":\"#2a3f5f\",\"gridcolor\":\"white\",\"linecolor\":\"white\",\"minorgridcolor\":\"white\",\"startlinecolor\":\"#2a3f5f\"},\"type\":\"carpet\"}],\"table\":[{\"cells\":{\"fill\":{\"color\":\"#EBF0F8\"},\"line\":{\"color\":\"white\"}},\"header\":{\"fill\":{\"color\":\"#C8D4E3\"},\"line\":{\"color\":\"white\"}},\"type\":\"table\"}],\"barpolar\":[{\"marker\":{\"line\":{\"color\":\"#E5ECF6\",\"width\":0.5},\"pattern\":{\"fillmode\":\"overlay\",\"size\":10,\"solidity\":0.2}},\"type\":\"barpolar\"}],\"pie\":[{\"automargin\":true,\"type\":\"pie\"}]},\"layout\":{\"autotypenumbers\":\"strict\",\"colorway\":[\"#636efa\",\"#EF553B\",\"#00cc96\",\"#ab63fa\",\"#FFA15A\",\"#19d3f3\",\"#FF6692\",\"#B6E880\",\"#FF97FF\",\"#FECB52\"],\"font\":{\"color\":\"#2a3f5f\"},\"hovermode\":\"closest\",\"hoverlabel\":{\"align\":\"left\"},\"paper_bgcolor\":\"white\",\"plot_bgcolor\":\"#E5ECF6\",\"polar\":{\"bgcolor\":\"#E5ECF6\",\"angularaxis\":{\"gridcolor\":\"white\",\"linecolor\":\"white\",\"ticks\":\"\"},\"radialaxis\":{\"gridcolor\":\"white\",\"linecolor\":\"white\",\"ticks\":\"\"}},\"ternary\":{\"bgcolor\":\"#E5ECF6\",\"aaxis\":{\"gridcolor\":\"white\",\"linecolor\":\"white\",\"ticks\":\"\"},\"baxis\":{\"gridcolor\":\"white\",\"linecolor\":\"white\",\"ticks\":\"\"},\"caxis\":{\"gridcolor\":\"white\",\"linecolor\":\"white\",\"ticks\":\"\"}},\"coloraxis\":{\"colorbar\":{\"outlinewidth\":0,\"ticks\":\"\"}},\"colorscale\":{\"sequential\":[[0.0,\"#0d0887\"],[0.1111111111111111,\"#46039f\"],[0.2222222222222222,\"#7201a8\"],[0.3333333333333333,\"#9c179e\"],[0.4444444444444444,\"#bd3786\"],[0.5555555555555556,\"#d8576b\"],[0.6666666666666666,\"#ed7953\"],[0.7777777777777778,\"#fb9f3a\"],[0.8888888888888888,\"#fdca26\"],[1.0,\"#f0f921\"]],\"sequentialminus\":[[0.0,\"#0d0887\"],[0.1111111111111111,\"#46039f\"],[0.2222222222222222,\"#7201a8\"],[0.3333333333333333,\"#9c179e\"],[0.4444444444444444,\"#bd3786\"],[0.5555555555555556,\"#d8576b\"],[0.6666666666666666,\"#ed7953\"],[0.7777777777777778,\"#fb9f3a\"],[0.8888888888888888,\"#fdca26\"],[1.0,\"#f0f921\"]],\"diverging\":[[0,\"#8e0152\"],[0.1,\"#c51b7d\"],[0.2,\"#de77ae\"],[0.3,\"#f1b6da\"],[0.4,\"#fde0ef\"],[0.5,\"#f7f7f7\"],[0.6,\"#e6f5d0\"],[0.7,\"#b8e186\"],[0.8,\"#7fbc41\"],[0.9,\"#4d9221\"],[1,\"#276419\"]]},\"xaxis\":{\"gridcolor\":\"white\",\"linecolor\":\"white\",\"ticks\":\"\",\"title\":{\"standoff\":15},\"zerolinecolor\":\"white\",\"automargin\":true,\"zerolinewidth\":2},\"yaxis\":{\"gridcolor\":\"white\",\"linecolor\":\"white\",\"ticks\":\"\",\"title\":{\"standoff\":15},\"zerolinecolor\":\"white\",\"automargin\":true,\"zerolinewidth\":2},\"scene\":{\"xaxis\":{\"backgroundcolor\":\"#E5ECF6\",\"gridcolor\":\"white\",\"linecolor\":\"white\",\"showbackground\":true,\"ticks\":\"\",\"zerolinecolor\":\"white\",\"gridwidth\":2},\"yaxis\":{\"backgroundcolor\":\"#E5ECF6\",\"gridcolor\":\"white\",\"linecolor\":\"white\",\"showbackground\":true,\"ticks\":\"\",\"zerolinecolor\":\"white\",\"gridwidth\":2},\"zaxis\":{\"backgroundcolor\":\"#E5ECF6\",\"gridcolor\":\"white\",\"linecolor\":\"white\",\"showbackground\":true,\"ticks\":\"\",\"zerolinecolor\":\"white\",\"gridwidth\":2}},\"shapedefaults\":{\"line\":{\"color\":\"#2a3f5f\"}},\"annotationdefaults\":{\"arrowcolor\":\"#2a3f5f\",\"arrowhead\":0,\"arrowwidth\":1},\"geo\":{\"bgcolor\":\"white\",\"landcolor\":\"#E5ECF6\",\"subunitcolor\":\"white\",\"showland\":true,\"showlakes\":true,\"lakecolor\":\"white\"},\"title\":{\"x\":0.05},\"mapbox\":{\"style\":\"light\"}}},\"legend\":{\"tracegroupgap\":0},\"title\":{\"text\":\"Unemployment Rate in India\"},\"height\":700,\"width\":700},                        {\"responsive\": true}                    ).then(function(){\n",
       "                            \n",
       "var gd = document.getElementById('aa94a402-4388-426b-9e87-e1cae41ed2fd');\n",
       "var x = new MutationObserver(function (mutations, observer) {{\n",
       "        var display = window.getComputedStyle(gd).display;\n",
       "        if (!display || display === 'none') {{\n",
       "            console.log([gd, 'removed!']);\n",
       "            Plotly.purge(gd);\n",
       "            observer.disconnect();\n",
       "        }}\n",
       "}});\n",
       "\n",
       "// Listen for the removal of the full notebook cells\n",
       "var notebookContainer = gd.closest('#notebook-container');\n",
       "if (notebookContainer) {{\n",
       "    x.observe(notebookContainer, {childList: true});\n",
       "}}\n",
       "\n",
       "// Listen for the clearing of the current output cell\n",
       "var outputEl = gd.closest('.output');\n",
       "if (outputEl) {{\n",
       "    x.observe(outputEl, {childList: true});\n",
       "}}\n",
       "\n",
       "                        })                };                });            </script>        </div>"
      ]
     },
     "metadata": {},
     "output_type": "display_data"
    }
   ],
   "source": [
    "unemp = df[[\"Region\",' Estimated Unemployment Rate (%)']]\n",
    "figure = px.sunburst(unemploment, path=[\"Region\"], \n",
    "                     values=' Estimated Unemployment Rate (%)',\n",
    "                     width=700, height=700, color_continuous_scale=\"RdY1Gn\", \n",
    "                     title=\"Unemployment Rate in India\")\n",
    "figure.show()"
   ]
  },
  {
   "cell_type": "markdown",
   "id": "c508a007",
   "metadata": {},
   "source": [
    "**Top Five State With High Unemployment Rate**\n",
    "\n",
    "**1.Haryana 274.77**\n",
    "\n",
    "**2.Tripura 250.55**\n",
    "\n",
    "**3.Bihar 194.71**\n",
    "\n",
    "**4.Himachal Pradesh 160.65**\n",
    "\n",
    "**5.Jammu & Kashmir 148.3**\n",
    "\n",
    "\n"
   ]
  },
  {
   "cell_type": "code",
   "execution_count": null,
   "id": "b31b23a0",
   "metadata": {},
   "outputs": [],
   "source": []
  }
 ],
 "metadata": {
  "kernelspec": {
   "display_name": "Python 3 (ipykernel)",
   "language": "python",
   "name": "python3"
  },
  "language_info": {
   "codemirror_mode": {
    "name": "ipython",
    "version": 3
   },
   "file_extension": ".py",
   "mimetype": "text/x-python",
   "name": "python",
   "nbconvert_exporter": "python",
   "pygments_lexer": "ipython3",
   "version": "3.9.13"
  }
 },
 "nbformat": 4,
 "nbformat_minor": 5
}
